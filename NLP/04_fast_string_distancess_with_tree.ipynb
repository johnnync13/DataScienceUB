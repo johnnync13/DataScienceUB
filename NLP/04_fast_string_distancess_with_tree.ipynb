{
 "cells": [
  {
   "cell_type": "markdown",
   "metadata": {},
   "source": [
    "# String distances\n",
    "\n",
    "\n"
   ]
  },
  {
   "cell_type": "code",
   "execution_count": 8,
   "metadata": {},
   "outputs": [
    {
     "name": "stdout",
     "output_type": "stream",
     "text": [
      "Collecting editdistance\n",
      "  Downloading editdistance-0.6.0-cp39-cp39-macosx_11_0_arm64.whl (19 kB)\n",
      "Installing collected packages: editdistance\n",
      "Successfully installed editdistance-0.6.0\n"
     ]
    }
   ],
   "source": [
    "!pip install editdistance"
   ]
  },
  {
   "cell_type": "code",
   "execution_count": 9,
   "metadata": {
    "ExecuteTime": {
     "end_time": "2022-03-09T06:42:49.335349Z",
     "start_time": "2022-03-09T06:42:49.328242Z"
    }
   },
   "outputs": [],
   "source": [
    "import nltk\n",
    "import numpy as np\n",
    "import pandas as pd\n",
    "import editdistance"
   ]
  },
  {
   "cell_type": "code",
   "execution_count": 10,
   "metadata": {
    "ExecuteTime": {
     "end_time": "2022-03-09T06:42:11.624350Z",
     "start_time": "2022-03-09T06:42:11.550595Z"
    }
   },
   "outputs": [],
   "source": [
    "words = nltk.corpus.words.words()"
   ]
  },
  {
   "cell_type": "code",
   "execution_count": 11,
   "metadata": {
    "ExecuteTime": {
     "end_time": "2022-03-09T06:42:12.455447Z",
     "start_time": "2022-03-09T06:42:12.149799Z"
    }
   },
   "outputs": [],
   "source": [
    "pd.DataFrame(words).to_csv(\"words_nltk.csv\")"
   ]
  },
  {
   "cell_type": "markdown",
   "metadata": {},
   "source": [
    "# BK tree\n",
    "\n",
    "## How to create a BK-tree\n",
    "\n",
    "- take any word from your set and use it in as your root node. Add word to the tree based on their distance to the root.\n",
    "\n",
    "\n",
    "### Example\n",
    "\n",
    "- Let us consider we started a tree with the word set [**book**, **books**, **cake**] then my tree would look like this if I started by making the word **book**:\n",
    "\n",
    "```\n",
    "       1 \n",
    "book ----- books\n",
    "    |\n",
    "    | 4\n",
    "    ----cake\n",
    "```\n",
    "\n",
    "- Add **boo**. Now we want to add the word **boo** which is at distace 1 from book. Notice though that there is already **book** at distance 1. The BK tree has to respect that every node have all children with different distances. If there is a colission (like we have now) then the new word must become a children of the node with which there was the colition. In this case, a children of **book**. The new weight from **books** to **boo** has to be `edit_dis(books,boo)=2`.\n",
    "\n",
    "```\n",
    "       1           2\n",
    "book ----- books ----- boo\n",
    "    |\n",
    "    | 4\n",
    "    ----cake\n",
    "```\n",
    "\n",
    "#### Adding [**cape**,**cart**,**boon**,**cook**].\n",
    "\n",
    "- Add **cape**. Notice `edit_dis(books,cape)=4` but **cake** is altready at distance 4. Therefore **cape** needs to be a child of **cake** with a weighted edge of weight `edit_dis(cake,cape)=1`.\n",
    "```\n",
    "       1           2\n",
    "book ----- books ----- boo\n",
    "    |\n",
    "    | 4        1  \n",
    "    ----cake ----- cape\n",
    "```\n",
    "\n",
    "- Add **cart**. Notice `edit_dis(books,cart)=4`. Therefore **cart** needs to be a children of **cake** (or any subchildren of cake). Since `edit_dis(cake,cart)=2` then :\n",
    "```\n",
    "       1           2\n",
    "book ----- books ----- boo\n",
    "    |\n",
    "    | 4        1  \n",
    "    ----cake ----- cape\n",
    "           |\n",
    "           | 2        \n",
    "           ----- cart\n",
    "```\n",
    "\n",
    "- Add **boon**. Notice  `edit_dis(book,boon)=1`. Therefore **boon** has to be a descendant of **books** (because books is a son of book with weight 1). Notice `edit_dis(books,boon)=2` but there is already node **boo** at distance 2. Therefore **boon** needs to be a descendant of **boo**. Notice `edit_dis(boo,boon)=1`.\n",
    "\n",
    "```\n",
    "       1           2         1\n",
    "book ----- books ----- boo ----- boon\n",
    "    |                   \n",
    "    | 4        1  \n",
    "    ----cake ----- cape\n",
    "           |\n",
    "           | 2        \n",
    "           ----- cart\n",
    "```\n",
    "\n",
    "- Add **cook**.  Notice  `edit_dis(book,cook)=1` but book contains a descendant at distance 1, books, so cook has to be a dascendant of books.  Notice  `edit_dis(books,cook)=2` but books has a descendant at distance 2, **boo**, so cook has to be a descendant of boo.   Notice  `edit_dis(boo,cook)=2` and boo has no other descendant at distance 2. Therefore we can add cook as descendant of boo with weight 2.\n",
    "\n",
    "```\n",
    "       1           2         1\n",
    "book ----- books ----- boo ----- boon\n",
    "    |                    |\n",
    "    |                    |  2\n",
    "    |                    ------ cook\n",
    "    | 4        1  \n",
    "    ----cake ----- cape\n",
    "           |\n",
    "           | 2        \n",
    "           ----- cart\n",
    "```\n"
   ]
  },
  {
   "cell_type": "markdown",
   "metadata": {},
   "source": [
    "## How to code a BK tree\n",
    "\n",
    "Now we would like to know how do we construct a bk-tree in python and store it. A natural way to store a tree is using many tuples concatenated. Since a tree \n",
    "\n",
    "\n",
    "\n",
    "\n",
    "##### Exercise: fill in the BKTree class to create a tree"
   ]
  },
  {
   "cell_type": "code",
   "execution_count": 12,
   "metadata": {
    "ExecuteTime": {
     "end_time": "2022-03-09T06:45:29.533561Z",
     "start_time": "2022-03-09T06:45:29.529711Z"
    }
   },
   "outputs": [],
   "source": [
    "edit_distance = editdistance.eval"
   ]
  },
  {
   "cell_type": "code",
   "execution_count": 19,
   "metadata": {},
   "outputs": [
    {
     "data": {
      "text/plain": [
       "1"
      ]
     },
     "execution_count": 19,
     "metadata": {},
     "output_type": "execute_result"
    }
   ],
   "source": [
    "edit_distance('abc', 'abb')"
   ]
  },
  {
   "cell_type": "code",
   "execution_count": 20,
   "metadata": {
    "ExecuteTime": {
     "end_time": "2022-03-09T06:45:30.314092Z",
     "start_time": "2022-03-09T06:45:30.306778Z"
    }
   },
   "outputs": [],
   "source": [
    "class BKTree:\n",
    "    def __init__(self, distfn, words):\n",
    "        self.distfn = distfn\n",
    "\n",
    "        it = iter(words)\n",
    "        root = next(it)\n",
    "        self.tree = (root, {})\n",
    "\n",
    "        for i in it:\n",
    "            self._add_word(self.tree, i)\n",
    "\n",
    "    def _add_word(self, parent, word):\n",
    "        pword, children = parent\n",
    "        d = self.distfn(word, pword)\n",
    "        \n",
    "        if d in children:\n",
    "            self._add_word(children[d], word)\n",
    "            \n",
    "        else:\n",
    "            children[d] = (word, {})        "
   ]
  },
  {
   "cell_type": "code",
   "execution_count": 21,
   "metadata": {
    "ExecuteTime": {
     "end_time": "2022-03-09T06:45:36.461112Z",
     "start_time": "2022-03-09T06:45:30.901122Z"
    }
   },
   "outputs": [
    {
     "name": "stdout",
     "output_type": "stream",
     "text": [
      "CPU times: user 2.23 s, sys: 65.3 ms, total: 2.3 s\n",
      "Wall time: 2.3 s\n"
     ]
    }
   ],
   "source": [
    "%%time\n",
    "t = BKTree(edit_distance, words)"
   ]
  },
  {
   "cell_type": "code",
   "execution_count": 22,
   "metadata": {
    "ExecuteTime": {
     "end_time": "2022-03-09T06:45:36.466636Z",
     "start_time": "2022-03-09T06:45:36.463333Z"
    },
    "scrolled": true
   },
   "outputs": [
    {
     "data": {
      "text/plain": [
       "2"
      ]
     },
     "execution_count": 22,
     "metadata": {},
     "output_type": "execute_result"
    }
   ],
   "source": [
    "len(t.tree)"
   ]
  },
  {
   "cell_type": "code",
   "execution_count": 26,
   "metadata": {
    "ExecuteTime": {
     "end_time": "2022-03-09T06:45:36.470733Z",
     "start_time": "2022-03-09T06:45:36.467951Z"
    }
   },
   "outputs": [],
   "source": [
    "branches_from_root = t.tree[1]\n",
    "branch_23          = branches_from_root[23]\n",
    "branch_24          = branches_from_root[24]"
   ]
  },
  {
   "cell_type": "code",
   "execution_count": 27,
   "metadata": {
    "ExecuteTime": {
     "end_time": "2022-03-09T06:45:56.443800Z",
     "start_time": "2022-03-09T06:45:56.437537Z"
    }
   },
   "outputs": [
    {
     "data": {
      "text/plain": [
       "24"
      ]
     },
     "execution_count": 27,
     "metadata": {},
     "output_type": "execute_result"
    }
   ],
   "source": [
    "len(branches_from_root)"
   ]
  },
  {
   "cell_type": "code",
   "execution_count": 28,
   "metadata": {
    "ExecuteTime": {
     "end_time": "2022-03-09T06:46:01.577157Z",
     "start_time": "2022-03-09T06:46:01.569874Z"
    }
   },
   "outputs": [
    {
     "data": {
      "text/plain": [
       "('anthropomorphologically',\n",
       " {20: ('blepharosphincterectomy', {16: ('epididymodeferentectomy', {})}),\n",
       "  21: ('formaldehydesulphoxylic',\n",
       "   {19: ('pericardiomediastinitis', {}),\n",
       "    22: ('Pseudolamellibranchiata', {2: ('pseudolamellibranchiate', {})}),\n",
       "    20: ('transubstantiationalist', {})}),\n",
       "  19: ('gastroenteroanastomosis',\n",
       "   {15: ('macracanthrorhynchiasis', {}),\n",
       "    17: ('pancreaticoduodenostomy', {}),\n",
       "    20: ('phenolsulphonephthalein', {})}),\n",
       "  18: ('hematospectrophotometer',\n",
       "   {22: ('scientificogeographical', {}), 19: ('thymolsulphonephthalein', {})}),\n",
       "  13: ('pathologicohistological', {}),\n",
       "  14: ('philosophicotheological', {})})"
      ]
     },
     "execution_count": 28,
     "metadata": {},
     "output_type": "execute_result"
    }
   ],
   "source": [
    "branch_23"
   ]
  },
  {
   "cell_type": "code",
   "execution_count": 29,
   "metadata": {
    "ExecuteTime": {
     "end_time": "2022-03-09T06:46:02.075526Z",
     "start_time": "2022-03-09T06:46:02.069703Z"
    }
   },
   "outputs": [
    {
     "data": {
      "text/plain": [
       "('formaldehydesulphoxylate',\n",
       " {21: ('pathologicopsychological', {}),\n",
       "  22: ('scientificophilosophical', {}),\n",
       "  18: ('tetraiodophenolphthalein', {}),\n",
       "  20: ('thyroparathyroidectomize', {})})"
      ]
     },
     "execution_count": 29,
     "metadata": {},
     "output_type": "execute_result"
    }
   ],
   "source": [
    "branch_24"
   ]
  },
  {
   "cell_type": "markdown",
   "metadata": {},
   "source": [
    "## Searching in a BK tree\n",
    "\n",
    "Now in order to search all words that appear at distance less or equal than a tolerance T form a query word `q` we need to visit all nodes n that are at distance D(n,q)+-N.\n",
    "\n",
    "Let us consider word q=caqe, T=1, candidates = [], search=[book]\n",
    "\n",
    "Select candidate **book** from search=[book]\n",
    "- edit_dist(book,caqe) = 4 => candidates is not updated\n",
    "    - Crawl all children of book at distance I=[4-1,4+1]=[3,5]\n",
    "    - There is a single node, search=[book,cake], inside I.\n",
    "    - search = [book,cake]\\book = [cake]\n",
    "    \n",
    "Select candidate **cake** from search=[cake]\n",
    "- edit_dist(cake,caqe) = 1 => candidates =[cake]\n",
    "    - Crawl all children of book at distance I=[1-1,1+1]=[0,2]\n",
    "    - There are 2 possible nodes, search=[cape, cart]\n",
    "\n",
    "\n",
    "Select candidate **cape** from search=[cape,cart]\n",
    "- edit_dist(cape,caqe) = 1 => candidates =[cake, cape]\n",
    "    - Crawl all children of cape at distance I=[1-1,1+1]=[0,2]\n",
    "    - Cape has no children\n",
    "    - search = [cape, cart]\\cape = [cart]\n",
    "    \n",
    "    \n",
    "Select candidate **cart** from search=[cart]\n",
    "- edit_dist(cart,caqe) = 2 => candidates is not updated\n",
    "    - Crawl all children of cape at distance I=[1-1,1+1]=[0,2]\n",
    "    - Caqe has no children\n",
    "    - search = [cart]\\cart = []\n",
    "\n",
    "\n",
    "Select candidate... There is no candidate! stop process. \n",
    "\n",
    "The resulting set of possible candidates at distance 1 are: [cape,cake].\n",
    "\n",
    "Notice that we ended up computing 4 edit distances yet we have 8 nodes.\n",
    "\n"
   ]
  },
  {
   "cell_type": "markdown",
   "metadata": {},
   "source": [
    "### Making queries "
   ]
  },
  {
   "cell_type": "code",
   "execution_count": 30,
   "metadata": {
    "ExecuteTime": {
     "end_time": "2022-03-09T06:46:51.338835Z",
     "start_time": "2022-03-09T06:46:51.328112Z"
    }
   },
   "outputs": [],
   "source": [
    "visited_nodes = []\n",
    "class BKTree:\n",
    "    def __init__(self, distfn, words):\n",
    "        self.distfn = distfn\n",
    "\n",
    "        it = iter(words)\n",
    "        root = next(it)\n",
    "        self.tree = (root, {})\n",
    "\n",
    "        for i in it:\n",
    "            self._add_word(self.tree, i)\n",
    "\n",
    "    def _add_word(self, parent, word):\n",
    "        pword, children = parent\n",
    "        d = self.distfn(word, pword)\n",
    "        \n",
    "        if d in children:\n",
    "            self._add_word(children[d], word)\n",
    "            \n",
    "        else:\n",
    "            children[d] = (word, {})       \n",
    "        \n",
    "    def _search_descendants(self, parent, n, distance, query_word):\n",
    "        \n",
    "        node_word, children_dict = parent\n",
    "        dist_to_node = distance(query_word, node_word)\n",
    "        visited_nodes.append(node_word)\n",
    "        results = []\n",
    "        if dist_to_node <= n:\n",
    "            results.append((dist_to_node, node_word))\n",
    "        \n",
    "        # TODO BEGIN ------------------------------------------\n",
    "        \n",
    "        for i in range(dist_to_node - n, dist_to_node + n):\n",
    "            child = children_dict.get(i)\n",
    "            if child is not None:\n",
    "                results.extend(self._search_descendants(child, n, distance, query_word))\n",
    "        \n",
    "        # TODO END --------------------------------------------\n",
    "\n",
    "          \n",
    "        return results\n",
    "            \n",
    "    def query(self, query_word, n):\n",
    "        # sort by distance\n",
    "        return sorted(self._search_descendants(self.tree, n, self.distfn, query_word))"
   ]
  },
  {
   "cell_type": "code",
   "execution_count": 31,
   "metadata": {
    "ExecuteTime": {
     "end_time": "2022-03-09T06:46:58.898508Z",
     "start_time": "2022-03-09T06:46:53.871807Z"
    }
   },
   "outputs": [
    {
     "name": "stdout",
     "output_type": "stream",
     "text": [
      "CPU times: user 2.08 s, sys: 54.5 ms, total: 2.14 s\n",
      "Wall time: 2.17 s\n"
     ]
    }
   ],
   "source": [
    "%%time\n",
    "t = BKTree(edit_distance,words)"
   ]
  },
  {
   "cell_type": "code",
   "execution_count": 32,
   "metadata": {
    "ExecuteTime": {
     "end_time": "2022-03-09T06:46:58.923791Z",
     "start_time": "2022-03-09T06:46:58.900832Z"
    },
    "scrolled": true
   },
   "outputs": [
    {
     "name": "stdout",
     "output_type": "stream",
     "text": [
      "[(1, 'sensorial')]\n",
      "CPU times: user 621 µs, sys: 29 µs, total: 650 µs\n",
      "Wall time: 655 µs\n"
     ]
    }
   ],
   "source": [
    "%%time\n",
    "visited_nodes = []\n",
    "print(t.query(\"senzorial\", 1))"
   ]
  },
  {
   "cell_type": "code",
   "execution_count": 33,
   "metadata": {
    "ExecuteTime": {
     "end_time": "2022-03-09T06:46:58.931234Z",
     "start_time": "2022-03-09T06:46:58.926459Z"
    },
    "scrolled": true
   },
   "outputs": [
    {
     "data": {
      "text/plain": [
       "(402, 236736)"
      ]
     },
     "execution_count": 33,
     "metadata": {},
     "output_type": "execute_result"
    }
   ],
   "source": [
    "len(visited_nodes), len(words)"
   ]
  },
  {
   "cell_type": "markdown",
   "metadata": {},
   "source": [
    "Compare it with the nltk.edit_distance"
   ]
  },
  {
   "cell_type": "code",
   "execution_count": 34,
   "metadata": {
    "ExecuteTime": {
     "end_time": "2022-03-09T06:49:39.049240Z",
     "start_time": "2022-03-09T06:47:05.632090Z"
    }
   },
   "outputs": [
    {
     "name": "stdout",
     "output_type": "stream",
     "text": [
      "CPU times: user 1min 32s, sys: 318 ms, total: 1min 32s\n",
      "Wall time: 1min 32s\n"
     ]
    }
   ],
   "source": [
    "%%time\n",
    "t_nltk = BKTree(nltk.distance.edit_distance, words)"
   ]
  },
  {
   "cell_type": "code",
   "execution_count": 35,
   "metadata": {
    "ExecuteTime": {
     "end_time": "2022-03-09T06:49:39.495715Z",
     "start_time": "2022-03-09T06:49:39.051344Z"
    }
   },
   "outputs": [
    {
     "name": "stdout",
     "output_type": "stream",
     "text": [
      "CPU times: user 17.8 ms, sys: 379 µs, total: 18.2 ms\n",
      "Wall time: 17.9 ms\n"
     ]
    },
    {
     "data": {
      "text/plain": [
       "[(1, 'sensorial')]"
      ]
     },
     "execution_count": 35,
     "metadata": {},
     "output_type": "execute_result"
    }
   ],
   "source": [
    "%%time\n",
    "t_nltk.query(\"senzorial\", 1)"
   ]
  },
  {
   "cell_type": "markdown",
   "metadata": {},
   "source": [
    "### Comparing exhaustive computation vs bktree with the same edit distance function"
   ]
  },
  {
   "cell_type": "code",
   "execution_count": 54,
   "metadata": {
    "ExecuteTime": {
     "end_time": "2022-03-09T06:55:40.172136Z",
     "start_time": "2022-03-09T06:55:40.164862Z"
    }
   },
   "outputs": [],
   "source": [
    "from typing import List\n",
    "\n",
    "def get_candidates_exhaustive(query:str , max_dist: int, vocabulary: List[str], sort_candidates=True):\n",
    "    \"\"\"\n",
    "    Compute the candidate words from the vocabulary at most `max_dist` away from the input token.\n",
    "    Then it filters candidates by the computed values in the distance function.\n",
    "    This function is mainly used for benchmarking purposes.\n",
    "    :return: list of candidate words.\n",
    "    \"\"\"\n",
    "    query = query.lower()\n",
    "    distance_token_to_words = {\n",
    "        word: edit_distance(query, word) for word in vocabulary\n",
    "    }\n",
    "    min_dist = min(distance_token_to_words.values())\n",
    "    if min_dist <= max_dist:\n",
    "        if sort_candidates:\n",
    "            result = sorted(\n",
    "                [\n",
    "                    (distance, word)\n",
    "                    for word, distance in distance_token_to_words.items()\n",
    "                    if distance <= max_dist\n",
    "                ]\n",
    "            )\n",
    "        else:\n",
    "            result = [\n",
    "                word\n",
    "                for word, distance in distance_token_to_words.items()\n",
    "                if distance <= max_dist\n",
    "            ]\n",
    "        return result"
   ]
  },
  {
   "cell_type": "code",
   "execution_count": 61,
   "metadata": {
    "ExecuteTime": {
     "end_time": "2022-03-09T06:58:22.961887Z",
     "start_time": "2022-03-09T06:58:22.415995Z"
    }
   },
   "outputs": [
    {
     "data": {
      "text/plain": [
       "[(1, 'haler'),\n",
       " (1, 'hame'),\n",
       " (1, 'hamel'),\n",
       " (1, 'hammer'),\n",
       " (1, 'hamper'),\n",
       " (1, 'harmer'),\n",
       " (1, 'hater'),\n",
       " (1, 'haver'),\n",
       " (1, 'hawer'),\n",
       " (1, 'hazer'),\n",
       " (1, 'homer'),\n",
       " (1, 'namer'),\n",
       " (1, 'shamer'),\n",
       " (1, 'tamer')]"
      ]
     },
     "execution_count": 61,
     "metadata": {},
     "output_type": "execute_result"
    }
   ],
   "source": [
    "word = \"hamer\"\n",
    "max_dist = 1\n",
    "sort_candidates=True\n",
    "        \n",
    "candidates_ext = get_candidates_exhaustive(word, max_dist, words, sort_candidates)\n",
    "candidates_ext"
   ]
  },
  {
   "cell_type": "markdown",
   "metadata": {},
   "source": [
    "Notice that we have an issue with \"hamer\" since it is (in edit distance) as close as \"hammer\"  than \"haler\".\n",
    "\n",
    "We would like to, somehow, choose wisely among a set of candidates."
   ]
  },
  {
   "cell_type": "code",
   "execution_count": 56,
   "metadata": {
    "ExecuteTime": {
     "end_time": "2022-03-09T06:55:44.356576Z",
     "start_time": "2022-03-09T06:55:44.333256Z"
    }
   },
   "outputs": [
    {
     "data": {
      "text/plain": [
       "[(1, 'haler'),\n",
       " (1, 'hame'),\n",
       " (1, 'hamel'),\n",
       " (1, 'hammer'),\n",
       " (1, 'hammer'),\n",
       " (1, 'hamper'),\n",
       " (1, 'harmer'),\n",
       " (1, 'hater'),\n",
       " (1, 'haver'),\n",
       " (1, 'hawer'),\n",
       " (1, 'hazer'),\n",
       " (1, 'homer'),\n",
       " (1, 'namer'),\n",
       " (1, 'shamer'),\n",
       " (1, 'tamer')]"
      ]
     },
     "execution_count": 56,
     "metadata": {},
     "output_type": "execute_result"
    }
   ],
   "source": [
    "candidates_bktree = t.query(\"hamer\", 1)\n",
    "candidates_bktree"
   ]
  },
  {
   "cell_type": "code",
   "execution_count": 60,
   "metadata": {
    "ExecuteTime": {
     "end_time": "2022-03-09T06:56:53.346542Z",
     "start_time": "2022-03-09T06:56:41.602234Z"
    }
   },
   "outputs": [
    {
     "name": "stdout",
     "output_type": "stream",
     "text": [
      "468 ms ± 37.7 ms per loop (mean ± std. dev. of 7 runs, 1 loop each)\n",
      "9.78 ms ± 146 µs per loop (mean ± std. dev. of 7 runs, 100 loops each)\n"
     ]
    }
   ],
   "source": [
    "%timeit  get_candidates_exhaustive(word, max_dist, words, sort_candidates)\n",
    "%timeit  t.query(word, 1)"
   ]
  },
  {
   "cell_type": "markdown",
   "metadata": {},
   "source": [
    "\n",
    "### Correcting a pharse\n",
    "\n",
    "Notice that there are several words at the same distance. Picking the correct word is not the aim for today's class. The aim is to find a small list that contains the correct word."
   ]
  },
  {
   "cell_type": "code",
   "execution_count": 86,
   "metadata": {
    "ExecuteTime": {
     "end_time": "2022-03-09T07:03:42.215947Z",
     "start_time": "2022-03-09T07:03:42.212448Z"
    }
   },
   "outputs": [],
   "source": [
    "phrase = \"the man wentt to the storr to buy a hamer and some nails\""
   ]
  },
  {
   "cell_type": "code",
   "execution_count": 87,
   "metadata": {
    "ExecuteTime": {
     "end_time": "2022-03-09T07:03:44.531949Z",
     "start_time": "2022-03-09T07:03:42.385839Z"
    }
   },
   "outputs": [
    {
     "name": "stdout",
     "output_type": "stream",
     "text": [
      "Original:    the man wentt to the storr to buy a hamer and some nails\n",
      "Corrected:   the man went to the store to buy a haler and some nail\n",
      "\n",
      "Timming\n",
      "CPU times: user 2.1 s, sys: 19.6 ms, total: 2.12 s\n",
      "Wall time: 2.14 s\n"
     ]
    }
   ],
   "source": [
    "%%time\n",
    "correction = []\n",
    "for w in phrase.split(\" \"):\n",
    "    if w in words:\n",
    "        correction.append(w)\n",
    "    else:\n",
    "        w_similar = get_candidates_exhaustive(w, 2, words, True)\n",
    "        #import pdb;pdb.set_trace()\n",
    "        if len(w_similar)>0:\n",
    "            w_corrected = w_similar[0][1]\n",
    "            correction.append(w_corrected)\n",
    "        else:\n",
    "            # no word found, simply append the unedited word\n",
    "            correction.append(w)\n",
    "\n",
    "print(\"Original:   \",phrase)\n",
    "print(\"Corrected:  \",\" \".join(correction))\n",
    "print(\"\\nTimming\")"
   ]
  },
  {
   "cell_type": "code",
   "execution_count": 88,
   "metadata": {
    "ExecuteTime": {
     "end_time": "2022-03-09T07:03:48.969635Z",
     "start_time": "2022-03-09T07:03:48.618385Z"
    }
   },
   "outputs": [
    {
     "name": "stdout",
     "output_type": "stream",
     "text": [
      "Original:    the man wentt to the storr to buy a hamer and some nails\n",
      "Corrected:   the man went to the store to buy a haler and some nail\n",
      "\n",
      "Timming\n",
      "CPU times: user 339 ms, sys: 6.06 ms, total: 345 ms\n",
      "Wall time: 346 ms\n"
     ]
    }
   ],
   "source": [
    "%%time\n",
    "correction = []\n",
    "for w in phrase.split(\" \"):\n",
    "    if w in words:\n",
    "        correction.append(w)\n",
    "    else:\n",
    "        w_similar = t.query(w,2)\n",
    "        #import pdb;pdb.set_trace()\n",
    "        if len(w_similar)>0:\n",
    "            w_corrected = w_similar[0][1]\n",
    "            correction.append(w_corrected)\n",
    "        else:\n",
    "            # no word found, simply append the unedited word\n",
    "            correction.append(w)\n",
    "\n",
    "\n",
    "print(\"Original:   \",phrase)\n",
    "print(\"Corrected:  \",\" \".join(correction))\n",
    "print(\"\\nTimming\")"
   ]
  },
  {
   "cell_type": "code",
   "execution_count": null,
   "metadata": {},
   "outputs": [],
   "source": []
  }
 ],
 "metadata": {
  "kernelspec": {
   "display_name": "Python 3 (ipykernel)",
   "language": "python",
   "name": "python3"
  },
  "language_info": {
   "codemirror_mode": {
    "name": "ipython",
    "version": 3
   },
   "file_extension": ".py",
   "mimetype": "text/x-python",
   "name": "python",
   "nbconvert_exporter": "python",
   "pygments_lexer": "ipython3",
   "version": "3.9.10"
  },
  "toc": {
   "base_numbering": 1,
   "nav_menu": {},
   "number_sections": true,
   "sideBar": true,
   "skip_h1_title": false,
   "title_cell": "Table of Contents",
   "title_sidebar": "Contents",
   "toc_cell": false,
   "toc_position": {},
   "toc_section_display": true,
   "toc_window_display": false
  },
  "varInspector": {
   "cols": {
    "lenName": 16,
    "lenType": 16,
    "lenVar": 40
   },
   "kernels_config": {
    "python": {
     "delete_cmd_postfix": "",
     "delete_cmd_prefix": "del ",
     "library": "var_list.py",
     "varRefreshCmd": "print(var_dic_list())"
    },
    "r": {
     "delete_cmd_postfix": ") ",
     "delete_cmd_prefix": "rm(",
     "library": "var_list.r",
     "varRefreshCmd": "cat(var_dic_list()) "
    }
   },
   "types_to_exclude": [
    "module",
    "function",
    "builtin_function_or_method",
    "instance",
    "_Feature"
   ],
   "window_display": false
  }
 },
 "nbformat": 4,
 "nbformat_minor": 4
}
