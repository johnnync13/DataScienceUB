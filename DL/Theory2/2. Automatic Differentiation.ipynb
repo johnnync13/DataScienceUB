{
  "nbformat": 4,
  "nbformat_minor": 0,
  "metadata": {
    "colab": {
      "name": "2. Automatic Differentiation.ipynb",
      "provenance": [],
      "include_colab_link": true
    },
    "kernelspec": {
      "name": "python3",
      "display_name": "Python 3"
    },
    "accelerator": "GPU"
  },
  "cells": [
    {
      "cell_type": "markdown",
      "metadata": {
        "id": "view-in-github",
        "colab_type": "text"
      },
      "source": [
        "<a href=\"https://colab.research.google.com/github/DataScienceUB/DeepLearningMaster20192020/blob/master/2.%20Automatic%20Differentiation.ipynb\" target=\"_parent\"><img src=\"https://colab.research.google.com/assets/colab-badge.svg\" alt=\"Open In Colab\"/></a>"
      ]
    },
    {
      "cell_type": "markdown",
      "metadata": {
        "id": "IyuBmjJqKxBc",
        "colab_type": "text"
      },
      "source": [
        "# How to learn DL models?\n",
        "\n",
        "> The **backpropagation** algorithm was originally introduced in the 1970s, but its importance wasn't fully appreciated until a famous 1986 paper by David Rumelhart, Geoffrey Hinton, and Ronald Williams.\n",
        "\n",
        "> **Backpropagation** is the key algorithm that makes training deep models computationally tractable. For modern neural networks, it can make training with gradient descent as much as ten million times faster, relative to a naive implementation. That’s the difference between a model taking a week to train and taking 200,000 years. (Christopher Olah, 2016)\n",
        "\n",
        "We have seen that in order to optimize our models we need to compute the derivative of the loss function with respect to all model paramaters. For example, given:\n",
        "\n",
        "$$ L(y, f_{\\mathbf w}(\\mathbf{x})) = \\frac{1}{n} \\sum_i (y_i - f_{\\mathbf w}(\\mathbf{x}_i))^2  $$\n",
        "\n",
        "where ${\\mathbf w} = (w_1, w_2, \\dots, w_m)$, we need to compute:\n",
        "\n",
        "$$\n",
        "\\frac{\\delta L}{\\delta w_i}\n",
        "$$\n",
        "\n",
        "The computation of derivatives in computer models is addressed by four main methods: \n",
        "\n",
        "+ Manually working out derivatives and coding the result (as in the original paper describing backpropagation); \n",
        "\n",
        "![alt text](https://github.com/DataScienceUB/DeepLearningMaster2019/blob/master/images/back.png?raw=1)\n",
        "\n",
        "\n",
        "+ Numerical differentiation (using finite difference approximations); \n",
        "+ Symbolic differentiation (using expression manipulation in software, such as Sympy); \n",
        "+ and Automatic differentiation (AD).\n",
        "\n",
        "## Automatic differentiation\n",
        "\n",
        "**Automatic differentiation** (AD) works by systematically applying the **chain rule** of differential calculus at the elementary operator level.\n",
        "\n",
        "Let $ y = f(g(x)) $ our target function. In its basic form, the chain rule states:\n",
        "\n",
        "$$ \\frac{\\partial f}{\\partial x} = \\frac{\\partial f}{\\partial g} \\frac{\\partial g}{\\partial x} $$\n",
        "\n",
        "or, if there are more than one variable $g_i$ in-between $y$ and $x$ (f.e. if $f$ is a two dimensional function such as $f(g_1(x), g_2(x))$), then:\n",
        "\n",
        "$$ \\frac{\\partial f}{\\partial x} = \\sum_i \\frac{\\partial f}{\\partial g_i} \\frac{\\partial g_i}{\\partial x} $$\n",
        "\n",
        "> See https://www.math.hmc.edu/calculus/tutorials/multichainrule/\n",
        "\n",
        "Now, **let's see how AD allows the accurate evaluation of derivatives at machine precision**, with only a small constant factor of overhead.\n",
        "\n",
        "In its most basic description, AD relies on the fact that all numerical computations\n",
        "are ultimately compositions of a finite set of elementary operations for which derivatives are known."
      ]
    },
    {
      "cell_type": "markdown",
      "metadata": {
        "id": "HRNAJqxYKxBf",
        "colab_type": "text"
      },
      "source": [
        "For example, let's consider the computation of the derivative of this function, that represents a 1-layer neural network model:\n",
        "\n",
        "$$\n",
        "    f(x) = \\frac{1}{1 + e^{- ({w}^T \\cdot  x + b)}} \n",
        "$$\n",
        "\n",
        "\n",
        "First, let's write how to evaluate $f(x)$ via a sequence of primitive operations:\n",
        "\n",
        "\n",
        "```python\n",
        "x = ?  # This is an arbitrary point\n",
        "f1 = w * x\n",
        "f2 = f1 + b\n",
        "f3 = -f2\n",
        "f4 = 2.718281828459 ** f3\n",
        "f5 = 1.0 + f4\n",
        "f = 1.0/f5\n",
        "```\n",
        "\n",
        "The question mark indicates that $x$ is a value that must be provided. \n",
        "\n",
        "This *program* can compute the value of $f(x)$ and also **populate program variables**. \n",
        "\n",
        "By using this sequence, we can evaluate $\\frac{\\partial f}{\\partial x}$ at any $x$ by using the chain rule. This is called *forward-mode differentiation*. \n",
        "\n",
        "In our case:"
      ]
    },
    {
      "cell_type": "code",
      "metadata": {
        "id": "xuWlp5RzKxBg",
        "colab_type": "code",
        "outputId": "7be084e4-7745-46b8-8ac4-0f3a2768a0b0",
        "colab": {
          "base_uri": "https://localhost:8080/",
          "height": 69
        }
      },
      "source": [
        "def f(x,w,b):\n",
        "    f1 = w * x\n",
        "    f2 = f1 + b\n",
        "    f3 = -f2\n",
        "    f4 = 2.718281828459 ** f3\n",
        "    f5 = 1.0 + f4\n",
        "    return 1.0/f5\n",
        "\n",
        "def dfdx_forward(x, w, b):\n",
        "    f1 = w * x\n",
        "    p1 = w                            # p1 = df1/dx\n",
        "    f2 = f1 + b\n",
        "    p2 = p1 * 1.0                     # p2 = p1 * df2/df1 \n",
        "    f3 = -f2\n",
        "    p3 = p2 * -1.0                    # p3 = p2 * df3/df2\n",
        "    f4 = 2.718281828459 ** f3\n",
        "    p4 = p3 * 2.718281828459 ** f3    # p4 = p3 * df4/df3\n",
        "    f5 = 1.0 + f4\n",
        "    p5 = p4 * 1.0                     # p5 = p4 * df5/df4\n",
        "    f6 = 1.0/f5\n",
        "    dfx = p5 * -1.0 / f5 ** 2.0        # df/dx = p5 * df6/df5\n",
        "    return f6, dfx\n",
        "\n",
        "der = (f(3+0.00001, 2, 1) - f(3, 2, 1))/0.00001\n",
        "\n",
        "print(\"Value of the function at (3, 2, 1): \",f(3, 2, 1))\n",
        "print(\"df/dx Derivative (fin diff) at (3, 2, 1): \",der)\n",
        "print(\"df/dx Derivative (aut diff) at (3, 2, 1): \",dfdx_forward(3, 2, 1)[1])"
      ],
      "execution_count": 0,
      "outputs": [
        {
          "output_type": "stream",
          "text": [
            "Value of the function at (3, 2, 1):  0.9990889488055992\n",
            "df/dx Derivative (fin diff) at (3, 2, 1):  0.0018204242002717306\n",
            "df/dx Derivative (aut diff) at (3, 2, 1):  0.0018204423602438651\n"
          ],
          "name": "stdout"
        }
      ]
    },
    {
      "cell_type": "markdown",
      "metadata": {
        "id": "2cdOSRU0KxBn",
        "colab_type": "text"
      },
      "source": [
        "It is interesting to note that this *program* can be automatically derived  if we have access to **subroutines implementing the derivatives of primitive functions** (such as $\\exp{(x)}$ or $1/x$) and all intermediate variables are computed in the right order. \n",
        "\n",
        "It is also interesting to note that AD allows the accurate evaluation of derivatives at **machine precision**, with only a small constant factor of overhead.\n",
        "\n"
      ]
    },
    {
      "cell_type": "markdown",
      "metadata": {
        "id": "dY5UTgP3KxBo",
        "colab_type": "text"
      },
      "source": [
        "> **Exercise**: Write an automatic differentiation program to compute $\\partial f/ \\partial w$ and $\\partial f/\\partial b$."
      ]
    },
    {
      "cell_type": "code",
      "metadata": {
        "id": "cnQMZuwjKxBp",
        "colab_type": "code",
        "outputId": "3a2392a9-8b68-44fc-ce9e-0cbab5e517f0",
        "colab": {
          "base_uri": "https://localhost:8080/",
          "height": 87
        }
      },
      "source": [
        "def f(x,w,b):\n",
        "    f1 = w * x\n",
        "    f2 = f1 + b\n",
        "    f3 = -f2\n",
        "    f4 = 2.718281828459 ** f3\n",
        "    f5 = 1.0 + f4\n",
        "    return 1.0/f5\n",
        "\n",
        "# solution code\n",
        "\n",
        "def dfdx_forward_w(x, w, b):\n",
        "    pass\n",
        "\n",
        "def dfdx_forward_b(x, w, b):\n",
        "    pass\n",
        "\n",
        "print(\"df/dw Derivative (aut diff) at (3, 2, 1): \",\n",
        "      dfdx_forward_w(3, 2, 1))\n",
        "print(\"df/db Derivative (aut diff) at (3, 2, 1): \",\n",
        "      dfdx_forward_b(3, 2, 1))\n",
        "\n",
        "# approximate results (just for checking)\n",
        "\n",
        "derw = (f(3, 2+0.00001, 1) - f(3, 2, 1))/0.00001\n",
        "derb = (f(3, 2, 1+0.00001) - f(3, 2, 1))/0.00001\n",
        "\n",
        "print(\"df/dw Derivative (fin diff) at (3, 2, 1): \",derw)\n",
        "print(\"df/db Derivative (fin diff) at (3, 2, 1): \",derb)\n"
      ],
      "execution_count": 0,
      "outputs": [
        {
          "output_type": "stream",
          "text": [
            "df/dw Derivative (aut diff) at (3, 2, 1):  None\n",
            "df/db Derivative (aut diff) at (3, 2, 1):  None\n",
            "df/dw Derivative (fin diff) at (3, 2, 1):  0.0027306226724199685\n",
            "df/db Derivative (fin diff) at (3, 2, 1):  0.0009102166464991511\n"
          ],
          "name": "stdout"
        }
      ]
    },
    {
      "cell_type": "markdown",
      "metadata": {
        "id": "D-2EJLmpKxBt",
        "colab_type": "text"
      },
      "source": [
        "Forward differentiation is efficient for functions $f : \\mathbb{R}^n \\rightarrow \\mathbb{R}^m$ with $n << m$ (only $O(n)$ sweeps are necessary).  This is not the case of neural networks!\n",
        "\n",
        "For cases $n >> m$ a different technique is needed. To this end, we will rewrite the chain rule as:\n",
        "\n",
        "$$\n",
        "\\frac{\\partial f}{\\partial x} = \\frac{\\partial g}{\\partial x} \\frac{\\partial f}{\\partial g}\n",
        "$$\n",
        "\n",
        "to propagate derivatives backward from a given output. This is called *reverse-mode differentiation*. Reverse pass starts at the end (i.e. $\\frac{\\partial f}{\\partial f} = 1$) and propagates backward to all dependencies."
      ]
    },
    {
      "cell_type": "code",
      "metadata": {
        "id": "af4RMYaIKxBu",
        "colab_type": "code",
        "outputId": "bd858897-e072-4c76-d0b4-55aa98e63715",
        "colab": {
          "base_uri": "https://localhost:8080/",
          "height": 35
        }
      },
      "source": [
        "def dfdx_backward(x, w, b):\n",
        "    \n",
        "    import numpy as np\n",
        "    f1 = w * x\n",
        "    f2 = f1 + b\n",
        "    f3 = -f2\n",
        "    f4 = 2.718281828459 ** f3\n",
        "    f5 = 1.0 + f4\n",
        "    f = 1.0/f5\n",
        "    \n",
        "    pf = 1.0                           # pf = df/df\n",
        "    p5 = 1.0 * -1.0 / (f5 * f5)        # p5 = pf * df/df5 \n",
        "    p4 = p5 * 1.0                      # p4 = p5 * df5/df4\n",
        "    p3 = p4 * np.log(2.718281828459) \\\n",
        "          * 2.718281828459 ** f3       # p3 = p4 * df4/df3\n",
        "    p2 = p3 * -1.0                     # p2 = p3 * df3/df2\n",
        "    p1 = p2 * 1.0                      # p1 = p2 * df2/df1\n",
        "    dfx = p1 * w                       # df/dx = p1 * df1/dx \n",
        "    \n",
        "    return f, dfx\n",
        "\n",
        "print(\"df/dx Derivative (aut diff) at (3, 2, 1): \",\n",
        "      dfdx_backward(3, 2, 1)[1])"
      ],
      "execution_count": 0,
      "outputs": [
        {
          "output_type": "stream",
          "text": [
            "df/dx Derivative (aut diff) at (3, 2, 1):  0.0018204423602438348\n"
          ],
          "name": "stdout"
        }
      ]
    },
    {
      "cell_type": "markdown",
      "metadata": {
        "id": "bFds_nWeKxBy",
        "colab_type": "text"
      },
      "source": [
        "> **Exercise**:  Write an automatic differentiation program to compute $\\partial f/ \\partial w$ and $\\partial f/\\partial b$."
      ]
    },
    {
      "cell_type": "code",
      "metadata": {
        "id": "KGz7dXuVKxBz",
        "colab_type": "code",
        "colab": {}
      },
      "source": [
        "# solution code\n",
        "\n",
        "def dfdx_backward(x, w, b):\n",
        "    pass"
      ],
      "execution_count": 0,
      "outputs": []
    },
    {
      "cell_type": "markdown",
      "metadata": {
        "id": "f0I-yLHWKxB6",
        "colab_type": "text"
      },
      "source": [
        "In practice, reverse-mode differentiation is a two-stage process. In the first stage the original function code is run forward, populating $f_i$ variables. In the second stage, derivatives are calculated by propagating in reverse, from the outputs to the inputs.\n",
        "\n",
        "The most important property of reverse-mode differentiation is that it is **cheaper than forward-mode differentiation for functions with a high number of input variables**. In our case, $f : \\mathbb{R}^n \\rightarrow \\mathbb{R}$, only one application of the reverse mode is sufficient to compute the full gradient of the function $\\nabla f = \\big( \\frac{\\partial y}{\\partial x_1}, \\dots ,\\frac{\\partial y}{\\partial x_n} \\big)$. This is the case of deep learning, where the number of input variables is very high. \n",
        "\n",
        "> As we have seen, AD relies on the fact that all numerical computations\n",
        "are ultimately compositions of a finite set of elementary operations for which derivatives are known. \n",
        "\n",
        "> For this reason, given a library of derivatives of all elementary functions in a deep neural network, we are able of computing the derivatives of the network with respect to all parameters at machine precision and applying stochastic gradient methods to its training. Without this automation process the design and debugging of optimization processes for complex neural networks with millions of parameters would be impossible. "
      ]
    },
    {
      "cell_type": "markdown",
      "metadata": {
        "id": "0jadWz_IKxB7",
        "colab_type": "text"
      },
      "source": [
        "## Autograd\n",
        "\n",
        "Autograd is a Python module (with only one function) that implements automatic differentiation.\n",
        "\n",
        "Autograd can automatically differentiate Python and Numpy code:\n",
        "\n",
        "+ It can handle most of Python’s features, including loops, if statements, recursion and closures.\n",
        "+ Autograd allows you to compute gradients of many types of data structures (Any nested combination of lists, tuples, arrays, or dicts).\n",
        "+ It can also compute higher-order derivatives.\n",
        "+ Uses reverse-mode differentiation (backpropagation) so it can efficiently take gradients of scalar-valued functions with respect to array-valued or vector-valued arguments.\n",
        "+ You can easily implement your custim gradients (good for speed, numerical stability, non-compliant code, etc)."
      ]
    },
    {
      "cell_type": "code",
      "metadata": {
        "id": "Eao5AQjiKxB8",
        "colab_type": "code",
        "outputId": "7d304015-4651-4150-dbc8-d2b97661a59f",
        "colab": {
          "base_uri": "https://localhost:8080/",
          "height": 52
        }
      },
      "source": [
        "import autograd.numpy as np\n",
        "from autograd import grad\n",
        "\n",
        "x1 = np.array([2, 2], dtype=float)\n",
        "x2 = np.array([5, 2], dtype=float)\n",
        "\n",
        "def test(x):\n",
        "    if x[0]>3:\n",
        "        return np.log(x[0]) + x[0]*x[1] - np.sin(x[1])\n",
        "    else:\n",
        "        return np.log(x[0]) + x[0]*x[1] + np.sin(x[1])\n",
        "      \n",
        "grad_test = grad(test)\n",
        "\n",
        "print(\"({:.2f},{:.2f})\".format(grad_test(x1)[0],grad_test(x1)[1]))\n",
        "print(\"({:.2f},{:.2f})\".format(grad_test(x2)[0],grad_test(x2)[1]))"
      ],
      "execution_count": 5,
      "outputs": [
        {
          "output_type": "stream",
          "text": [
            "(2.50,1.58)\n",
            "(2.20,5.42)\n"
          ],
          "name": "stdout"
        }
      ]
    },
    {
      "cell_type": "markdown",
      "metadata": {
        "id": "QvIOvBsiKxCC",
        "colab_type": "text"
      },
      "source": [
        "Then, a simple (there is no bias term) logistic regression model for $n$-dimensional data like this\n",
        "\n",
        "$$  f(x) = \\frac{1}{1 + \\exp^{-(\\mathbf{w}^T \\mathbf{x})}} $$\n",
        "\n",
        "can be implemented in this way:"
      ]
    },
    {
      "cell_type": "code",
      "metadata": {
        "id": "Zr2i7IfZKxCD",
        "colab_type": "code",
        "outputId": "d19114ac-82f0-40e3-d7cf-1c029008fcf6",
        "colab": {
          "base_uri": "https://localhost:8080/",
          "height": 69
        }
      },
      "source": [
        "import autograd.numpy as np\n",
        "from autograd import grad\n",
        "\n",
        "def sigmoid(x):\n",
        "    return 1 / (1 + np.exp(-x))\n",
        "\n",
        "def logistic_predictions(weights, inputs):\n",
        "    return sigmoid(np.dot(inputs, weights))\n",
        "\n",
        "def training_loss(weights, inputs, targets):\n",
        "    preds = logistic_predictions(weights, inputs)\n",
        "    loss = preds * targets + (1 - preds) * (1 - targets)\n",
        "    return -np.sum(np.log(loss))\n",
        "\n",
        "def optimize(inputs, targets, training_loss):\n",
        "    # Optimize weights using gradient descent.\n",
        "    gradient_loss = grad(training_loss)\n",
        "    weights = np.zeros(inputs.shape[1])\n",
        "    print(\"Initial loss:\", training_loss(weights, inputs, targets))\n",
        "    for i in range(100):\n",
        "        weights -= gradient_loss(weights, inputs, targets) * 0.01\n",
        "    print(\"Final loss:\", training_loss(weights, inputs, targets))\n",
        "    return weights\n",
        "\n",
        "# Build a toy dataset with 3d data\n",
        "inputs = np.array([[0.52, 1.12,  0.77],\n",
        "                   [0.88, -1.08, 0.15],\n",
        "                   [0.52, 0.06, -1.30],\n",
        "                   [0.74, -2.49, 1.39]])\n",
        "targets = np.array([True, True, False, True])\n",
        "\n",
        "weights = optimize(inputs, targets, training_loss)\n",
        "print(\"Weights:\", weights)"
      ],
      "execution_count": 6,
      "outputs": [
        {
          "output_type": "stream",
          "text": [
            "Initial loss: 2.772588722239781\n",
            "Final loss: 1.0672706757870165\n",
            "Weights: [ 0.48307366 -0.37057217  1.06937395]\n"
          ],
          "name": "stdout"
        }
      ]
    },
    {
      "cell_type": "markdown",
      "metadata": {
        "id": "HhK50JDuKxCH",
        "colab_type": "text"
      },
      "source": [
        "Any complex function that can be decomposed in a set of elementary functions can be derived in an automatic way, at machine precision, by this algorithm!\n",
        "\n",
        "**We no longer need to code complex derivatives to apply SGD!** "
      ]
    },
    {
      "cell_type": "markdown",
      "metadata": {
        "id": "riYg8Y5fKxCH",
        "colab_type": "text"
      },
      "source": [
        "> **Exercise**:  Make the necessary changes to the code below in order to compute a max-margin solution for a linear separation problem by using SGD. "
      ]
    },
    {
      "cell_type": "code",
      "metadata": {
        "id": "pnjCRoiRKxCJ",
        "colab_type": "code",
        "outputId": "a071ef02-bf50-47bf-a9b3-eba440295084",
        "colab": {
          "base_uri": "https://localhost:8080/",
          "height": 34
        }
      },
      "source": [
        "%reset"
      ],
      "execution_count": 7,
      "outputs": [
        {
          "output_type": "stream",
          "text": [
            "Once deleted, variables cannot be recovered. Proceed (y/[n])? y\n"
          ],
          "name": "stdout"
        }
      ]
    },
    {
      "cell_type": "code",
      "metadata": {
        "id": "rhjw6j0_KxCQ",
        "colab_type": "code",
        "outputId": "86b4aef0-a8eb-434c-e980-f1d1a30dbd03",
        "colab": {
          "base_uri": "https://localhost:8080/",
          "height": 283
        }
      },
      "source": [
        "import numpy as np\n",
        "\n",
        "#Example dataset\n",
        "N_samples_per_class = 100\n",
        "d_dimensions = 2\n",
        "x = np.vstack((np.random.randn(N_samples_per_class, d_dimensions),\n",
        "               np.random.randn(N_samples_per_class, d_dimensions)\n",
        "               +np.array([5,5])))\n",
        "y = np.concatenate([-1.0*np.ones(N_samples_per_class),\n",
        "              1.*np.ones(N_samples_per_class)])\n",
        "\n",
        "%matplotlib inline\n",
        "import matplotlib.pyplot as plt\n",
        "\n",
        "fig, ax = plt.subplots(1, 1)\n",
        "fig.set_facecolor('#EAEAF2')\n",
        "idx = y==1\n",
        "plt.scatter(x[idx.ravel(),0],x[idx.ravel(),1],alpha=0.25)\n",
        "idx = y==-1\n",
        "plt.scatter(x[idx.ravel(),0],x[idx.ravel(),1],alpha=0.5,color='pink')"
      ],
      "execution_count": 0,
      "outputs": [
        {
          "output_type": "execute_result",
          "data": {
            "text/plain": [
              "<matplotlib.collections.PathCollection at 0x7fa6afc0ce48>"
            ]
          },
          "metadata": {
            "tags": []
          },
          "execution_count": 8
        },
        {
          "output_type": "display_data",
          "data": {
            "image/png": "[encoded data removed]",
            "text/plain": [
              "<Figure size 432x288 with 1 Axes>"
            ]
          },
          "metadata": {
            "tags": []
          }
        }
      ]
    },
    {
      "cell_type": "code",
      "metadata": {
        "id": "mYy0z5SaKxCU",
        "colab_type": "code",
        "outputId": "240512f0-12f6-4b82-d180-bbba1d6404dd",
        "colab": {
          "base_uri": "https://localhost:8080/",
          "height": 243
        }
      },
      "source": [
        "import autograd.numpy as np\n",
        "from autograd import grad\n",
        "\n",
        "def SVM_predictions(w, inputs):\n",
        "    return np.dot(w[0,:-1],inputs.T)+w[0,-1]\n",
        "\n",
        "def SVM_training_loss(weights, inputs, targets):\n",
        "    pred = SVM_predictions(weights, inputs)\n",
        "    return np.sum((targets-pred)**2)/inputs.shape[0]\n",
        "\n",
        "def optimize(inputs, targets, training_loss):\n",
        "    gradient_loss = grad(training_loss)\n",
        "    weights = np.zeros((1,inputs.shape[1]+1))\n",
        "    print(\"Initial loss:\", training_loss(weights, inputs, targets))\n",
        "    for i in range(100000):\n",
        "        weights -= gradient_loss(weights, inputs, targets) * 0.001\n",
        "        if i%10000 == 0:\n",
        "            print(\" Loss:\", training_loss(weights, inputs, targets))\n",
        "    print(\"Final loss:\", training_loss(weights, inputs, targets))\n",
        "    return weights\n",
        "\n",
        "weights = optimize(x, y, SVM_training_loss)\n",
        "print(\"Weights\", weights)"
      ],
      "execution_count": 0,
      "outputs": [
        {
          "output_type": "stream",
          "text": [
            "Initial loss: 1.0\n",
            " Loss: 0.9524140689814686\n",
            " Loss: 0.08706236829021527\n",
            " Loss: 0.08706236575690411\n",
            " Loss: 0.0870623657569041\n",
            " Loss: 0.0870623657569041\n",
            " Loss: 0.0870623657569041\n",
            " Loss: 0.0870623657569041\n",
            " Loss: 0.0870623657569041\n",
            " Loss: 0.0870623657569041\n",
            " Loss: 0.0870623657569041\n",
            "Final loss: 0.0870623657569041\n",
            "Weights [[ 0.18082104  0.18867935 -0.92233123]]\n"
          ],
          "name": "stdout"
        }
      ]
    },
    {
      "cell_type": "code",
      "metadata": {
        "id": "2u3e4WQNKxCY",
        "colab_type": "code",
        "outputId": "5fb15fad-731a-4ffe-f742-9e357cc8618a",
        "colab": {}
      },
      "source": [
        "delta = 0.1\n",
        "xx = np.arange(-4.0, 10.0, delta)\n",
        "yy = np.arange(-4.0, 10.0, delta)\n",
        "XX, YY = np.meshgrid(xx, yy)\n",
        "Xf = XX.flatten()\n",
        "Yf = YY.flatten()\n",
        "sz=XX.shape\n",
        "test_data = np.concatenate([Xf[:,np.newaxis],Yf[:,np.newaxis]],axis=1)\n",
        "Z = SVM_predictions(weights,test_data)\n",
        "\n",
        "fig, ax = plt.subplots(1, 1)\n",
        "fig.set_facecolor('#EAEAF2')\n",
        "Z = np.reshape(Z,(xx.shape[0],xx.shape[0]))\n",
        "plt.contour(XX,YY,Z,[0])\n",
        "idx = y==1\n",
        "plt.scatter(x[idx.ravel(),0],x[idx.ravel(),1],alpha=0.25)\n",
        "idx = y==-1\n",
        "plt.scatter(x[idx.ravel(),0],x[idx.ravel(),1],alpha=0.5,color='pink')"
      ],
      "execution_count": 0,
      "outputs": [
        {
          "output_type": "execute_result",
          "data": {
            "text/plain": [
              "<matplotlib.collections.PathCollection at 0x7fdc230f2438>"
            ]
          },
          "metadata": {
            "tags": []
          },
          "execution_count": 7
        },
        {
          "output_type": "display_data",
          "data": {
            "image/png": "[encoded data removed]",
            "text/plain": [
              "<matplotlib.figure.Figure at 0x7fdc480e2a58>"
            ]
          },
          "metadata": {
            "tags": []
          }
        }
      ]
    },
    {
      "cell_type": "markdown",
      "metadata": {
        "id": "xLsrJmrkKxCb",
        "colab_type": "text"
      },
      "source": [
        ">  **Exercise**:  Make the necessary changes to the code below in order to compute a **new sample** that is optimal for the classifier you have learned in the previous exercise. "
      ]
    },
    {
      "cell_type": "code",
      "metadata": {
        "id": "lRhvJzt6KxCe",
        "colab_type": "code",
        "outputId": "34458470-fd24-4012-9c7b-a2a813ad7880",
        "colab": {
          "base_uri": "https://localhost:8080/",
          "height": 34
        }
      },
      "source": [
        "%reset"
      ],
      "execution_count": 8,
      "outputs": [
        {
          "output_type": "stream",
          "text": [
            "Once deleted, variables cannot be recovered. Proceed (y/[n])? y\n"
          ],
          "name": "stdout"
        }
      ]
    },
    {
      "cell_type": "code",
      "metadata": {
        "id": "Ph3NeC4gKxCj",
        "colab_type": "code",
        "outputId": "84dff6b0-159f-4467-a512-077ff210535c",
        "colab": {
          "base_uri": "https://localhost:8080/",
          "height": 283
        }
      },
      "source": [
        "import numpy as np\n",
        "\n",
        "#Example dataset\n",
        "N_samples_per_class = 100\n",
        "d_dimensions = 2\n",
        "x = np.vstack((np.random.randn(N_samples_per_class, d_dimensions),\n",
        "               np.random.randn(N_samples_per_class, d_dimensions)\n",
        "               +np.array([2,2])))\n",
        "y = np.concatenate([-1.0*np.ones(N_samples_per_class),\n",
        "              1.*np.ones(N_samples_per_class)])\n",
        "\n",
        "%matplotlib inline\n",
        "import matplotlib.pyplot as plt\n",
        "\n",
        "fig, ax = plt.subplots(1, 1)\n",
        "fig.set_facecolor('#EAEAF2')\n",
        "idx = y==1\n",
        "plt.scatter(x[idx.ravel(),0],x[idx.ravel(),1],alpha=0.25)\n",
        "idx = y==-1\n",
        "plt.scatter(x[idx.ravel(),0],x[idx.ravel(),1],alpha=0.5,color='pink')"
      ],
      "execution_count": 0,
      "outputs": [
        {
          "output_type": "execute_result",
          "data": {
            "text/plain": [
              "<matplotlib.collections.PathCollection at 0x7f090515a908>"
            ]
          },
          "metadata": {
            "tags": []
          },
          "execution_count": 48
        },
        {
          "output_type": "display_data",
          "data": {
            "image/png": "[encoded data removed]",
            "text/plain": [
              "<Figure size 432x288 with 1 Axes>"
            ]
          },
          "metadata": {
            "tags": []
          }
        }
      ]
    },
    {
      "cell_type": "code",
      "metadata": {
        "id": "OtwHivGDKxCo",
        "colab_type": "code",
        "outputId": "2908fd9b-f8cf-4537-8d0e-67654db66e2e",
        "colab": {
          "base_uri": "https://localhost:8080/",
          "height": 243
        }
      },
      "source": [
        "# solution code\n",
        "\n",
        "\n",
        "import autograd.numpy as np\n",
        "from autograd import grad\n",
        "\n",
        "def SVM_predictions(w, inputs):\n",
        "    return np.dot(w[0,:-1],inputs.T)+w[0,-1]\n",
        "\n",
        "def SVM_training_loss(weights, inputs, targets):\n",
        "    pred = SVM_predictions(weights, inputs)\n",
        "    return np.sum(np.maximum(0,1-targets*pred))/inputs.shape[0]\n",
        "\n",
        "def optimize(inputs, targets, training_loss):\n",
        "    gradient_loss = grad(training_loss)\n",
        "    weights = np.array([[1.15196035, 1.06797815, -2.0131]])\n",
        "    print(\"Initial loss:\", training_loss(weights, inputs, targets))\n",
        "    for i in range(10000):\n",
        "        weights -= gradient_loss(weights, inputs, targets) * 0.01\n",
        "        if i%1000 == 0:\n",
        "            print(\" Loss:\", training_loss(weights, inputs, targets))\n",
        "    print(\"Final loss:\", training_loss(weights, inputs, targets))\n",
        "    return weights\n",
        "\n",
        "weights = optimize(x, y, SVM_training_loss)\n",
        "print(\"Weights\", weights)"
      ],
      "execution_count": 0,
      "outputs": [
        {
          "output_type": "stream",
          "text": [
            "Initial loss: 0.11547117164624694\n",
            " Loss: 0.11543851021340351\n",
            " Loss: 0.1044484126850999\n",
            " Loss: 0.10308719202082123\n",
            " Loss: 0.10246507297625403\n",
            " Loss: 0.10184294851743438\n",
            " Loss: 0.10122439265474972\n",
            " Loss: 0.10071013581427715\n",
            " Loss: 0.10032757623245615\n",
            " Loss: 0.10011631048697275\n",
            " Loss: 0.09995075500888156\n",
            "Final loss: 0.09978501637762706\n",
            "Weights [[ 1.31607029  1.58204853 -2.6459    ]]\n"
          ],
          "name": "stdout"
        }
      ]
    },
    {
      "cell_type": "code",
      "metadata": {
        "id": "rP6p90ElKxCs",
        "colab_type": "code",
        "outputId": "28d0b056-cbc7-41e9-a2ce-7d4c550959e3",
        "colab": {
          "base_uri": "https://localhost:8080/",
          "height": 283
        }
      },
      "source": [
        "delta = 0.1\n",
        "xx = np.arange(-4.0, 6.0, delta)\n",
        "yy = np.arange(-4.0, 6.0, delta)\n",
        "XX, YY = np.meshgrid(xx, yy)\n",
        "Xf = XX.flatten()\n",
        "Yf = YY.flatten()\n",
        "sz=XX.shape\n",
        "test_data = np.concatenate([Xf[:,np.newaxis],Yf[:,np.newaxis]],axis=1)\n",
        "Z = SVM_predictions(weights,test_data)\n",
        "\n",
        "fig, ax = plt.subplots(1, 1)\n",
        "fig.set_facecolor('#EAEAF2')\n",
        "Z = np.reshape(Z,(xx.shape[0],xx.shape[0]))\n",
        "plt.contour(XX,YY,Z,[0])\n",
        "idx = y==1\n",
        "plt.scatter(x[idx.ravel(),0],x[idx.ravel(),1],alpha=0.25)\n",
        "idx = y==-1\n",
        "plt.scatter(x[idx.ravel(),0],x[idx.ravel(),1],alpha=0.5,color='pink')"
      ],
      "execution_count": 0,
      "outputs": [
        {
          "output_type": "execute_result",
          "data": {
            "text/plain": [
              "<matplotlib.collections.PathCollection at 0x7f090734b320>"
            ]
          },
          "metadata": {
            "tags": []
          },
          "execution_count": 50
        },
        {
          "output_type": "display_data",
          "data": {
            "image/png": "[encoded data removed]",
            "text/plain": [
              "<Figure size 432x288 with 1 Axes>"
            ]
          },
          "metadata": {
            "tags": []
          }
        }
      ]
    },
    {
      "cell_type": "markdown",
      "metadata": {
        "id": "RkrUqJbDKxCw",
        "colab_type": "text"
      },
      "source": [
        "## Neural Network"
      ]
    },
    {
      "cell_type": "code",
      "metadata": {
        "id": "S1-BTXeiKxCx",
        "colab_type": "code",
        "outputId": "34805222-7935-4736-d8fa-230b81fa5744",
        "colab": {
          "base_uri": "https://localhost:8080/",
          "height": 34
        }
      },
      "source": [
        "%reset"
      ],
      "execution_count": 9,
      "outputs": [
        {
          "output_type": "stream",
          "text": [
            "Once deleted, variables cannot be recovered. Proceed (y/[n])? y\n"
          ],
          "name": "stdout"
        }
      ]
    },
    {
      "cell_type": "code",
      "metadata": {
        "id": "jxexqS7fKxC1",
        "colab_type": "code",
        "outputId": "166fb72c-9394-4e9b-928c-ed1b947f1646",
        "colab": {
          "base_uri": "https://localhost:8080/",
          "height": 395
        }
      },
      "source": [
        "import matplotlib.pyplot as plt\n",
        "import sklearn\n",
        "import sklearn.datasets\n",
        "import sklearn.linear_model\n",
        "import matplotlib\n",
        "import autograd.numpy as np\n",
        "from autograd import grad\n",
        "from autograd.misc.flatten import flatten\n",
        "\n",
        "# Display plots inline and change default figure size\n",
        "%matplotlib inline\n",
        "matplotlib.rcParams['figure.figsize'] = (12.0, 6.0)\n",
        "\n",
        "# Generate a dataset and plot it\n",
        "np.random.seed(0)\n",
        "X, y = sklearn.datasets.make_moons(200, noise=0.20)\n",
        "plt.scatter(X[:,0], X[:,1], s=40, c=y, alpha=0.75)"
      ],
      "execution_count": 10,
      "outputs": [
        {
          "output_type": "execute_result",
          "data": {
            "text/plain": [
              "<matplotlib.collections.PathCollection at 0x7f18f6c994a8>"
            ]
          },
          "metadata": {
            "tags": []
          },
          "execution_count": 10
        },
        {
          "output_type": "display_data",
          "data": {
            "image/png": "[encoded data removed]",
            "text/plain": [
              "<Figure size 864x432 with 1 Axes>"
            ]
          },
          "metadata": {
            "tags": []
          }
        }
      ]
    },
    {
      "cell_type": "markdown",
      "metadata": {
        "id": "aSYNZFVKKxC5",
        "colab_type": "text"
      },
      "source": [
        "Let's now build a 3-layer neural network with one input layer, one hidden layer, and one output layer. The number of nodes in the input layer is determined by the dimensionality of our data, 2. Similarly, the number of nodes in the output layer is determined by the number of classes we have, also 2. \n",
        "\n",
        "Our network makes predictions using forward propagation, which is just a bunch of matrix multiplications and the application of the activation function(s). If $x$ is the 2-dimensional input to our network then we calculate our prediction $\\hat{y}$ (also two-dimensional) as follows:\n",
        "\n",
        "$$ z_1 = x W_1 + b_1 $$\n",
        "$$ a_1 = \\mbox{tanh}(z_1) $$\n",
        "$$ z_2 = a_1 W_2 + b_2$$\n",
        "$$ a_2 = \\mbox{softmax}({z_2})$$\n",
        "\n",
        "$W_1, b_1, W_2, b_2$ are parameters of our network, which we need to learn from our training data. You can think of them as matrices transforming data between layers of the network. Looking at the matrix multiplications above we can figure out the dimensionality of these matrices. If we use 500 nodes for our hidden layer then $W_1 \\in \\mathbb{R}^{2\\times500}$, $b_1 \\in \\mathbb{R}^{500}$, $W_2 \\in \\mathbb{R}^{500\\times2}$, $b_2 \\in \\mathbb{R}^{2}$. \n",
        "\n",
        "A common choice with the softmax output is the **cross-entropy loss**. If we have $N$ training examples and $C$ classes then the loss for our prediction $\\hat{y}$ with respect to the true labels $y$ is given by:\n",
        "\n",
        "$$\n",
        "\\begin{aligned}\n",
        "L(y,\\hat{y}) = - \\frac{1}{N} \\sum_{n \\in N} \\sum_{i \\in C} y_{n,i} \\log\\hat{y}_{n,i}\n",
        "\\end{aligned}\n",
        "$$"
      ]
    },
    {
      "cell_type": "code",
      "metadata": {
        "id": "hSFFByrKKxC6",
        "colab_type": "code",
        "colab": {}
      },
      "source": [
        "num_examples = len(X)     # training set size\n",
        "nn_input_dim = 2          # input layer dimensionality\n",
        "nn_output_dim = 2         # output layer dimensionality\n",
        "\n",
        "# Gradient descent parameters \n",
        "\n",
        "epsilon = 0.01            # learning rate for gradient descent\n",
        "\n",
        "def calculate_loss(model):\n",
        "    W1, b1, W2, b2 = model['W1'], model['b1'], model['W2'], model['b2']\n",
        "    \n",
        "    # Forward propagation to calculate our predictions\n",
        "    \n",
        "    z1 = np.dot(X,W1) + b1\n",
        "    a1 = np.tanh(z1)\n",
        "    z2 = np.dot(a1,W2) + b2\n",
        "    exp_scores = np.exp(z2)\n",
        "    probs = exp_scores / np.sum(exp_scores, axis=1, keepdims=True)\n",
        "    \n",
        "    # Calculating the loss\n",
        "    \n",
        "    corect_logprobs = -np.log(probs[range(num_examples), y])\n",
        "    data_loss = np.sum(corect_logprobs)\n",
        "    \n",
        "    return 1./num_examples * data_loss\n",
        "\n",
        "# output (0 or 1)\n",
        "def predict(model, x):\n",
        "    W1, b1, W2, b2 = model['W1'], model['b1'], model['W2'], model['b2']\n",
        "    \n",
        "    # Forward propagation\n",
        "    \n",
        "    z1 = np.dot(x,W1) + b1\n",
        "    a1 = np.tanh(z1)\n",
        "    z2 = np.dot(a1,W2) + b2\n",
        "    exp_scores = np.exp(z2)\n",
        "    probs = exp_scores / np.sum(exp_scores, axis=1, keepdims=True)\n",
        "    return np.argmax(probs, axis=1)"
      ],
      "execution_count": 0,
      "outputs": []
    },
    {
      "cell_type": "markdown",
      "metadata": {
        "id": "GhXotrEuKxDB",
        "colab_type": "text"
      },
      "source": [
        "This program solves the optimization problem by using AD:"
      ]
    },
    {
      "cell_type": "code",
      "metadata": {
        "id": "yC5iegM7KxDC",
        "colab_type": "code",
        "outputId": "14edb61a-a3ac-436f-c421-e5030b29bc2c",
        "colab": {
          "base_uri": "https://localhost:8080/",
          "height": 757
        }
      },
      "source": [
        "# This function learns parameters for the neural network and returns the model.\n",
        "# - nn_hdim: Number of nodes in the hidden layer\n",
        "# - num_passes: Number of passes through the training data for gradient descent\n",
        "# - print_loss: If True, print the loss every 1000 iterations\n",
        "def build_model(nn_hdim, num_passes=20000, print_loss=False):\n",
        "    \n",
        "    # Initialize the parameters to random values. We need to learn these.\n",
        "    np.random.seed(0)\n",
        "    W1 = np.random.randn(nn_input_dim, nn_hdim) / np.sqrt(nn_input_dim)\n",
        "    b1 = np.zeros((1, nn_hdim))\n",
        "    W2 = np.random.randn(nn_hdim, nn_output_dim) / np.sqrt(nn_hdim)\n",
        "    b2 = np.zeros((1, nn_output_dim))\n",
        "\n",
        "    # This is what we return at the end\n",
        "    model = { 'W1': W1, 'b1': b1, 'W2': W2, 'b2': b2}\n",
        "    \n",
        "    # Gradient descent. For each batch...\n",
        "    for i in range(0, num_passes):\n",
        "\n",
        "        # Forward propagation\n",
        "        z1 = np.dot(X,model['W1']) + model['b1']\n",
        "        a1 = np.tanh(z1)\n",
        "        z2 = np.dot(a1,model['W2']) + model['b2']\n",
        "        exp_scores = np.exp(z2)\n",
        "        probs = exp_scores / np.sum(exp_scores, axis=1, keepdims=True)\n",
        "                \n",
        "        gradient_loss = grad(calculate_loss)\n",
        "        \n",
        "        model_flat, unflatten_m = flatten(model)\n",
        "        grad_flat, unflatten_g = flatten(gradient_loss(model))\n",
        "        model_flat -= grad_flat * 0.05\n",
        "        model = unflatten_m(model_flat)\n",
        "\n",
        "        \n",
        "        # Optionally print the loss.\n",
        "        # This is expensive because it uses the whole dataset, so we don't want to do it too often.\n",
        "        if print_loss and i % 1000 == 0:\n",
        "            print(\"Loss after iteration %i: %f\" %(i, calculate_loss(model)))\n",
        "    \n",
        "    return model\n",
        "\n",
        "def plot_decision_boundary(pred_func):\n",
        "    # Set min and max values and give it some padding\n",
        "    x_min, x_max = X[:, 0].min() - .5, X[:, 0].max() + .5\n",
        "    y_min, y_max = X[:, 1].min() - .5, X[:, 1].max() + .5\n",
        "    h = 0.01\n",
        "    # Generate a grid of points with distance h between them\n",
        "    xx, yy = np.meshgrid(np.arange(x_min, x_max, h), np.arange(y_min, y_max, h))\n",
        "    # Predict the function value for the whole gid\n",
        "    Z = pred_func(np.c_[xx.ravel(), yy.ravel()])\n",
        "    Z = Z.reshape(xx.shape)\n",
        "    # Plot the contour and training examples\n",
        "    plt.contourf(xx, yy, Z, alpha=0.45)\n",
        "    plt.scatter(X[:, 0], X[:, 1], c=y, alpha=0.45)\n",
        "\n",
        "# Build a model with a 3-dimensional hidden layer\n",
        "model = build_model(3, print_loss=True)\n",
        "\n",
        "# Plot the decision boundary\n",
        "plot_decision_boundary(lambda x: predict(model, x))\n",
        "plt.title(\"Decision Boundary for hidden layer size 3\")"
      ],
      "execution_count": 12,
      "outputs": [
        {
          "output_type": "stream",
          "text": [
            "Loss after iteration 0: 0.578567\n",
            "Loss after iteration 1000: 0.288832\n",
            "Loss after iteration 2000: 0.233156\n",
            "Loss after iteration 3000: 0.182124\n",
            "Loss after iteration 4000: 0.147160\n",
            "Loss after iteration 5000: 0.118781\n",
            "Loss after iteration 6000: 0.100822\n",
            "Loss after iteration 7000: 0.089667\n",
            "Loss after iteration 8000: 0.082638\n",
            "Loss after iteration 9000: 0.078198\n",
            "Loss after iteration 10000: 0.075316\n",
            "Loss after iteration 11000: 0.073359\n",
            "Loss after iteration 12000: 0.071963\n",
            "Loss after iteration 13000: 0.070921\n",
            "Loss after iteration 14000: 0.070112\n",
            "Loss after iteration 15000: 0.069465\n",
            "Loss after iteration 16000: 0.068932\n",
            "Loss after iteration 17000: 0.068485\n",
            "Loss after iteration 18000: 0.068102\n",
            "Loss after iteration 19000: 0.067770\n"
          ],
          "name": "stdout"
        },
        {
          "output_type": "execute_result",
          "data": {
            "text/plain": [
              "Text(0.5, 1.0, 'Decision Boundary for hidden layer size 3')"
            ]
          },
          "metadata": {
            "tags": []
          },
          "execution_count": 12
        },
        {
          "output_type": "display_data",
          "data": {
            "image/png": "[encoded data removed]",
            "text/plain": [
              "<Figure size 864x432 with 1 Axes>"
            ]
          },
          "metadata": {
            "tags": []
          }
        }
      ]
    },
    {
      "cell_type": "markdown",
      "metadata": {
        "id": "ULlIqHJCKxDF",
        "colab_type": "text"
      },
      "source": [
        "Let's now get a sense of how varying the hidden layer size affects the result."
      ]
    },
    {
      "cell_type": "code",
      "metadata": {
        "id": "0b9gZLY2KxDG",
        "colab_type": "code",
        "colab": {}
      },
      "source": [
        "plt.figure(figsize=(16, 32))\n",
        "hidden_layer_dimensions = [1, 2, 3, 4, 5, 20, 50]\n",
        "for i, nn_hdim in enumerate(hidden_layer_dimensions):\n",
        "    plt.subplot(5, 2, i+1)\n",
        "    plt.title('Hidden Layer size %d' % nn_hdim)\n",
        "    model = build_model(nn_hdim)\n",
        "    plot_decision_boundary(lambda x: predict(model, x))\n",
        "plt.show()"
      ],
      "execution_count": 0,
      "outputs": []
    },
    {
      "cell_type": "markdown",
      "metadata": {
        "id": "yMLSJEhlKxDK",
        "colab_type": "text"
      },
      "source": [
        "## Deep Learning tricks\n",
        "\n",
        "\n",
        "> A naïve description of the basic setup in deep learning would be: *a many-layers-deep network of linear layers, linear convolutions and occasionally recurrent structures with nonlinear activation functions that is trained by computing the gradient of the training error through reverse mode AD.*.\n",
        "\n",
        "AD is a critical component when developing deep models because the use of SGD is much more easy and robust (f.e. derivative computation is free of bugs!), but in spite of this fact optimization of deep models is not yet an easy task. Gradient-based optimization still suffers from some problems:\n",
        "+ The system can be **poorly conditioned** (changing one parameter requires precise compensatory changes to other parameters to avoid large increases in the optimization criterion). \n",
        "+ Simply calculating the actual gradient is so **slow** in deep learning systems that it is impractical to use the true gradient for purposes of optimization.\n",
        "\n",
        "In order to address each issues, deep learning community has developed some **tricks**. First, **gradient tricks**, namely methods to make the gradient either easier to calculate or to give it more desirable properties. And second, **optimization tricks**, namely new methods related to stochastic optimization.\n",
        "\n",
        "The deep learning community has been developing many methods to make gradient descent work with deep architectures. These methods (related to model architectures and gradient calculation) are  numerous. Here we discuss only a small sample of methods.\n",
        "\n",
        "+ It is not really feasible to calculate the true gradient when there is a large dataset.  Instead a sample is used. Calculating the gradient of the error of just a random sample from the dataset (or sequential windows, assuming the dataset has been randomly shuffled) is much faster.\n",
        "+ In calculating the stochastic gradient, it is tempting to do the minimal amount of computation necessary to obtain an unbiased estimate, which would involve a single sample from the training set. In practice it has proven much better to use a block of contiguous samples, on the order of dozens.  This has two advantages: the first is less noise, and the second is that data-parallelism can be used.\n",
        "+ In a multi-layered structure, one would expect the gradients of quantities at early layers to be nearly zero (assuming the gains at intermediate levels are below unity) or to be enormous (assuming the gains are above unity). The tricks are:\n",
        "    + Rectified linear units instead of sigmoids. Classic multi-layer perceptrons use the sigmoid activation function, but this has a derivative which goes to zero when its input is too strong.  That means that when a unit in the network receives a very strong signal, it becomes difficult to change. Using a rectified linear unit (ReLU) function, overcomes this problem, making the system more plastic even when strong signals are present.\n",
        "    + Gradient clipping. In the domain of deep learning, there are often outliers in the training set: exemplars that are being classified incorrectly, for example, or improper images in a visual classification task, or mislabeled examples, and the like. These can cause a large gradient inside a single mini-batch, which washes out the more appropriate signals. For this reason a technique called gradient clipping is often used, in which components of the gradient exceeding a threshold (in absolute value) are pushed down to that threshold.\n",
        "+ Keeping the error surface well conditioned for gradient optimization has been one of the keys to the current widespread deployment of deep learning.\n",
        "    + Dropout. Imagine a network in which multiple units together represent some important feature, requiring a precise weighting of their values in downstream processing. This would make optimization quite difficult, as it sets up couplings between parameters which must be maintained. A technique to avoid such “unfortunate collusions” is dropout, in which each unit in the network is, on each training pattern pass, randomly “dropped out” with some probability (typically 50%) by holding its value at zero. This encourages detected features to be independently meaningful. (In “production mode” dropout is turned off, and the weights scaled to compensate, to minimize the noise when performance matters.)\n",
        "    + Batch normalization. Batch Normalization is a technique to provide any layer in a neural network with inputs that are zero mean/unit variance. \n",
        "    + Careful initialization. Considering how the variances of activation values and gradients can be maintained between the layers in a network leads to intelligent normalized initialization schemes, which enable substantially faster optimization convergence. \n",
        "+ Early stopping. When fitting a dynamic system to data, as exact a match as possible is desired, so the true optimum is sought. This is not the case in machine learning, where the optimization is of error on a training set, while the primary concern is generally not performance on the training set, but on as-yet-unseen new data. There is often a tradeoff between the two, encountered after optimization has proceeded for a significant amount of time. This is addressed by early stopping, in which an estimate of performance on unseen data is maintained, and optimization is halted early when this estimated generalization performance stops improving, even if performance on the training set is continuing to improve. \n",
        "\n",
        "\n"
      ]
    },
    {
      "cell_type": "markdown",
      "metadata": {
        "id": "eQIKHvMVKxDL",
        "colab_type": "text"
      },
      "source": [
        "## Playing with neural nets.\n",
        "\n",
        "http://playground.tensorflow.org"
      ]
    }
  ]
}