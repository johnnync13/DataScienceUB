{
  "nbformat": 4,
  "nbformat_minor": 0,
  "metadata": {
    "colab": {
      "name": "12. Non supervised learning II.ipynb",
      "version": "0.3.2",
      "provenance": [],
      "include_colab_link": true
    },
    "language_info": {
      "codemirror_mode": {
        "name": "ipython",
        "version": 3
      },
      "file_extension": ".py",
      "mimetype": "text/x-python",
      "name": "python",
      "nbconvert_exporter": "python",
      "pygments_lexer": "ipython3",
      "version": "3.5.2"
    },
    "kernelspec": {
      "name": "python3",
      "display_name": "Python 3"
    },
    "accelerator": "GPU"
  },
  "cells": [
    {
      "cell_type": "markdown",
      "metadata": {
        "id": "view-in-github",
        "colab_type": "text"
      },
      "source": [
        "<a href=\"https://colab.research.google.com/github/DataScienceUB/DeepLearningMaster2019/blob/master/12.%20Non%20supervised%20learning%20II.ipynb\" target=\"_parent\"><img src=\"https://colab.research.google.com/assets/colab-badge.svg\" alt=\"Open In Colab\"/></a>"
      ]
    },
    {
      "cell_type": "markdown",
      "metadata": {
        "id": "ZUPZTOPiiiTg",
        "colab_type": "text"
      },
      "source": [
        "## Deep Learning and Probabilistic Models\n",
        "\n",
        "The Bayes rule for a given input is:\n",
        "\n",
        "$$ \n",
        "p(y \\vert x) = \\frac{p(x \\vert y) p(y)}{p(x)} = \\frac{p(x,y)}{p(x)}\n",
        "$$\n",
        "\n",
        "Discriminative classifiers jump directly to estimating $p(y \\vert x)$ without modeling its component parts $p(x,y)$ and $p(x)$.\n",
        "\n",
        "The objective of *generative models* is to learn a model $p(x)$. This model can be used for several purposes, but we are specially interested in models we can sample from. \n",
        "\n",
        "To this end we have several possible strategies when considering deep learning tools:\n",
        "\n",
        "+ **Fully-observed models.** To model observed data directly, without introducing any new unobserved local variables.\n",
        "\n",
        "+ **Transformation models.** Model data as a transformation of an unobserved noise source using a *parameterised* function.\n",
        "\n",
        "+ **Latent-variable models.** Introduce unobserved random variables for every observed data point to explain hidden causes.\n",
        "\n",
        "### Fully-observed models.\n",
        "\n",
        "The most succesful models are PixelCNN (https://arxiv.org/pdf/1606.05328v2.pdf) and WaveNet (https://arxiv.org/pdf/1609.03499.pdf)).\n",
        "\n",
        "Both cases are based on autoregressive models that models the conditional distribution of every individual data feature (pixels,etc.) given previous features:\n",
        "\n",
        "$$\n",
        "p(\\mathbf x) = \\prod_{i=1}^{N} p(x_i \\vert x_1, \\dots ,x_{i-1})\n",
        "$$\n",
        "\n",
        "All conditional probabilities are described by deep networks.\n",
        "\n",
        "Its advantages are:\n",
        "\n",
        "+ Parameter learning is simple: Log-likelihood is directly computable, no approximation needed.\n",
        "+ Easy to scale-up to large models, many optimisation tools available.\n",
        "\n",
        "But generation can be slow: we must iterate through all elements sequentially!\n",
        "\n",
        "### Transformation Models\n",
        "\n",
        "Transformation models model $p(x,z)$ instead of $p(x)$, where $z$ is an unobserved noise source. \n",
        "\n",
        "In the simplest case, they transform an unobserved noise source $z \\sim \\mathcal{N}(0,I)$ using a parameterised function. The transformation function is parameterised by a linear or deep network $f_\\lambda(z)$. \n",
        "\n",
        "For example, for producing $x \\sim \\mathcal{N}(\\mu, \\Sigma)$ we can sample $z \\sim \\mathcal{N}(0,I)$ and then apply $x = \\mu + \\Sigma z$.\n",
        "\n",
        "The main drawbacks of this strategy are the difficulty to extend to generic data types and the difficulty to account for noise in observed data.\n",
        "\n",
        "### Latent variable models \n",
        "\n",
        "Latent variable models solve this problems by introducing unobserved\n",
        "local random variables that represents *hidden causes* and which can be easily sampled. \n",
        "\n",
        "Variational autoencoders are a good example of this strategy that propose a specific probability model of data $x$ and latent variables $z$. "
      ]
    },
    {
      "cell_type": "markdown",
      "metadata": {
        "id": "5oBAmg2n70AQ",
        "colab_type": "text"
      },
      "source": [
        "## Autoregressive Models (fully observed models).\n",
        "\n",
        "By the chain rule of probability, we can factorize the joint distribution over the $n$-dimensions as\n",
        "\n",
        "$$\n",
        "p(x)=∏_{i=1}^np(x_i|x_1,x_2,…,x_{i−1})=∏_{i=1}^n p(x_i|x_{<i})\n",
        "$$\n",
        "\n",
        "\n",
        "where $x_{<i}=[x_1,x_2,…,x_{i−1}]$ denotes the vector of random variables with index less than $i$. In most of the cases, variables can be sorted in an arbitrary way.\n",
        "\n",
        "The term autoregressive originates from the literature on time-series models where observations from the previous time-steps are used to predict the value at the current time step. In this case, variable must be sorted by time.\n",
        "\n",
        "In an autoregressive generative model, the conditionals are specified as **parameterized functions with a fixed number of parameters**. \n",
        "\n",
        "### Naive approximation\n",
        "\n",
        "In the simplest case (binay data), we can specify the function that represents conditionals as a linear combination of the input elements followed by a sigmoid non-linearity (to restrict the output to lie between 0 and 1). \n",
        "\n",
        "This gives us the formulation of a **fully-visible sigmoid belief network** (FVSBN):\n",
        "\n",
        "$$\n",
        "f_i(x_1,x_2,…,x_{i−1})=σ(α^{(i)}_0+α^{(i)}_1x_1+…+α^{(i)}_{i−1}x_{i−1})\n",
        "$$\n",
        "\n",
        "<center>\n",
        "<img src=\"https://github.com/DataScienceUB/DeepLearningMaster2019/raw/master/images/NADE.png\" alt=\"\" style=\"width: 400px;\"/> \n",
        "</center>\n",
        "\n",
        "The conditional for variable $i$ requires $i$ parameters, and hence the total number of parameters in the model is given by $\\sum_{i=1}^{n} i = O(n^2)$. This is a large number of parameters!\n",
        "\n",
        "A natural way to increase the expressiveness of an autoregressive generative model is to use more flexible parameterizations \n",
        "e.g., multi-layer perceptrons (MLP). \n",
        "\n",
        "For example, consider the case of a neural network with 1 hidden layer. The  function for variable $i$ can be expressed as:\n",
        "$$\n",
        "\\mathbf {h}_i=σ(A_i \\mathbf {x}_{<i}+c_i)\n",
        "$$\n",
        "\n",
        "$$\n",
        "f_i(x_1,x_2,…,x_{i−1})=σ( V_{i,:}\\mathbf {h}_i+b_i)\n",
        "$$\n",
        "\n",
        "where $\\mathbf {h}_i \\in \\Re^d$ denotes the hidden layer activations for the MLP.\n",
        "\n",
        "The total number of parameters in this model is dominated by the matrices $A_i$ and given by $O(n^2d)$."
      ]
    },
    {
      "cell_type": "markdown",
      "metadata": {
        "id": "Ob78qr3mjAN-",
        "colab_type": "text"
      },
      "source": [
        "### Neural Autoregressive Density Estimator\n",
        "\n",
        "The *Neural Autoregressive Density Estimator* (NADE) provides an alternate MLP-based parameterization that is more statistically and computationally efficient than the vanilla approach. In NADE, parameters are shared across the functions used for evaluating the conditionals. In particular, the hidden layer activations are specified as\n",
        "\n",
        "$$\n",
        "\\mathbf{h}_i=σ(W_{:,{<i}} \\mathbf{x}_{<i}+c)\n",
        "$$\n",
        "\n",
        "$$\n",
        "f_i(x_1,x_2,…,x_{i−1})=σ(V_{i,:}\\mathbf{h}_i+b_i)\n",
        "$$\n",
        "\n",
        "where $W, V, b, c$ are learnable parameters of the model. \n",
        "\n",
        "The weight matrix $W$ and the bias vector $c$ are shared across the conditionals: the total number of parameters gets reduced from $O(n^2d)$ to $O(nd)$.\n",
        "\n",
        "\n",
        "### PixelCNN\n",
        "\n",
        "Autoregressive models can be extended to image data. \n",
        "\n",
        "See, for example, **PixelCNN**. https://towardsdatascience.com/auto-regressive-generative-models-pixelrnn-pixelcnn-32d192911173\n",
        "\n"
      ]
    },
    {
      "cell_type": "markdown",
      "metadata": {
        "id": "dfshqkEviiTl",
        "colab_type": "text"
      },
      "source": [
        "## GAN: Generative Adversarial Networks\n",
        "\n",
        "GAN are an alternative to model $p(x)$.\n",
        "\n",
        "The basic idea of GANs is to set up a game between two players. \n",
        "\n",
        "One of them is\n",
        "called the **generator**. The generator creates samples that are intended to come\n",
        "from the same distribution as the training data. \n",
        "\n",
        "The other player is the **discriminator**.\n",
        "The discriminator examines samples to determine whether they are real or fake. \n",
        "\n",
        "The discriminator learns using traditional supervised learning\n",
        "techniques, dividing inputs into two classes (real or fake). The generator\n",
        "is trained to fool the discriminator.\n",
        "\n",
        "<center>\n",
        "<img src=\"https://cdn-images-1.medium.com/max/2600/0*0KQk5Mgi93zax4Hl.png\" alt=\"\" style=\"width: 500px;\"/> \n",
        "(Source: https://towardsdatascience.com/generative-adversarial-networks-gans-a-beginners-guide-5b38eceece24)\n",
        "</center>"
      ]
    },
    {
      "cell_type": "markdown",
      "metadata": {
        "id": "nS9r0i-SiiTm",
        "colab_type": "text"
      },
      "source": [
        "The two players in the game are represented by two functions, each of which\n",
        "is differentiable both with respect to its inputs and with respect to its parameters.\n",
        "\n",
        "The discriminator is a function $D$ that takes $x_{real}$ and $x_{fake}$ as input and uses $\\theta^D$ as parameters. \n",
        "\n",
        "The generator is defined by a function $G$ that takes $z$ as input and uses $\\theta^G$ as parameters.\n",
        "\n",
        "Both players have cost functions that are defined in terms of both players’ parameters. \n",
        "\n",
        "+ The discriminator wishes to minimize $J^D = (\\theta^D, \\theta^G)$ and\n",
        "must do so while controlling only $\\theta^D$.\n",
        "\n",
        "+ The generator wishes to minimize $J^G = (\\theta^D, \\theta^G)$\n",
        "and must do so while controlling only $\\theta^G$. \n",
        "\n",
        "Because each\n",
        "player’s cost depends on the other player’s parameters, but each player cannot\n",
        "control the other player’s parameters, **this scenario is most straightforward to\n",
        "describe as a game rather than as an optimization problem**. \n",
        "\n",
        "> The solution to an\n",
        "optimization problem is a (local) minimum, a point in parameter space where all\n",
        "neighboring points have greater or equal cost. The solution to a game is a Nash\n",
        "equilibrium. In this context, a Nash equilibrium is a tuple $(\\theta^D, \\theta^G)$\n",
        "that is a local minimum of $J^D$ with respect to $\\theta^D$ and a local minimum of\n",
        "$J^G$ with respect to $\\theta^G$."
      ]
    },
    {
      "cell_type": "markdown",
      "metadata": {
        "id": "FiVnVnXFiiTm",
        "colab_type": "text"
      },
      "source": [
        "### The generator\n",
        "\n",
        "The generator is simply a differentiable function $G$. When\n",
        "$z$ is sampled from some simple prior distribution, $G(z)$ yields a sample of $x$. Typically, a deep neural network is used to represent $G$.\n",
        "\n",
        "### The training process\n",
        "\n",
        "The training process consists of simultaneous SGD. \n",
        "On each step, two minibatches are sampled: a minibatch of $x$ values from the\n",
        "dataset and a minibatch of $z$ values drawn from the model’s prior over latent\n",
        "variables. Then two gradient steps are made simultaneously: one updating $\\theta^D$\n",
        "to reduce $J^D$ and one updating $\\theta^G$ to reduce $J^G$.\n",
        "\n",
        "In both cases, it is possible to use the gradient-based optimization algorithm of your choice. Adam is usually a good choice. \n",
        "\n",
        "<center>\n",
        "<img src=\"https://github.com/DataScienceUB/DeepLearningMaster2019/blob/master/images/t12.png?raw=1\" alt=\"\" style=\"width: 600px;\"/> \n",
        "</center>\n",
        "\n",
        "###  The discriminator’s cost\n",
        "\n",
        "The cost used for the discriminator is:\n",
        "\n",
        "$$\n",
        "J^D = - \\frac{1}{2} \\sum_x \\mathop{{}log} D(x) - \\frac{1}{2}\\sum_z \\mathop{{}log} (1 - D(G(z)))\n",
        "$$\n",
        "\n",
        "This is just the standard cross-entropy cost that is minimized when training\n",
        "a standard binary classifier with a sigmoid output. The only difference is that\n",
        "the classifier is trained on two minibatches of data; one coming from the dataset,\n",
        "where the label is 1 for all examples, and one coming from the generator, where\n",
        "the label is 0 for all examples.\n",
        "\n",
        "###  The generator’s cost\n",
        "\n",
        "The simplest version of the game is a zero-sum game, in which the sum of\n",
        "all player’s costs is always zero. In this version of the game:\n",
        "\n",
        "$$\n",
        "J^G = - J^D\n",
        "$$\n"
      ]
    },
    {
      "cell_type": "markdown",
      "metadata": {
        "id": "TlUyn7MeiiTn",
        "colab_type": "text"
      },
      "source": [
        "## Example\n",
        "\n",
        "Training a generative adversarial network to sample from a Gaussian distribution. \n",
        "(Adapted from: http://blog.evjang.com/2016/06/generative-adversarial-nets-in.html)"
      ]
    },
    {
      "cell_type": "code",
      "metadata": {
        "id": "yLRvFeVKiiTn",
        "colab_type": "code",
        "colab": {}
      },
      "source": [
        "import tensorflow as tf\n",
        "import numpy as np\n",
        "import matplotlib.pyplot as plt\n",
        "import seaborn as sns # for pretty plots\n",
        "from scipy.stats import norm\n",
        "%matplotlib inline"
      ],
      "execution_count": 0,
      "outputs": []
    },
    {
      "cell_type": "markdown",
      "metadata": {
        "id": "gfmN2y3UiiTt",
        "colab_type": "text"
      },
      "source": [
        "This will be our target distribution:"
      ]
    },
    {
      "cell_type": "code",
      "metadata": {
        "id": "jSIDdJEuiiTu",
        "colab_type": "code",
        "outputId": "9b1d3684-7920-49b7-aa7a-45bc50b8b889",
        "colab": {
          "base_uri": "https://localhost:8080/",
          "height": 255
        }
      },
      "source": [
        "# target distribution\n",
        "import warnings\n",
        "warnings.filterwarnings(\"ignore\")\n",
        "\n",
        "mu,sigma=-1,1\n",
        "xs=np.linspace(-5,5,1000)\n",
        "plt.plot(xs, norm.pdf(xs,loc=mu,scale=sigma))\n",
        "r = norm.rvs(-1,1,size=200)\n",
        "\n",
        "ax = plt.axes()\n",
        "ax.xaxis.set_major_formatter(plt.NullFormatter())\n",
        "b = plt.xticks(r)"
      ],
      "execution_count": 2,
      "outputs": [
        {
          "output_type": "display_data",
          "data": {
            "image/png": "[encoded data removed]",
            "text/plain": [
              "<Figure size 432x288 with 1 Axes>"
            ]
          },
          "metadata": {
            "tags": []
          }
        }
      ]
    },
    {
      "cell_type": "markdown",
      "metadata": {
        "id": "aPZVbhysiiTx",
        "colab_type": "text"
      },
      "source": [
        "The horizontal axis represents the domain of $x$. The generator network will map random values to this domain. "
      ]
    },
    {
      "cell_type": "markdown",
      "metadata": {
        "id": "U3TeFHCziiTy",
        "colab_type": "text"
      },
      "source": [
        "Our discriminator and generator networks will be MLP:"
      ]
    },
    {
      "cell_type": "code",
      "metadata": {
        "id": "smyrTsSFiiTz",
        "colab_type": "code",
        "colab": {}
      },
      "source": [
        "TRAIN_ITERS=20000\n",
        "M=200 # minibatch size\n",
        "\n",
        "def mlp(input, output_dim):\n",
        "    # construct learnable parameters within local scope\n",
        "    w1=tf.get_variable(\"w0\", [input.get_shape()[1], 6], initializer=tf.random_normal_initializer())\n",
        "    b1=tf.get_variable(\"b0\", [6], initializer=tf.constant_initializer(0.0))\n",
        "    w2=tf.get_variable(\"w1\", [6, 5], initializer=tf.random_normal_initializer())\n",
        "    b2=tf.get_variable(\"b1\", [5], initializer=tf.constant_initializer(0.0))\n",
        "    w3=tf.get_variable(\"w2\", [5,output_dim], initializer=tf.random_normal_initializer())\n",
        "    b3=tf.get_variable(\"b2\", [output_dim], initializer=tf.constant_initializer(0.0))\n",
        "    # nn operators\n",
        "    fc1=tf.nn.tanh(tf.matmul(input,w1)+b1)\n",
        "    fc2=tf.nn.tanh(tf.matmul(fc1,w2)+b2)\n",
        "    fc3=tf.nn.relu(tf.matmul(fc2,w3)+b3)\n",
        "    return fc3, [w1,b1,w2,b2,w3,b3]\n",
        "\n",
        "def mlpg(input, output_dim):\n",
        "    # construct learnable parameters within local scope\n",
        "    w1=tf.get_variable(\"w0\", [input.get_shape()[1], 10], initializer=tf.random_normal_initializer())\n",
        "    b1=tf.get_variable(\"b0\", [10], initializer=tf.constant_initializer(0.0))\n",
        "    w2=tf.get_variable(\"w1\", [10, 10], initializer=tf.random_normal_initializer())\n",
        "    b2=tf.get_variable(\"b1\", [10], initializer=tf.constant_initializer(0.0))\n",
        "    w3=tf.get_variable(\"w2\", [10,output_dim], initializer=tf.random_normal_initializer())\n",
        "    b3=tf.get_variable(\"b2\", [output_dim], initializer=tf.constant_initializer(0.0))\n",
        "    # nn operators\n",
        "    fc1=tf.nn.tanh(tf.matmul(input,w1)+b1)\n",
        "    fc2=tf.nn.tanh(tf.matmul(fc1,w2)+b2)\n",
        "    fc3=tf.nn.tanh(tf.matmul(fc2,w3)+b3)\n",
        "    return fc3, [w1,b1,w2,b2,w3,b3]"
      ],
      "execution_count": 0,
      "outputs": []
    },
    {
      "cell_type": "code",
      "metadata": {
        "id": "szXIlf13iiT1",
        "colab_type": "code",
        "colab": {}
      },
      "source": [
        "# re-used for optimizing all networks\n",
        "def momentum_optimizer(loss,var_list):\n",
        "    batch = tf.Variable(0)\n",
        "    learning_rate = tf.train.exponential_decay(\n",
        "        0.0001,               # Base learning rate.\n",
        "        batch,               # Current index into the dataset.\n",
        "        TRAIN_ITERS // 6,    # Decay step - this decays 4 times throughout training process.\n",
        "        0.95,                # Decay rate.\n",
        "        staircase=True)\n",
        "    optimizer=tf.train.MomentumOptimizer(learning_rate,0.6).minimize(loss,\n",
        "                                                                     global_step=batch,\n",
        "                                                                     var_list=var_list)\n",
        "    return optimizer"
      ],
      "execution_count": 0,
      "outputs": []
    },
    {
      "cell_type": "markdown",
      "metadata": {
        "id": "TSc_VwlLiiT3",
        "colab_type": "text"
      },
      "source": [
        "Pre-train discriminator"
      ]
    },
    {
      "cell_type": "code",
      "metadata": {
        "id": "LHl3l_leiiT4",
        "colab_type": "code",
        "outputId": "7ad178ce-1c15-4d02-8e24-f5659ed29ef7",
        "colab": {
          "base_uri": "https://localhost:8080/",
          "height": 371
        }
      },
      "source": [
        "with tf.variable_scope(\"D_pre\"):\n",
        "    input_node=tf.placeholder(tf.float32, shape=(M,1))\n",
        "    train_labels=tf.placeholder(tf.float32,shape=(M,1))\n",
        "    D,theta=mlp(input_node,1)\n",
        "    loss=tf.reduce_mean(tf.square(D - train_labels))\n",
        "    \n",
        "optimizer=momentum_optimizer(loss,None)\n",
        "\n",
        "sess=tf.InteractiveSession()\n",
        "tf.global_variables_initializer().run()\n",
        "\n",
        "# plot decision surface\n",
        "def plot_d0(D,input_node):\n",
        "    f,ax=plt.subplots(1)\n",
        "    # p_data\n",
        "    xs=np.linspace(-5,5,1000)\n",
        "    ax.plot(xs, norm.pdf(xs,loc=mu,scale=sigma), label='p_data')\n",
        "    # decision boundary\n",
        "    r=1000 # resolution (number of points)\n",
        "    xs=np.linspace(-5,5,r)\n",
        "    ds=np.zeros((r,1)) # decision surface\n",
        "    \n",
        "    # process multiple points in parallel in a minibatch\n",
        "    for i in range(int(r/M)):\n",
        "        x=np.reshape(xs[M*i:M*(i+1)],(M,1))\n",
        "        ds[M*i:M*(i+1)]=sess.run(D,{input_node: x})\n",
        "    \n",
        "    ax.plot(xs, ds, label='decision boundary')\n",
        "    ax.set_ylim(0,1.1)\n",
        "    plt.legend()\n",
        "    \n",
        "plot_d0(D,input_node)\n",
        "plt.title('Initial Decision Boundary')"
      ],
      "execution_count": 5,
      "outputs": [
        {
          "output_type": "stream",
          "text": [
            "WARNING:tensorflow:From /usr/local/lib/python3.6/dist-packages/tensorflow/python/framework/op_def_library.py:263: colocate_with (from tensorflow.python.framework.ops) is deprecated and will be removed in a future version.\n",
            "Instructions for updating:\n",
            "Colocations handled automatically by placer.\n"
          ],
          "name": "stdout"
        },
        {
          "output_type": "execute_result",
          "data": {
            "text/plain": [
              "Text(0.5, 1.0, 'Initial Decision Boundary')"
            ]
          },
          "metadata": {
            "tags": []
          },
          "execution_count": 5
        },
        {
          "output_type": "display_data",
          "data": {
            "image/png": "[encoded data removed]",
            "text/plain": [
              "<Figure size 432x288 with 1 Axes>"
            ]
          },
          "metadata": {
            "tags": []
          }
        }
      ]
    },
    {
      "cell_type": "code",
      "metadata": {
        "id": "sw-dhDzyiiT7",
        "colab_type": "code",
        "colab": {}
      },
      "source": [
        "lh=np.zeros(1000)\n",
        "for i in range(1000):\n",
        "    d=(np.random.random(M)-0.5) * 10.0 \n",
        "    labels=norm.pdf(d,loc=mu,scale=sigma)\n",
        "    lh[i],_=sess.run([loss,optimizer], \n",
        "                     {input_node: np.reshape(d,(M,1)), \n",
        "                      train_labels: np.reshape(labels,(M,1))})"
      ],
      "execution_count": 0,
      "outputs": []
    },
    {
      "cell_type": "code",
      "metadata": {
        "id": "5m1C9Ct9iiT9",
        "colab_type": "code",
        "outputId": "c2f71889-3b5b-4244-fa17-299f02d8ee12",
        "colab": {
          "base_uri": "https://localhost:8080/",
          "height": 298
        }
      },
      "source": [
        "# training loss\n",
        "plt.plot(lh)\n",
        "plt.title('Training Loss')"
      ],
      "execution_count": 11,
      "outputs": [
        {
          "output_type": "execute_result",
          "data": {
            "text/plain": [
              "Text(0.5, 1.0, 'Training Loss')"
            ]
          },
          "metadata": {
            "tags": []
          },
          "execution_count": 11
        },
        {
          "output_type": "display_data",
          "data": {
            "image/png": "[encoded data removed]",
            "text/plain": [
              "<Figure size 432x288 with 1 Axes>"
            ]
          },
          "metadata": {
            "tags": []
          }
        }
      ]
    },
    {
      "cell_type": "code",
      "metadata": {
        "id": "B5Iz-BQLiiUA",
        "colab_type": "code",
        "outputId": "c6c22890-e7b2-4214-970f-be50d3318e27",
        "colab": {
          "base_uri": "https://localhost:8080/",
          "height": 269
        }
      },
      "source": [
        "plot_d0(D,input_node)"
      ],
      "execution_count": 12,
      "outputs": [
        {
          "output_type": "display_data",
          "data": {
            "image/png": "[encoded data removed]",
            "text/plain": [
              "<Figure size 432x288 with 1 Axes>"
            ]
          },
          "metadata": {
            "tags": []
          }
        }
      ]
    },
    {
      "cell_type": "code",
      "metadata": {
        "id": "7hIo27GmiiUE",
        "colab_type": "code",
        "colab": {}
      },
      "source": [
        "# copy the learned weights over into a tmp array\n",
        "weightsD=sess.run(theta)\n",
        "\n",
        "# close the pre-training session\n",
        "sess.close()"
      ],
      "execution_count": 0,
      "outputs": []
    },
    {
      "cell_type": "markdown",
      "metadata": {
        "id": "ZwSxZ_p2iiUG",
        "colab_type": "text"
      },
      "source": [
        "Now to build the actual generative adversarial network\n"
      ]
    },
    {
      "cell_type": "code",
      "metadata": {
        "id": "qJQ_6dstiiUH",
        "colab_type": "code",
        "colab": {}
      },
      "source": [
        "with tf.variable_scope(\"G\"):\n",
        "    z_node=tf.placeholder(tf.float32, shape=(M,1)) # M uniform01 floats\n",
        "    G,theta_g=mlpg(z_node,1) # generate normal transformation of Z\n",
        "    G=tf.multiply(5.0,G) # scale up by 5 to match range\n",
        "\n",
        "with tf.variable_scope(\"D\") as scope:\n",
        "    # D(x)\n",
        "    x_node=tf.placeholder(tf.float32, shape=(M,1)) # input M normally distributed floats\n",
        "    fc,theta_d=mlp(x_node,1) # output likelihood of being normally distributed\n",
        "    D1=tf.maximum(tf.minimum(fc,.99), 0.01) # clamp as a probability\n",
        "    # make a copy of D that uses the same variables, but takes in G as input\n",
        "    scope.reuse_variables()\n",
        "    fc,theta_d=mlp(G,1)\n",
        "    D2=tf.maximum(tf.minimum(fc,.99), 0.01)\n",
        "\n",
        "obj_d=tf.reduce_mean(tf.log(D1)+tf.log(1-D2))\n",
        "obj_g=tf.reduce_mean(tf.log(D2))\n",
        "\n",
        "# set up optimizer for G,D\n",
        "opt_d=momentum_optimizer(1-obj_d, theta_d)\n",
        "opt_g=momentum_optimizer(1-obj_g, theta_g) # maximize log(D(G(z)))"
      ],
      "execution_count": 0,
      "outputs": []
    },
    {
      "cell_type": "code",
      "metadata": {
        "id": "cO59EYD6iiUJ",
        "colab_type": "code",
        "colab": {}
      },
      "source": [
        "sess=tf.InteractiveSession()\n",
        "tf.global_variables_initializer().run()"
      ],
      "execution_count": 0,
      "outputs": []
    },
    {
      "cell_type": "code",
      "metadata": {
        "id": "bh1nDcYKiiUL",
        "colab_type": "code",
        "colab": {}
      },
      "source": [
        "# copy weights from pre-training over to new D network\n",
        "for i,v in enumerate(theta_d):\n",
        "    sess.run(v.assign(weightsD[i]))\n"
      ],
      "execution_count": 0,
      "outputs": []
    },
    {
      "cell_type": "code",
      "metadata": {
        "id": "G4eyGnFaiiUN",
        "colab_type": "code",
        "outputId": "ecc11c0d-bdc6-4e9c-f98e-89b0d4908116",
        "colab": {
          "base_uri": "https://localhost:8080/",
          "height": 298
        }
      },
      "source": [
        "def plot_fig():\n",
        "    # plots pg, pdata, decision boundary \n",
        "    f,ax=plt.subplots(1)\n",
        "    # p_data\n",
        "    xs=np.linspace(-5,5,1000)\n",
        "    ax.plot(xs, norm.pdf(xs,loc=mu,scale=sigma), label='p_data')\n",
        "\n",
        "    # decision boundary\n",
        "    r=5000 # resolution (number of points)\n",
        "    xs=np.linspace(-5,5,r)\n",
        "    ds=np.zeros((r,1)) # decision surface\n",
        "    # process multiple points in parallel in same minibatch\n",
        "    for i in range(int(r/M)):\n",
        "        x=np.reshape(xs[M*i:M*(i+1)],(M,1))\n",
        "        ds[M*i:M*(i+1)]=sess.run(D1,{x_node: x})\n",
        "\n",
        "    ax.plot(xs, ds, label='decision boundary')\n",
        "\n",
        "    # distribution of inverse-mapped points\n",
        "    zs=np.linspace(-5,5,r)\n",
        "    gs=np.zeros((r,1)) # generator function\n",
        "    for i in range(int(r/M)):\n",
        "        z=np.reshape(zs[M*i:M*(i+1)],(M,1))\n",
        "        gs[M*i:M*(i+1)]=sess.run(G,{z_node: z})\n",
        "    histc, edges = np.histogram(gs, bins = 10)\n",
        "    ax.plot(np.linspace(-5,5,10), histc/float(r), label='p_g')\n",
        "\n",
        "    # ylim, legend\n",
        "    ax.set_ylim(0,1.1)\n",
        "    plt.legend()\n",
        "    \n",
        "# initial conditions\n",
        "plot_fig()\n",
        "plt.title('Before Training')"
      ],
      "execution_count": 17,
      "outputs": [
        {
          "output_type": "execute_result",
          "data": {
            "text/plain": [
              "Text(0.5, 1.0, 'Before Training')"
            ]
          },
          "metadata": {
            "tags": []
          },
          "execution_count": 17
        },
        {
          "output_type": "display_data",
          "data": {
            "image/png": "[encoded data removed]",
            "text/plain": [
              "<Figure size 432x288 with 1 Axes>"
            ]
          },
          "metadata": {
            "tags": []
          }
        }
      ]
    },
    {
      "cell_type": "code",
      "metadata": {
        "id": "aDfEmz__iiUT",
        "colab_type": "code",
        "outputId": "171d1acc-7bb0-4a2f-d604-12f120b05809",
        "colab": {
          "base_uri": "https://localhost:8080/",
          "height": 192
        }
      },
      "source": [
        "TRAIN_ITERS=10000\n",
        "\n",
        "\n",
        "# Algorithm 1 of Goodfellow et al 2014\n",
        "k=1\n",
        "histd, histg= np.zeros(TRAIN_ITERS), np.zeros(TRAIN_ITERS)\n",
        "for i in range(TRAIN_ITERS):\n",
        "    for j in range(k):\n",
        "        x= np.random.normal(mu,sigma,M) # sampled m-batch from p_data\n",
        "        x.sort()\n",
        "        z= np.linspace(-5.0,5.0,M)+np.random.random(M)*0.01  # sample m-batch from noise prior\n",
        "        histd[i],_=sess.run([obj_d,opt_d], \n",
        "                            {x_node: np.reshape(x,(M,1)), \n",
        "                             z_node: np.reshape(z,(M,1))})\n",
        "    z= np.linspace(-5.0,5.0,M)+np.random.random(M)*0.01 # sample noise prior\n",
        "    histg[i],_=sess.run([obj_g,opt_g], \n",
        "                        {z_node: np.reshape(z,(M,1))}) # update generator\n",
        "    if i % (TRAIN_ITERS//10) == 0:\n",
        "        print(float(i)/float(TRAIN_ITERS))"
      ],
      "execution_count": 18,
      "outputs": [
        {
          "output_type": "stream",
          "text": [
            "0.0\n",
            "0.1\n",
            "0.2\n",
            "0.3\n",
            "0.4\n",
            "0.5\n",
            "0.6\n",
            "0.7\n",
            "0.8\n",
            "0.9\n"
          ],
          "name": "stdout"
        }
      ]
    },
    {
      "cell_type": "code",
      "metadata": {
        "id": "0uq_EcpiiiUX",
        "colab_type": "code",
        "outputId": "d585e787-0ab9-4d0f-8b71-4596196c3731",
        "colab": {
          "base_uri": "https://localhost:8080/",
          "height": 286
        }
      },
      "source": [
        "plt.plot(range(TRAIN_ITERS),histd, label='obj_d')\n",
        "plt.plot(range(TRAIN_ITERS), 1-histg, label='obj_g')\n",
        "plt.legend()"
      ],
      "execution_count": 19,
      "outputs": [
        {
          "output_type": "execute_result",
          "data": {
            "text/plain": [
              "<matplotlib.legend.Legend at 0x7f0e91bd54e0>"
            ]
          },
          "metadata": {
            "tags": []
          },
          "execution_count": 19
        },
        {
          "output_type": "display_data",
          "data": {
            "image/png": "[encoded data removed]",
            "text/plain": [
              "<Figure size 432x288 with 1 Axes>"
            ]
          },
          "metadata": {
            "tags": []
          }
        }
      ]
    },
    {
      "cell_type": "code",
      "metadata": {
        "id": "FguUK-oRiiUc",
        "colab_type": "code",
        "outputId": "31511c87-d1b3-4e04-d579-ee3599b94039",
        "colab": {
          "base_uri": "https://localhost:8080/",
          "height": 269
        }
      },
      "source": [
        "plot_fig()"
      ],
      "execution_count": 20,
      "outputs": [
        {
          "output_type": "display_data",
          "data": {
            "image/png": "[encoded data removed]",
            "text/plain": [
              "<Figure size 432x288 with 1 Axes>"
            ]
          },
          "metadata": {
            "tags": []
          }
        }
      ]
    },
    {
      "cell_type": "markdown",
      "metadata": {
        "id": "Cqzy0keT8ZvD",
        "colab_type": "text"
      },
      "source": [
        "https://poloclub.github.io/ganlab/"
      ]
    },
    {
      "cell_type": "markdown",
      "metadata": {
        "id": "zZk8x-IeiiUf",
        "colab_type": "text"
      },
      "source": [
        "### DGAN Architecture\n",
        "\n",
        "Most GANs today are at least loosely based on the DCGAN architecture (Radford\n",
        "et al., 2015). DCGAN stands for “deep, convolution GAN.”\n",
        "\n",
        "Some of the key insights of the DCGAN architecture were to:\n",
        "\n",
        "+ Use batch normalization layers in most layers\n",
        "of both the discriminator and the generator, with the two minibatches for\n",
        "the discriminator normalized separately. \n",
        "\n",
        "+ The overall network structure is mostly borrowed from the all-convolutional\n",
        "net. \n",
        "\n",
        "+ The use of the Adam optimizer rather than SGD with momentum. \n",
        "\n",
        "<center>\n",
        "<img src=\"https://github.com/DataScienceUB/DeepLearningMaster2019/blob/master/images/dgan.png?raw=1\" alt=\"\" style=\"width: 700px;\"/> \n",
        "(Source: https://arxiv.org/pdf/1511.06434.pdf)\n",
        "</center>\n",
        "\n",
        "\n",
        "Generated bedrooms after one training pass through the dataset: \n",
        "\n",
        "\n",
        "<center>\n",
        "<img src=\"https://github.com/DataScienceUB/DeepLearningMaster2019/blob/master/images/dgan2.png?raw=1\" alt=\"\" style=\"width: 700px;\"/> \n",
        "(Source: https://github.com/Newmu/dcgan_code)\n",
        "</center>\n",
        "\n",
        "\n",
        "Covers: \n",
        "\n",
        "<center>\n",
        "<img src=\"https://github.com/DataScienceUB/DeepLearningMaster2019/blob/master/images/dgan3.png?raw=1\" alt=\"\" style=\"width: 700px;\"/> \n",
        "(Source: https://github.com/Newmu/dcgan_code)\n",
        "</center>\n",
        "\n"
      ]
    },
    {
      "cell_type": "markdown",
      "metadata": {
        "id": "ARPiIwav9ElT",
        "colab_type": "text"
      },
      "source": [
        "## MNIST GAN\n",
        "\n"
      ]
    },
    {
      "cell_type": "code",
      "metadata": {
        "id": "h4wSKWe09JhO",
        "colab_type": "code",
        "colab": {}
      },
      "source": [
        "# Keras imports \n",
        "from tensorflow.keras.models import Sequential\n",
        "from tensorflow.keras.layers import Dense, Activation, Flatten, Reshape\n",
        "from tensorflow.keras.layers import Conv2D, UpSampling2D\n",
        "from tensorflow.keras.layers import LeakyReLU, Dropout\n",
        "from tensorflow.keras.layers import BatchNormalization\n",
        "from tensorflow.keras.optimizers import Adam, SGD, RMSprop\n",
        "\n",
        "import numpy as np\n",
        "import matplotlib.pyplot as plt\n",
        "from IPython.display import clear_output, Image\n",
        "\n",
        "# We'll be downloading and reading in the MNIST data from Tensorflow\n",
        "from tensorflow.examples.tutorials.mnist import input_data"
      ],
      "execution_count": 0,
      "outputs": []
    },
    {
      "cell_type": "code",
      "metadata": {
        "id": "-say641A9O9m",
        "colab_type": "code",
        "outputId": "3c067cc2-5c18-44ff-e6b9-24a13fa7a000",
        "colab": {
          "base_uri": "https://localhost:8080/",
          "height": 34
        }
      },
      "source": [
        "import keras.backend.tensorflow_backend as ktf\n",
        "import tensorflow as tf\n",
        "import os\n",
        "\n",
        "def get_session(gpu_fraction=0.45):\n",
        "    '''Assume that you have 6GB of GPU memory and want to allocate ~2GB'''\n",
        "\n",
        "    num_threads = os.environ.get('OMP_NUM_THREADS')\n",
        "    gpu_options = tf.GPUOptions(per_process_gpu_memory_fraction=gpu_fraction)\n",
        "\n",
        "    if num_threads:\n",
        "        return tf.Session(config=tf.ConfigProto(\n",
        "            gpu_options=gpu_options, intra_op_parallelism_threads=num_threads))\n",
        "    else:\n",
        "        return tf.Session(config=tf.ConfigProto(gpu_options=gpu_options))\n",
        "\n",
        "ktf.set_session(get_session())"
      ],
      "execution_count": 0,
      "outputs": [
        {
          "output_type": "stream",
          "text": [
            "Using TensorFlow backend.\n"
          ],
          "name": "stderr"
        }
      ]
    },
    {
      "cell_type": "code",
      "metadata": {
        "id": "cJ9B-9qm9Ym-",
        "colab_type": "code",
        "colab": {}
      },
      "source": [
        "def discriminator():\n",
        "    \n",
        "    net = Sequential()\n",
        "    input_shape = (28, 28, 1)\n",
        "    dropout_prob = 0.4\n",
        "\n",
        "    net.add(Conv2D(64, 5, strides=2, input_shape=input_shape, padding='same'))\n",
        "    net.add(LeakyReLU())\n",
        "    \n",
        "    net.add(Conv2D(128, 5, strides=2, padding='same'))\n",
        "    net.add(LeakyReLU())\n",
        "    net.add(Dropout(dropout_prob))\n",
        "    \n",
        "    net.add(Conv2D(256, 5, strides=2, padding='same'))\n",
        "    net.add(LeakyReLU())\n",
        "    net.add(Dropout(dropout_prob))\n",
        "    \n",
        "    net.add(Conv2D(512, 5, strides=1, padding='same'))\n",
        "    net.add(LeakyReLU())\n",
        "    net.add(Dropout(dropout_prob))\n",
        "    \n",
        "    net.add(Flatten())\n",
        "    net.add(Dense(1))\n",
        "    net.add(Activation('sigmoid'))\n",
        "    \n",
        "    return net"
      ],
      "execution_count": 0,
      "outputs": []
    },
    {
      "cell_type": "code",
      "metadata": {
        "id": "ygpfUd9H9bKD",
        "colab_type": "code",
        "outputId": "a0c3451c-2623-4f97-d029-9fc130e51a5a",
        "colab": {
          "base_uri": "https://localhost:8080/",
          "height": 740
        }
      },
      "source": [
        "net_discriminator = discriminator()\n",
        "net_discriminator.summary()"
      ],
      "execution_count": 0,
      "outputs": [
        {
          "output_type": "stream",
          "text": [
            "WARNING:tensorflow:From /usr/local/lib/python3.6/dist-packages/tensorflow/python/ops/resource_variable_ops.py:435: colocate_with (from tensorflow.python.framework.ops) is deprecated and will be removed in a future version.\n",
            "Instructions for updating:\n",
            "Colocations handled automatically by placer.\n",
            "WARNING:tensorflow:From /usr/local/lib/python3.6/dist-packages/tensorflow/python/keras/layers/core.py:143: calling dropout (from tensorflow.python.ops.nn_ops) with keep_prob is deprecated and will be removed in a future version.\n",
            "Instructions for updating:\n",
            "Please use `rate` instead of `keep_prob`. Rate should be set to `rate = 1 - keep_prob`.\n",
            "_________________________________________________________________\n",
            "Layer (type)                 Output Shape              Param #   \n",
            "=================================================================\n",
            "conv2d (Conv2D)              (None, 14, 14, 64)        1664      \n",
            "_________________________________________________________________\n",
            "leaky_re_lu (LeakyReLU)      (None, 14, 14, 64)        0         \n",
            "_________________________________________________________________\n",
            "conv2d_1 (Conv2D)            (None, 7, 7, 128)         204928    \n",
            "_________________________________________________________________\n",
            "leaky_re_lu_1 (LeakyReLU)    (None, 7, 7, 128)         0         \n",
            "_________________________________________________________________\n",
            "dropout (Dropout)            (None, 7, 7, 128)         0         \n",
            "_________________________________________________________________\n",
            "conv2d_2 (Conv2D)            (None, 4, 4, 256)         819456    \n",
            "_________________________________________________________________\n",
            "leaky_re_lu_2 (LeakyReLU)    (None, 4, 4, 256)         0         \n",
            "_________________________________________________________________\n",
            "dropout_1 (Dropout)          (None, 4, 4, 256)         0         \n",
            "_________________________________________________________________\n",
            "conv2d_3 (Conv2D)            (None, 4, 4, 512)         3277312   \n",
            "_________________________________________________________________\n",
            "leaky_re_lu_3 (LeakyReLU)    (None, 4, 4, 512)         0         \n",
            "_________________________________________________________________\n",
            "dropout_2 (Dropout)          (None, 4, 4, 512)         0         \n",
            "_________________________________________________________________\n",
            "flatten (Flatten)            (None, 8192)              0         \n",
            "_________________________________________________________________\n",
            "dense (Dense)                (None, 1)                 8193      \n",
            "_________________________________________________________________\n",
            "activation (Activation)      (None, 1)                 0         \n",
            "=================================================================\n",
            "Total params: 4,311,553\n",
            "Trainable params: 4,311,553\n",
            "Non-trainable params: 0\n",
            "_________________________________________________________________\n"
          ],
          "name": "stdout"
        }
      ]
    },
    {
      "cell_type": "code",
      "metadata": {
        "id": "PiuMfGi49ijc",
        "colab_type": "code",
        "colab": {}
      },
      "source": [
        "def generator():\n",
        "    \n",
        "    net = Sequential()\n",
        "    dropout_prob = 0.4\n",
        "\n",
        "    net.add(Dense(7*7*256, input_dim=100))\n",
        "    net.add(BatchNormalization(momentum=0.9))\n",
        "    net.add(LeakyReLU())\n",
        "    net.add(Reshape((7,7,256)))\n",
        "    net.add(Dropout(dropout_prob))\n",
        "    \n",
        "    net.add(UpSampling2D())\n",
        "    net.add(Conv2D(128, 5, padding='same'))\n",
        "    net.add(BatchNormalization(momentum=0.9))\n",
        "    net.add(LeakyReLU())\n",
        "    \n",
        "    net.add(UpSampling2D())\n",
        "    net.add(Conv2D(64, 5, padding='same'))\n",
        "    net.add(BatchNormalization(momentum=0.9))\n",
        "    net.add(LeakyReLU())\n",
        "    \n",
        "    net.add(Conv2D(32, 5, padding='same'))\n",
        "    net.add(BatchNormalization(momentum=0.9))\n",
        "    net.add(LeakyReLU())\n",
        "    \n",
        "    net.add(Conv2D(1, 5, padding='same'))\n",
        "    net.add(Activation('sigmoid'))\n",
        "    \n",
        "    return net"
      ],
      "execution_count": 0,
      "outputs": []
    },
    {
      "cell_type": "code",
      "metadata": {
        "id": "kNZPCWs_9mFh",
        "colab_type": "code",
        "outputId": "6517fcb2-9f51-422c-820e-17d1579a3689",
        "colab": {
          "base_uri": "https://localhost:8080/",
          "height": 754
        }
      },
      "source": [
        "net_generator = generator()\n",
        "net_generator.summary()"
      ],
      "execution_count": 0,
      "outputs": [
        {
          "output_type": "stream",
          "text": [
            "_________________________________________________________________\n",
            "Layer (type)                 Output Shape              Param #   \n",
            "=================================================================\n",
            "dense_1 (Dense)              (None, 12544)             1266944   \n",
            "_________________________________________________________________\n",
            "batch_normalization_v1 (Batc (None, 12544)             50176     \n",
            "_________________________________________________________________\n",
            "leaky_re_lu_4 (LeakyReLU)    (None, 12544)             0         \n",
            "_________________________________________________________________\n",
            "reshape (Reshape)            (None, 7, 7, 256)         0         \n",
            "_________________________________________________________________\n",
            "dropout_3 (Dropout)          (None, 7, 7, 256)         0         \n",
            "_________________________________________________________________\n",
            "up_sampling2d (UpSampling2D) (None, 14, 14, 256)       0         \n",
            "_________________________________________________________________\n",
            "conv2d_4 (Conv2D)            (None, 14, 14, 128)       819328    \n",
            "_________________________________________________________________\n",
            "batch_normalization_v1_1 (Ba (None, 14, 14, 128)       512       \n",
            "_________________________________________________________________\n",
            "leaky_re_lu_5 (LeakyReLU)    (None, 14, 14, 128)       0         \n",
            "_________________________________________________________________\n",
            "up_sampling2d_1 (UpSampling2 (None, 28, 28, 128)       0         \n",
            "_________________________________________________________________\n",
            "conv2d_5 (Conv2D)            (None, 28, 28, 64)        204864    \n",
            "_________________________________________________________________\n",
            "batch_normalization_v1_2 (Ba (None, 28, 28, 64)        256       \n",
            "_________________________________________________________________\n",
            "leaky_re_lu_6 (LeakyReLU)    (None, 28, 28, 64)        0         \n",
            "_________________________________________________________________\n",
            "conv2d_6 (Conv2D)            (None, 28, 28, 32)        51232     \n",
            "_________________________________________________________________\n",
            "batch_normalization_v1_3 (Ba (None, 28, 28, 32)        128       \n",
            "_________________________________________________________________\n",
            "leaky_re_lu_7 (LeakyReLU)    (None, 28, 28, 32)        0         \n",
            "_________________________________________________________________\n",
            "conv2d_7 (Conv2D)            (None, 28, 28, 1)         801       \n",
            "_________________________________________________________________\n",
            "activation_1 (Activation)    (None, 28, 28, 1)         0         \n",
            "=================================================================\n",
            "Total params: 2,394,241\n",
            "Trainable params: 2,368,705\n",
            "Non-trainable params: 25,536\n",
            "_________________________________________________________________\n"
          ],
          "name": "stdout"
        }
      ]
    },
    {
      "cell_type": "code",
      "metadata": {
        "id": "puVB-4WX9otj",
        "colab_type": "code",
        "outputId": "d3a646cb-3c10-44a1-b18a-0810122c1733",
        "colab": {
          "base_uri": "https://localhost:8080/",
          "height": 171
        }
      },
      "source": [
        "dis_lr=0.0008\n",
        "dis_clipvalue=1.0\n",
        "dis_decay=1e-10\n",
        "dis_optimizer = RMSprop\n",
        "\n",
        "optim_discriminator = RMSprop(lr=dis_lr, clipvalue=dis_clipvalue, decay=dis_decay)\n",
        "model_discriminator = Sequential()\n",
        "model_discriminator.add(net_discriminator)\n",
        "model_discriminator.compile(loss='binary_crossentropy', optimizer=optim_discriminator, metrics=['accuracy'])\n",
        "\n",
        "model_discriminator.summary()\n",
        "\n"
      ],
      "execution_count": 0,
      "outputs": [
        {
          "output_type": "stream",
          "text": [
            "_________________________________________________________________\n",
            "Layer (type)                 Output Shape              Param #   \n",
            "=================================================================\n",
            "sequential (Sequential)      (None, 1)                 4311553   \n",
            "=================================================================\n",
            "Total params: 4,311,553\n",
            "Trainable params: 4,311,553\n",
            "Non-trainable params: 0\n",
            "_________________________________________________________________\n"
          ],
          "name": "stdout"
        }
      ]
    },
    {
      "cell_type": "code",
      "metadata": {
        "id": "iy61vU2C9tkM",
        "colab_type": "code",
        "outputId": "ea8b766e-dc30-4163-803c-eda998c17844",
        "colab": {
          "base_uri": "https://localhost:8080/",
          "height": 206
        }
      },
      "source": [
        "adv_lr=0.0004\n",
        "adv_clipvalue=1.0\n",
        "adv_decay=1e-10\n",
        "adv_optimizer = Adam\n",
        "\n",
        "optim_adversarial = Adam(lr=adv_lr, clipvalue=adv_clipvalue, decay=adv_decay)\n",
        "model_adversarial = Sequential()\n",
        "model_adversarial.add(net_generator)\n",
        "\n",
        "# Disable layers in discriminator\n",
        "for layer in net_discriminator.layers:\n",
        "    layer.trainable = False\n",
        "\n",
        "model_adversarial.add(net_discriminator)\n",
        "model_adversarial.compile(loss='binary_crossentropy', optimizer=optim_adversarial, metrics=['accuracy'])\n",
        "model_adversarial.summary()\n"
      ],
      "execution_count": 0,
      "outputs": [
        {
          "output_type": "stream",
          "text": [
            "_________________________________________________________________\n",
            "Layer (type)                 Output Shape              Param #   \n",
            "=================================================================\n",
            "sequential_1 (Sequential)    (None, 28, 28, 1)         2394241   \n",
            "_________________________________________________________________\n",
            "sequential (Sequential)      (None, 1)                 4311553   \n",
            "=================================================================\n",
            "Total params: 6,705,794\n",
            "Trainable params: 2,368,705\n",
            "Non-trainable params: 4,337,089\n",
            "_________________________________________________________________\n"
          ],
          "name": "stdout"
        }
      ]
    },
    {
      "cell_type": "code",
      "metadata": {
        "id": "BouM-OD59x8G",
        "colab_type": "code",
        "outputId": "180dfa14-1872-48b8-dd1a-a6d86c251c25",
        "colab": {
          "base_uri": "https://localhost:8080/",
          "height": 603
        }
      },
      "source": [
        "# Read MNIST data\n",
        "x_train = input_data.read_data_sets(\"mnist\", one_hot=True).train.images\n",
        "x_train = x_train.reshape(-1, 28, 28, 1).astype(np.float32)\n",
        "\n",
        "# Map the images to a new range [-1, 1]\n",
        "#x_train = x_train / 0.5 - 1\n",
        "\n",
        "import os\n",
        "os.makedirs(\"output/mnist-normal\")\n",
        "\n",
        "batch_size = 256\n",
        "\n",
        "vis_noise = np.random.uniform(-1.0, 1.0, size=[16, 100])\n",
        "\n",
        "loss_adv = []\n",
        "loss_dis = []\n",
        "acc_adv = []\n",
        "acc_dis = []\n",
        "plot_iteration = []\n",
        "\n",
        "for i in range(10001):\n",
        "    \n",
        "    # Select a random set of training images from the mnist dataset\n",
        "    images_train = x_train[np.random.randint(0, x_train.shape[0], size=batch_size), :, :, :]\n",
        "    # Generate a random noise vector\n",
        "    noise = np.random.uniform(-1.0, 1.0, size=[batch_size, 100])\n",
        "    # Use the generator to create fake images from the noise vector\n",
        "    images_fake = net_generator.predict(noise)\n",
        "    \n",
        "    # Create a dataset with fake and real images\n",
        "    x = np.concatenate((images_train, images_fake))\n",
        "    y = np.ones([2*batch_size, 1])\n",
        "    y[batch_size:, :] = 0 \n",
        "\n",
        "    # Train discriminator for one batch\n",
        "    d_stats = model_discriminator.train_on_batch(x, y)\n",
        "    \n",
        "    # Train the generator\n",
        "    # The input of the adversarial model is a list of noise vectors. The generator is 'good' if the discriminator classifies\n",
        "    # all the generated images as real. Therefore, the desired output is a list of all ones.\n",
        "    y = np.ones([batch_size, 1])\n",
        "    noise = np.random.uniform(-1.0, 1.0, size=[batch_size, 100])\n",
        "    a_stats = model_adversarial.train_on_batch(noise, y)\n",
        "        \n",
        "           \n",
        "    if i % 500 == 0:\n",
        "        # Visualize the performance of the generator by producing images from the test vector\n",
        "        images = net_generator.predict(vis_noise)\n",
        "        # Map back to original range\n",
        "        #images = (images + 1 ) * 0.5\n",
        "        plt.figure(figsize=(10,10))\n",
        "        \n",
        "        for im in range(images.shape[0]):\n",
        "            plt.subplot(4, 4, im+1)\n",
        "            image = images[im, :, :, :]\n",
        "            image = np.reshape(image, [28, 28])\n",
        "            \n",
        "            plt.imshow(image, cmap='gray')\n",
        "            plt.axis('off')\n",
        "        \n",
        "        plt.tight_layout()\n",
        "        plt.savefig(r'output/mnist-normal/{}.png'.format(i))\n",
        "        plt.close('all')"
      ],
      "execution_count": 0,
      "outputs": [
        {
          "output_type": "stream",
          "text": [
            "WARNING:tensorflow:From <ipython-input-9-c3040ac31f1d>:1: read_data_sets (from tensorflow.contrib.learn.python.learn.datasets.mnist) is deprecated and will be removed in a future version.\n",
            "Instructions for updating:\n",
            "Please use alternatives such as official/mnist/dataset.py from tensorflow/models.\n",
            "WARNING:tensorflow:From /usr/local/lib/python3.6/dist-packages/tensorflow/contrib/learn/python/learn/datasets/mnist.py:260: maybe_download (from tensorflow.contrib.learn.python.learn.datasets.base) is deprecated and will be removed in a future version.\n",
            "Instructions for updating:\n",
            "Please write your own downloading logic.\n",
            "WARNING:tensorflow:From /usr/local/lib/python3.6/dist-packages/tensorflow/contrib/learn/python/learn/datasets/base.py:252: _internal_retry.<locals>.wrap.<locals>.wrapped_fn (from tensorflow.contrib.learn.python.learn.datasets.base) is deprecated and will be removed in a future version.\n",
            "Instructions for updating:\n",
            "Please use urllib or similar directly.\n",
            "Successfully downloaded train-images-idx3-ubyte.gz 9912422 bytes.\n",
            "WARNING:tensorflow:From /usr/local/lib/python3.6/dist-packages/tensorflow/contrib/learn/python/learn/datasets/mnist.py:262: extract_images (from tensorflow.contrib.learn.python.learn.datasets.mnist) is deprecated and will be removed in a future version.\n",
            "Instructions for updating:\n",
            "Please use tf.data to implement this functionality.\n",
            "Extracting mnist/train-images-idx3-ubyte.gz\n",
            "Successfully downloaded train-labels-idx1-ubyte.gz 28881 bytes.\n",
            "WARNING:tensorflow:From /usr/local/lib/python3.6/dist-packages/tensorflow/contrib/learn/python/learn/datasets/mnist.py:267: extract_labels (from tensorflow.contrib.learn.python.learn.datasets.mnist) is deprecated and will be removed in a future version.\n",
            "Instructions for updating:\n",
            "Please use tf.data to implement this functionality.\n",
            "Extracting mnist/train-labels-idx1-ubyte.gz\n",
            "WARNING:tensorflow:From /usr/local/lib/python3.6/dist-packages/tensorflow/contrib/learn/python/learn/datasets/mnist.py:110: dense_to_one_hot (from tensorflow.contrib.learn.python.learn.datasets.mnist) is deprecated and will be removed in a future version.\n",
            "Instructions for updating:\n",
            "Please use tf.one_hot on tensors.\n",
            "Successfully downloaded t10k-images-idx3-ubyte.gz 1648877 bytes.\n",
            "Extracting mnist/t10k-images-idx3-ubyte.gz\n",
            "Successfully downloaded t10k-labels-idx1-ubyte.gz 4542 bytes.\n",
            "Extracting mnist/t10k-labels-idx1-ubyte.gz\n",
            "WARNING:tensorflow:From /usr/local/lib/python3.6/dist-packages/tensorflow/contrib/learn/python/learn/datasets/mnist.py:290: DataSet.__init__ (from tensorflow.contrib.learn.python.learn.datasets.mnist) is deprecated and will be removed in a future version.\n",
            "Instructions for updating:\n",
            "Please use alternatives such as official/mnist/dataset.py from tensorflow/models.\n",
            "WARNING:tensorflow:Discrepancy between trainable weights and collected trainable weights, did you set `model.trainable` without calling `model.compile` after ?\n",
            "WARNING:tensorflow:From /usr/local/lib/python3.6/dist-packages/tensorflow/python/ops/math_ops.py:3066: to_int32 (from tensorflow.python.ops.math_ops) is deprecated and will be removed in a future version.\n",
            "Instructions for updating:\n",
            "Use tf.cast instead.\n"
          ],
          "name": "stdout"
        }
      ]
    },
    {
      "cell_type": "code",
      "metadata": {
        "id": "iGJtV46d-Mrl",
        "colab_type": "code",
        "colab": {}
      },
      "source": [
        "# create a gif from the  generator's saved output (in that output/mnist-normal directory)\n",
        "\n",
        "import imageio\n",
        "\n",
        "filenames = [r'output/mnist-normal/{}.png'.format(i * 500) for i in range(20)]\n",
        "images = []\n",
        "for filename in filenames:\n",
        "    images.append(imageio.imread(filename))\n",
        "imageio.mimsave(r'output/mnist-normal/learning.gif', images, duration=0.5)\n",
        "\n",
        "Image(url='output/mnist-normal/learning.gif')  \n",
        "\n",
        "plt.figure(figsize=(15,4))\n",
        "\n",
        "for i in range(10):\n",
        "    noise = np.zeros([1,100]) - 1 + (i * 0.2)\n",
        "    images = net_generator.predict(noise)\n",
        "    \n",
        "    image = images[0, :, :, :]\n",
        "    image = np.reshape(image, [28, 28])\n",
        "          \n",
        "    plt.subplot(1, 10, i+1)\n",
        "    plt.imshow(image, cmap='gray')\n",
        "    plt.axis('off')\n",
        "\n",
        "plt.tight_layout()\n",
        "plt.savefig(r'output/mnist-normal/morph_example.png'.format(i))\n",
        "experiment.log_image(r'output/mnist-normal/morph_example.png'.format(i))\n",
        "plt.show()"
      ],
      "execution_count": 0,
      "outputs": []
    },
    {
      "cell_type": "code",
      "metadata": {
        "id": "PWGEAeww-lFu",
        "colab_type": "code",
        "colab": {}
      },
      "source": [
        "import matplotlib.patches as plot_patch\n",
        "\n",
        "plt.figure(figsize=(15,6))\n",
        "noise = np.random.uniform(-1.0, 1.0, size=[40, 100])\n",
        "images_fake = net_generator.predict(noise)\n",
        "images_real = x_train[np.random.randint(0, x_train.shape[0], size=40), :, :, :]\n",
        "choice_vector = np.random.uniform(0, 1, size=40)\n",
        "\n",
        "for i in range(40):\n",
        "    \n",
        "    if choice_vector[i] > 0.5:\n",
        "        image = images_fake[i, :, :, :]\n",
        "    else:\n",
        "        image = images_real[i]\n",
        "    image = np.reshape(image, [28, 28])\n",
        "\n",
        "    plt.subplot(4, 10, i+1)\n",
        "    plt.imshow(image, cmap='gray')\n",
        "    plt.axis('off')\n",
        "\n",
        "plt.tight_layout()\n",
        "plt.show()\n",
        "\n",
        "plt.figure(figsize=(15,6))\n",
        "\n",
        "border = np.zeros((28,28,3))\n",
        "border[0,:] = [255,0,0]\n",
        "border[:,0] = [255,0,0]\n",
        "\n",
        "for i in range(40):\n",
        "    \n",
        "    if choice_vector[i] > 0.5:\n",
        "        image = images_fake[i, :, :, :]\n",
        "    else:\n",
        "        image = images_real[i]\n",
        "    image = np.reshape(image, [28, 28])\n",
        "    \n",
        "    ax = plt.subplot(4, 10, i+1)\n",
        "    plt.imshow(image, cmap='gray')\n",
        "    if choice_vector[i] > 0.5:\n",
        "        ax.add_patch(plot_patch.Rectangle((0,0), 27, 27, edgecolor=\"red\", linewidth=2, fill=False))   \n",
        "    plt.axis('off')\n",
        "\n",
        "plt.tight_layout()\n",
        "plt.savefig(r'output/mnist-normal/final_results_sample.png'.format(i))\n",
        "experiment.log_image(r'output/mnist-normal/final_results_sample.png'.format(i))\n",
        "plt.show()"
      ],
      "execution_count": 0,
      "outputs": []
    },
    {
      "cell_type": "markdown",
      "metadata": {
        "id": "lEuLeE5BiiUf",
        "colab_type": "text"
      },
      "source": [
        "https://www.youtube.com/watch?v=kSLJriaOumA&feature=youtu.be\n",
        "\n",
        "https://deephunt.in/the-gan-zoo-79597dc8c347\n",
        "\n"
      ]
    }
  ]
}