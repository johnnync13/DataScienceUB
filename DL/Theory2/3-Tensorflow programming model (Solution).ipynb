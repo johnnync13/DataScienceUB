{
  "nbformat": 4,
  "nbformat_minor": 0,
  "metadata": {
    "anaconda-cloud": {},
    "kernel_info": {
      "name": "python3"
    },
    "kernelspec": {
      "display_name": "Python 3",
      "language": "python",
      "name": "python3"
    },
    "language_info": {
      "codemirror_mode": {
        "name": "ipython",
        "version": 3
      },
      "file_extension": ".py",
      "mimetype": "text/x-python",
      "name": "python",
      "nbconvert_exporter": "python",
      "pygments_lexer": "ipython3",
      "version": "3.6.7"
    },
    "nbpresent": {
      "slides": {
        "0eb9ee9c-5399-4988-94f3-8cee78537404": {
          "id": "0eb9ee9c-5399-4988-94f3-8cee78537404",
          "prev": null,
          "regions": {
            "4acc45f3-e023-4446-a93e-619fe0b22943": {
              "attrs": {
                "height": 0.8,
                "width": 0.8,
                "x": 0.1,
                "y": 0.1
              },
              "content": {
                "cell": "47a4bdec-f25c-4842-9025-77aa6ace8805",
                "part": "whole"
              },
              "id": "4acc45f3-e023-4446-a93e-619fe0b22943"
            }
          }
        },
        "10844e3a-543e-48a6-b696-d4dcfd40d55f": {
          "id": "10844e3a-543e-48a6-b696-d4dcfd40d55f",
          "prev": "5fc39987-5f96-4eef-88a0-b974113bfbab",
          "regions": {
            "af141f66-ba8f-4546-ab4a-e5e22cac1950": {
              "attrs": {
                "height": 0.8,
                "width": 0.8,
                "x": 0.1,
                "y": 0.1
              },
              "content": {
                "cell": "f3a49756-9e22-421c-a0d3-8bc670856ab0",
                "part": "whole"
              },
              "id": "af141f66-ba8f-4546-ab4a-e5e22cac1950"
            }
          }
        },
        "131dcdac-6159-44e0-9867-2c6521c536b9": {
          "id": "131dcdac-6159-44e0-9867-2c6521c536b9",
          "prev": "f788e7d5-5631-4090-b44e-03ea24aa1887",
          "regions": {
            "1ef1e8fa-cac5-4873-a3f7-d39435a2c89a": {
              "attrs": {
                "height": 0.8,
                "width": 0.8,
                "x": 0.1,
                "y": 0.1
              },
              "content": {
                "cell": "efe7c304-c8de-4d24-8bd0-dbfa078133b5",
                "part": "whole"
              },
              "id": "1ef1e8fa-cac5-4873-a3f7-d39435a2c89a"
            }
          }
        },
        "168f7f5f-f3e3-46ad-b488-436b5cc1fea0": {
          "id": "168f7f5f-f3e3-46ad-b488-436b5cc1fea0",
          "prev": "33131316-744b-45af-b499-9e1784ddd7ed",
          "regions": {
            "930c6824-963f-4cd5-bfde-65130261f1c7": {
              "attrs": {
                "height": 0.8,
                "width": 0.8,
                "x": 0.1,
                "y": 0.1
              },
              "content": {
                "cell": "a8218e4e-4edc-48b5-a6a3-3af3169dee3f",
                "part": "whole"
              },
              "id": "930c6824-963f-4cd5-bfde-65130261f1c7"
            }
          }
        },
        "2b9c3116-58b8-4773-8bb0-1bf8fe05296d": {
          "id": "2b9c3116-58b8-4773-8bb0-1bf8fe05296d",
          "prev": "3ff0f7df-82f5-43b2-be58-8ef1fea20437",
          "regions": {
            "e97963bc-5880-455f-b739-fe2035ff0725": {
              "attrs": {
                "height": 0.8,
                "width": 0.8,
                "x": 0.1,
                "y": 0.1
              },
              "content": {
                "cell": "ee6da6ee-dd82-49bf-8a6f-b92a8413b396",
                "part": "whole"
              },
              "id": "e97963bc-5880-455f-b739-fe2035ff0725"
            }
          }
        },
        "33131316-744b-45af-b499-9e1784ddd7ed": {
          "id": "33131316-744b-45af-b499-9e1784ddd7ed",
          "prev": "dfb0485f-4165-455b-a321-1368a5593f90",
          "regions": {
            "2f4480ab-af8e-4c1b-bbe7-e31da84b1df1": {
              "attrs": {
                "height": 0.8,
                "width": 0.8,
                "x": 0.1,
                "y": 0.1
              },
              "content": {
                "cell": "58f4f8ea-e41a-469a-a078-bb1e1725a1d3",
                "part": "whole"
              },
              "id": "2f4480ab-af8e-4c1b-bbe7-e31da84b1df1"
            }
          }
        },
        "39446710-2f8f-48cc-9800-22e7cbf9baa7": {
          "id": "39446710-2f8f-48cc-9800-22e7cbf9baa7",
          "prev": "564fcf1c-547b-4fc1-a39d-8998a92426ce",
          "regions": {
            "5682b394-0a6a-4d97-974f-ecaeb0e167fb": {
              "attrs": {
                "height": 0.8,
                "width": 0.8,
                "x": 0.1,
                "y": 0.1
              },
              "content": {
                "cell": "a637e0a1-a62b-49a1-99e2-d8eeb974fada",
                "part": "whole"
              },
              "id": "5682b394-0a6a-4d97-974f-ecaeb0e167fb"
            }
          }
        },
        "3c0bfcfd-edb6-4599-814d-85a7bdd827d3": {
          "id": "3c0bfcfd-edb6-4599-814d-85a7bdd827d3",
          "prev": "b8ef6042-0e70-43fe-a97b-c3c5e98e48a9",
          "regions": {
            "d00b6aa4-5b6d-4c1f-9db3-0f8e0c27be3b": {
              "attrs": {
                "height": 0.8,
                "width": 0.8,
                "x": 0.1,
                "y": 0.1
              },
              "content": {
                "cell": "6937c67a-43fa-4f1e-ab3d-89a199c83eb0",
                "part": "whole"
              },
              "id": "d00b6aa4-5b6d-4c1f-9db3-0f8e0c27be3b"
            }
          }
        },
        "3ff0f7df-82f5-43b2-be58-8ef1fea20437": {
          "id": "3ff0f7df-82f5-43b2-be58-8ef1fea20437",
          "prev": "8b8a4005-fafe-4345-b56a-ceea0afd3563",
          "regions": {
            "94792abe-ffb8-422b-89d2-7345f8cd9706": {
              "attrs": {
                "height": 0.8,
                "width": 0.8,
                "x": 0.1,
                "y": 0.1
              },
              "content": {
                "cell": "ca99d481-e62a-45c3-960c-ad87b458d8cb",
                "part": "whole"
              },
              "id": "94792abe-ffb8-422b-89d2-7345f8cd9706"
            }
          }
        },
        "42b53f50-3c32-4035-9006-72199a92dfa1": {
          "id": "42b53f50-3c32-4035-9006-72199a92dfa1",
          "prev": "99bfd62c-37d6-4513-975f-7453d45208bf",
          "regions": {
            "b3a398a7-4346-4a59-aea5-13fa483aab87": {
              "attrs": {
                "height": 0.8,
                "width": 0.8,
                "x": 0.1,
                "y": 0.1
              },
              "content": {
                "cell": "a4071b69-ab10-4ccd-93ed-b445d8ba7299",
                "part": "whole"
              },
              "id": "b3a398a7-4346-4a59-aea5-13fa483aab87"
            }
          }
        },
        "4d691fc4-2db6-4207-aafe-5534e2efcc31": {
          "id": "4d691fc4-2db6-4207-aafe-5534e2efcc31",
          "prev": "9169cd80-86a2-4764-bf37-e1c61e762403",
          "regions": {
            "1016787c-0369-47d3-8a83-316f76b88dd7": {
              "attrs": {
                "height": 0.8,
                "width": 0.8,
                "x": 0.1,
                "y": 0.1
              },
              "content": {
                "cell": "47fcb7a3-7d43-4dfc-9b03-2fc208b165e6",
                "part": "whole"
              },
              "id": "1016787c-0369-47d3-8a83-316f76b88dd7"
            }
          }
        },
        "50c442dc-bea5-4ccb-a16b-32b67ba7974d": {
          "id": "50c442dc-bea5-4ccb-a16b-32b67ba7974d",
          "prev": "39446710-2f8f-48cc-9800-22e7cbf9baa7",
          "regions": {
            "fdeaf8e6-6364-4c4d-a0b7-aeffa5ca4658": {
              "attrs": {
                "height": 0.8,
                "width": 0.8,
                "x": 0.1,
                "y": 0.1
              },
              "content": {
                "cell": "c4c8921f-ec0b-4302-bd4e-23251c7cd7de",
                "part": "whole"
              },
              "id": "fdeaf8e6-6364-4c4d-a0b7-aeffa5ca4658"
            }
          }
        },
        "564fcf1c-547b-4fc1-a39d-8998a92426ce": {
          "id": "564fcf1c-547b-4fc1-a39d-8998a92426ce",
          "prev": "65ab85a7-29e3-409f-8440-429ff4935863",
          "regions": {
            "d2bce45d-7487-41a5-b872-ecd420e8ada9": {
              "attrs": {
                "height": 0.8,
                "width": 0.8,
                "x": 0.1,
                "y": 0.1
              },
              "content": {
                "cell": "1acdc391-57ed-4c09-854d-b7c8cb07701b",
                "part": "whole"
              },
              "id": "d2bce45d-7487-41a5-b872-ecd420e8ada9"
            }
          }
        },
        "5bde732d-d4dd-4c0a-887b-8ecfbe878dbe": {
          "id": "5bde732d-d4dd-4c0a-887b-8ecfbe878dbe",
          "prev": "65c8bb38-d316-4bae-9a4f-a2853b16d1b7",
          "regions": {
            "af634b4f-62f6-4a77-af50-72798a8ab9fa": {
              "attrs": {
                "height": 0.8,
                "width": 0.8,
                "x": 0.1,
                "y": 0.1
              },
              "content": {
                "cell": "6c4f248a-2039-4d50-946e-934257e12d29",
                "part": "whole"
              },
              "id": "af634b4f-62f6-4a77-af50-72798a8ab9fa"
            }
          }
        },
        "5e7fc216-62a9-4e9e-aec1-86c77ce5811b": {
          "id": "5e7fc216-62a9-4e9e-aec1-86c77ce5811b",
          "prev": "b7abb62f-c11a-4375-a27e-e793c2795a3d",
          "regions": {
            "cd5f198c-ac67-440e-923f-4388a6d666b6": {
              "attrs": {
                "height": 0.8,
                "width": 0.8,
                "x": 0.1,
                "y": 0.1
              },
              "content": {
                "cell": "33897391-05a6-4b4e-a235-9e162427f843",
                "part": "whole"
              },
              "id": "cd5f198c-ac67-440e-923f-4388a6d666b6"
            }
          }
        },
        "5fc39987-5f96-4eef-88a0-b974113bfbab": {
          "id": "5fc39987-5f96-4eef-88a0-b974113bfbab",
          "prev": "c398a942-e2de-433f-b565-b6c258e5f76f",
          "regions": {
            "a5089fac-dd81-4121-81cb-617389f4448b": {
              "attrs": {
                "height": 0.8,
                "width": 0.8,
                "x": 0.1,
                "y": 0.1
              },
              "content": {
                "cell": "86c6424a-3e4a-4e6c-98f1-f9917cc659c8",
                "part": "whole"
              },
              "id": "a5089fac-dd81-4121-81cb-617389f4448b"
            }
          }
        },
        "65ab85a7-29e3-409f-8440-429ff4935863": {
          "id": "65ab85a7-29e3-409f-8440-429ff4935863",
          "prev": "8d834420-65a6-4be5-ab68-621de6fbe163",
          "regions": {
            "d0614420-c749-4937-ab00-52caeb7ba9b0": {
              "attrs": {
                "height": 0.8,
                "width": 0.8,
                "x": 0.1,
                "y": 0.1
              },
              "content": {
                "cell": "0cb9c1e0-21d6-4dfd-bfbe-582238143402",
                "part": "whole"
              },
              "id": "d0614420-c749-4937-ab00-52caeb7ba9b0"
            }
          }
        },
        "65c8bb38-d316-4bae-9a4f-a2853b16d1b7": {
          "id": "65c8bb38-d316-4bae-9a4f-a2853b16d1b7",
          "prev": "50c442dc-bea5-4ccb-a16b-32b67ba7974d",
          "regions": {
            "125c6623-7694-4973-beb8-17015254fbd6": {
              "attrs": {
                "height": 0.8,
                "width": 0.8,
                "x": 0.1,
                "y": 0.1
              },
              "content": {
                "cell": "65a196d3-5416-4ccc-923c-29c06466427c",
                "part": "whole"
              },
              "id": "125c6623-7694-4973-beb8-17015254fbd6"
            }
          }
        },
        "6b170754-f46e-4f7d-b3af-4fc2d6777247": {
          "id": "6b170754-f46e-4f7d-b3af-4fc2d6777247",
          "prev": "df917a16-e756-4db8-ae9a-506e790cf04c",
          "regions": {
            "d9e1fcf9-c339-49db-8020-de72925717c8": {
              "attrs": {
                "height": 0.8,
                "width": 0.8,
                "x": 0.1,
                "y": 0.1
              },
              "content": {
                "cell": "e46c73f6-5607-4af4-b22f-41f3f4dcec9e",
                "part": "whole"
              },
              "id": "d9e1fcf9-c339-49db-8020-de72925717c8"
            }
          }
        },
        "7675660a-4c0e-4fde-bedc-6bfdefe232d4": {
          "id": "7675660a-4c0e-4fde-bedc-6bfdefe232d4",
          "prev": "4d691fc4-2db6-4207-aafe-5534e2efcc31",
          "regions": {
            "46382fff-6b3a-40f9-8af5-25052be0b668": {
              "attrs": {
                "height": 0.8,
                "width": 0.8,
                "x": 0.1,
                "y": 0.1
              },
              "content": {
                "cell": "4adbbc73-2fc9-4f83-8c54-081b32a3375e",
                "part": "whole"
              },
              "id": "46382fff-6b3a-40f9-8af5-25052be0b668"
            }
          }
        },
        "79afa2d5-c641-43ae-8f08-3d64fdd52373": {
          "id": "79afa2d5-c641-43ae-8f08-3d64fdd52373",
          "prev": "defa79e9-d30e-49e9-b206-1dcf6736fd0b",
          "regions": {
            "e01a8964-f684-4035-9ddc-ef3516fdec90": {
              "attrs": {
                "height": 0.8,
                "width": 0.8,
                "x": 0.1,
                "y": 0.1
              },
              "content": {
                "cell": "e0b483f6-ccce-4f20-b082-0546e7f5f1e7",
                "part": "whole"
              },
              "id": "e01a8964-f684-4035-9ddc-ef3516fdec90"
            }
          }
        },
        "7fe8d340-580d-4293-bf70-3058295f0e5f": {
          "id": "7fe8d340-580d-4293-bf70-3058295f0e5f",
          "prev": "168f7f5f-f3e3-46ad-b488-436b5cc1fea0",
          "regions": {
            "ddfe5f89-e891-4b9d-9bdf-c0fc3fbc2c84": {
              "attrs": {
                "height": 0.8,
                "width": 0.8,
                "x": 0.1,
                "y": 0.1
              },
              "content": {
                "cell": "76d05e86-509b-494a-8364-953c74c1aadb",
                "part": "whole"
              },
              "id": "ddfe5f89-e891-4b9d-9bdf-c0fc3fbc2c84"
            }
          }
        },
        "8b8a4005-fafe-4345-b56a-ceea0afd3563": {
          "id": "8b8a4005-fafe-4345-b56a-ceea0afd3563",
          "prev": "c45f3e22-0112-491b-8708-cfb8fd55e67d",
          "regions": {
            "c09e06d3-9ce9-462e-b827-de824b2fd3eb": {
              "attrs": {
                "height": 0.8,
                "width": 0.8,
                "x": 0.1,
                "y": 0.1
              },
              "content": {
                "cell": "0eb291f0-5427-44ad-b55b-08fd1ce2ef01",
                "part": "whole"
              },
              "id": "c09e06d3-9ce9-462e-b827-de824b2fd3eb"
            }
          }
        },
        "8d834420-65a6-4be5-ab68-621de6fbe163": {
          "id": "8d834420-65a6-4be5-ab68-621de6fbe163",
          "prev": "5e7fc216-62a9-4e9e-aec1-86c77ce5811b",
          "regions": {
            "0709a4f5-d5b2-486f-a68d-508ec9b3118a": {
              "attrs": {
                "height": 0.8,
                "width": 0.8,
                "x": 0.1,
                "y": 0.1
              },
              "content": {
                "cell": "757d1ac9-70da-430a-819a-903afd30e0bb",
                "part": "whole"
              },
              "id": "0709a4f5-d5b2-486f-a68d-508ec9b3118a"
            }
          }
        },
        "8f3b675e-7fe6-447e-864b-074941b1619c": {
          "id": "8f3b675e-7fe6-447e-864b-074941b1619c",
          "prev": "42b53f50-3c32-4035-9006-72199a92dfa1",
          "regions": {
            "6b0c668f-bcd7-42e7-886d-8d8a18b8abe7": {
              "attrs": {
                "height": 0.8,
                "width": 0.8,
                "x": 0.1,
                "y": 0.1
              },
              "content": {
                "cell": "e8e3c449-56f2-4b1e-9112-6b013cfc6ec6",
                "part": "whole"
              },
              "id": "6b0c668f-bcd7-42e7-886d-8d8a18b8abe7"
            }
          }
        },
        "9169cd80-86a2-4764-bf37-e1c61e762403": {
          "id": "9169cd80-86a2-4764-bf37-e1c61e762403",
          "prev": "7fe8d340-580d-4293-bf70-3058295f0e5f",
          "regions": {
            "6f9bab17-12fc-4ffd-8ac8-aaf4f5b9666b": {
              "attrs": {
                "height": 0.8,
                "width": 0.8,
                "x": 0.1,
                "y": 0.1
              },
              "content": {
                "cell": "ac2057e4-ca62-4985-af03-04ecaf7c41b5",
                "part": "whole"
              },
              "id": "6f9bab17-12fc-4ffd-8ac8-aaf4f5b9666b"
            }
          }
        },
        "99bfd62c-37d6-4513-975f-7453d45208bf": {
          "id": "99bfd62c-37d6-4513-975f-7453d45208bf",
          "prev": "f2242224-82bb-45d0-948c-e0b58b8456c8",
          "regions": {
            "ec50533b-af5d-4fae-b186-c6dbd88efa04": {
              "attrs": {
                "height": 0.8,
                "width": 0.8,
                "x": 0.1,
                "y": 0.1
              },
              "content": {
                "cell": "92384d6d-bed6-4e4e-bfc1-ddf88de0963e",
                "part": "whole"
              },
              "id": "ec50533b-af5d-4fae-b186-c6dbd88efa04"
            }
          }
        },
        "a67d3ded-1c1a-43ec-ac9d-5fb0946652c2": {
          "id": "a67d3ded-1c1a-43ec-ac9d-5fb0946652c2",
          "prev": "3c0bfcfd-edb6-4599-814d-85a7bdd827d3",
          "regions": {
            "8b1efa67-24eb-47b1-b579-ec26c1e865ee": {
              "attrs": {
                "height": 0.8,
                "width": 0.8,
                "x": 0.1,
                "y": 0.1
              },
              "content": {
                "cell": "aae85c45-c89c-401a-9131-01e07651e0af",
                "part": "whole"
              },
              "id": "8b1efa67-24eb-47b1-b579-ec26c1e865ee"
            }
          }
        },
        "af606d45-02cf-4a7e-b91e-76d47fe00c40": {
          "id": "af606d45-02cf-4a7e-b91e-76d47fe00c40",
          "prev": "2b9c3116-58b8-4773-8bb0-1bf8fe05296d",
          "regions": {
            "e2bb3e5e-7372-4f9a-92a5-70d35bbcc850": {
              "attrs": {
                "height": 0.8,
                "width": 0.8,
                "x": 0.1,
                "y": 0.1
              },
              "content": {
                "cell": "ea824159-e736-4e2a-b024-524e337f6fac",
                "part": "whole"
              },
              "id": "e2bb3e5e-7372-4f9a-92a5-70d35bbcc850"
            }
          }
        },
        "b7abb62f-c11a-4375-a27e-e793c2795a3d": {
          "id": "b7abb62f-c11a-4375-a27e-e793c2795a3d",
          "prev": "131dcdac-6159-44e0-9867-2c6521c536b9",
          "regions": {
            "c41e06a6-86bf-436a-bbd5-25f4733cca6b": {
              "attrs": {
                "height": 0.8,
                "width": 0.8,
                "x": 0.1,
                "y": 0.1
              },
              "content": {
                "cell": "c14452d1-3454-4704-b59a-e18b8251103b",
                "part": "whole"
              },
              "id": "c41e06a6-86bf-436a-bbd5-25f4733cca6b"
            }
          }
        },
        "b8ef6042-0e70-43fe-a97b-c3c5e98e48a9": {
          "id": "b8ef6042-0e70-43fe-a97b-c3c5e98e48a9",
          "prev": "0eb9ee9c-5399-4988-94f3-8cee78537404",
          "regions": {
            "0393ad1f-f602-477d-9561-b9997b6ae0b1": {
              "attrs": {
                "height": 0.8,
                "width": 0.8,
                "x": 0.1,
                "y": 0.1
              },
              "content": {
                "cell": "20019a20-ae7f-4beb-8cd4-d68150382b1e",
                "part": "whole"
              },
              "id": "0393ad1f-f602-477d-9561-b9997b6ae0b1"
            }
          }
        },
        "c398a942-e2de-433f-b565-b6c258e5f76f": {
          "id": "c398a942-e2de-433f-b565-b6c258e5f76f",
          "prev": "8f3b675e-7fe6-447e-864b-074941b1619c",
          "regions": {
            "dd42546e-f361-4901-b289-853b870b5ef9": {
              "attrs": {
                "height": 0.8,
                "width": 0.8,
                "x": 0.1,
                "y": 0.1
              },
              "content": {
                "cell": "77252053-4889-4a38-a497-49465a2e9ac1",
                "part": "whole"
              },
              "id": "dd42546e-f361-4901-b289-853b870b5ef9"
            }
          }
        },
        "c45f3e22-0112-491b-8708-cfb8fd55e67d": {
          "id": "c45f3e22-0112-491b-8708-cfb8fd55e67d",
          "prev": "6b170754-f46e-4f7d-b3af-4fc2d6777247",
          "regions": {
            "d2c1656c-3044-4792-a198-e6148a0f7291": {
              "attrs": {
                "height": 0.8,
                "width": 0.8,
                "x": 0.1,
                "y": 0.1
              },
              "content": {
                "cell": "defd975d-f087-4747-9b2f-06ccde7ee725",
                "part": "whole"
              },
              "id": "d2c1656c-3044-4792-a198-e6148a0f7291"
            }
          }
        },
        "defa79e9-d30e-49e9-b206-1dcf6736fd0b": {
          "id": "defa79e9-d30e-49e9-b206-1dcf6736fd0b",
          "prev": "5bde732d-d4dd-4c0a-887b-8ecfbe878dbe",
          "regions": {
            "d6201f68-d926-464f-af69-b6358baa3169": {
              "attrs": {
                "height": 0.8,
                "width": 0.8,
                "x": 0.1,
                "y": 0.1
              },
              "content": {
                "cell": "3d475195-dd8a-4ce5-8e90-f7bcd42008f4",
                "part": "whole"
              },
              "id": "d6201f68-d926-464f-af69-b6358baa3169"
            }
          }
        },
        "df917a16-e756-4db8-ae9a-506e790cf04c": {
          "id": "df917a16-e756-4db8-ae9a-506e790cf04c",
          "prev": "79afa2d5-c641-43ae-8f08-3d64fdd52373",
          "regions": {
            "d9d17a48-00c5-4ef8-839f-11157b81e4d3": {
              "attrs": {
                "height": 0.8,
                "width": 0.8,
                "x": 0.1,
                "y": 0.1
              },
              "content": {
                "cell": "8f062cb0-836d-47b9-a5fd-a9291431e3dc",
                "part": "whole"
              },
              "id": "d9d17a48-00c5-4ef8-839f-11157b81e4d3"
            }
          }
        },
        "dfb0485f-4165-455b-a321-1368a5593f90": {
          "id": "dfb0485f-4165-455b-a321-1368a5593f90",
          "prev": "af606d45-02cf-4a7e-b91e-76d47fe00c40",
          "regions": {
            "9a34c164-a20e-4e3e-adae-493e61d54955": {
              "attrs": {
                "height": 0.8,
                "width": 0.8,
                "x": 0.1,
                "y": 0.1
              },
              "content": {
                "cell": "236459a0-db19-4ca3-ab64-d36697e6180f",
                "part": "whole"
              },
              "id": "9a34c164-a20e-4e3e-adae-493e61d54955"
            }
          }
        },
        "f2242224-82bb-45d0-948c-e0b58b8456c8": {
          "id": "f2242224-82bb-45d0-948c-e0b58b8456c8",
          "prev": "a67d3ded-1c1a-43ec-ac9d-5fb0946652c2",
          "regions": {
            "e947732f-650c-4a35-ad0a-869a3ba452fe": {
              "attrs": {
                "height": 0.8,
                "width": 0.8,
                "x": 0.1,
                "y": 0.1
              },
              "content": {
                "cell": "3fd06df9-1eec-447c-bed7-d88be2d8d4d9",
                "part": "whole"
              },
              "id": "e947732f-650c-4a35-ad0a-869a3ba452fe"
            }
          }
        },
        "f788e7d5-5631-4090-b44e-03ea24aa1887": {
          "id": "f788e7d5-5631-4090-b44e-03ea24aa1887",
          "prev": "10844e3a-543e-48a6-b696-d4dcfd40d55f",
          "regions": {
            "d441b345-210c-492c-8540-b0f3e833269c": {
              "attrs": {
                "height": 0.8,
                "width": 0.8,
                "x": 0.1,
                "y": 0.1
              },
              "content": {
                "cell": "24af87db-9051-4768-9064-079dc5e9b965",
                "part": "whole"
              },
              "id": "d441b345-210c-492c-8540-b0f3e833269c"
            }
          }
        }
      },
      "themes": {}
    },
    "nteract": {
      "version": "0.12.3"
    },
    "toc": {
      "base_numbering": 1,
      "nav_menu": {},
      "number_sections": true,
      "sideBar": true,
      "skip_h1_title": false,
      "title_cell": "Table of Contents",
      "title_sidebar": "Contents",
      "toc_cell": false,
      "toc_position": {},
      "toc_section_display": true,
      "toc_window_display": false
    },
    "colab": {
      "name": "3-Tensorflow programming model (Solution).ipynb",
      "provenance": [],
      "include_colab_link": true
    }
  },
  "cells": [
    {
      "cell_type": "markdown",
      "metadata": {
        "id": "view-in-github",
        "colab_type": "text"
      },
      "source": [
        "<a href=\"https://colab.research.google.com/github/DataScienceUB/DeepLearningMaster20192020/blob/master/3-Tensorflow%20programming%20model%20(Solution).ipynb\" target=\"_parent\"><img src=\"https://colab.research.google.com/assets/colab-badge.svg\" alt=\"Open In Colab\"/></a>"
      ]
    },
    {
      "cell_type": "markdown",
      "metadata": {
        "nbpresent": {
          "id": "58f4f8ea-e41a-469a-a078-bb1e1725a1d3"
        },
        "id": "XdKSWG1pAKKw",
        "colab_type": "text"
      },
      "source": [
        "### Exercise\n",
        "\n",
        "Let's built and visualize and complex model:\n",
        "\n",
        "+ Our inputs will be placeholders.\n",
        "+ The model will take in a single vector of any lenght.\n",
        "+ The graph will be segmented in name scopes.\n",
        "+ We will accumulate the total value of all outputs over time.\n",
        "+ At each run, we are going to save the output of the graph, the accumulated total of all outputs, and the average value of all outputs to disk for use in `tensorboard`.\n",
        "\n",
        "\n",
        "![alt text](https://github.com/DataScienceUB/DeepLearningMaster20192020/blob/master/images/t6.png?raw=1)\n"
      ]
    },
    {
      "cell_type": "code",
      "metadata": {
        "ExecuteTime": {
          "end_time": "2019-03-05T16:27:52.921775Z",
          "start_time": "2019-03-05T16:27:50.195592Z"
        },
        "code_folding": [],
        "nbpresent": {
          "id": "a8218e4e-4edc-48b5-a6a3-3af3169dee3f"
        },
        "id": "S7rccAeiAKKy",
        "colab_type": "code",
        "colab": {},
        "outputId": "fcc5e28b-dde9-4c87-cfbc-5ae21257ccdc"
      },
      "source": [
        "import tensorflow as tf\n",
        "import numpy as np\n",
        "\n",
        "tf.reset_default_graph()\n",
        "\n",
        "# Explicitly create a Graph object\n",
        "graph = tf.Graph()\n",
        "\n",
        "with graph.as_default():\n",
        "    \n",
        "    with tf.name_scope(\"variables\"):\n",
        "        # Variable to keep track of how many times the graph has been run\n",
        "        global_step = tf.Variable(0, dtype=tf.int32, trainable=False, name=\"global_step\")\n",
        "\n",
        "        # Variable that keeps track of the sum of all output values over time:\n",
        "        total_output = tf.Variable(0.0, dtype=tf.float32, trainable=False, name=\"total_output\")\n",
        "\n",
        "    with tf.name_scope(\"transformation\"):\n",
        "\n",
        "        # Separate input layer\n",
        "        with tf.name_scope(\"input\"):\n",
        "            # Create input placeholder- takes in a Vector\n",
        "            a = tf.placeholder(tf.float32, shape=[None], name=\"input_placeholder_a\")\n",
        "\n",
        "        # Separate middle layer\n",
        "        with tf.name_scope(\"intermediate_layer\"):\n",
        "            b = tf.reduce_sum(a, name=\"sum_b\")\n",
        "            c = tf.reduce_prod(a, name=\"product_c\")\n",
        "\n",
        "        # Separate output layer\n",
        "        with tf.name_scope(\"output\"):\n",
        "            output = tf.add(b, c, name=\"output\")\n",
        "        \n",
        "        \n",
        "    with tf.name_scope(\"update\"):\n",
        "        # Increments the total_output Variable by the latest output\n",
        "        update_total = total_output.assign_add(output)\n",
        "\n",
        "        # Increments the above `global_step` Variable, should be run whenever the graph is run\n",
        "        increment_step = global_step.assign_add(1)\n",
        "\n",
        "    \n",
        "    # Summary Operations\n",
        "    with tf.name_scope(\"summaries\"):\n",
        "        # Calculating average (avg = total/steps)\n",
        "        avg = tf.div(update_total, tf.cast(increment_step, tf.float32), name=\"average\")\n",
        "\n",
        "        # Creates summaries for output node\n",
        "        tf.summary.scalar(\"output_summary\", output)\n",
        "        tf.summary.scalar(\"total_summary\", update_total)\n",
        "        tf.summary.scalar(\"average_summary\", avg)\n",
        "    \n",
        "    # Global Variables and Operations\n",
        "    with tf.name_scope(\"global_ops\"):\n",
        "        # Initialization Op\n",
        "        init = tf.global_variables_initializer()\n",
        "        # Merge all summaries[…]\n",
        "        merged_summaries = tf.summary.merge_all()\n",
        "       # Start a Session, using the explicitly created Graph\n",
        "sess = tf.Session(graph=graph)\n",
        "\n",
        "# Open a SummaryWriter to save summaries\n",
        "writer = tf.summary.FileWriter('./improved_graph', graph)\n",
        "\n",
        "# Initialize Variables\n",
        "sess.run(init)"
      ],
      "execution_count": 0,
      "outputs": [
        {
          "output_type": "stream",
          "text": [
            "WARNING:tensorflow:From /Users/jordivitria/anaconda3/lib/python3.6/site-packages/tensorflow/python/framework/op_def_library.py:263: colocate_with (from tensorflow.python.framework.ops) is deprecated and will be removed in a future version.\n",
            "Instructions for updating:\n",
            "Colocations handled automatically by placer.\n",
            "WARNING:tensorflow:From <ipython-input-1-fd275820fc05>:46: div (from tensorflow.python.ops.math_ops) is deprecated and will be removed in a future version.\n",
            "Instructions for updating:\n",
            "Deprecated in favor of operator or tf.math.divide.\n"
          ],
          "name": "stdout"
        }
      ]
    },
    {
      "cell_type": "markdown",
      "metadata": {
        "nbpresent": {
          "id": "76d05e86-509b-494a-8364-953c74c1aadb"
        },
        "id": "6rVw6tMdAKK1",
        "colab_type": "text"
      },
      "source": [
        "Let's write a function to run the graph several times:"
      ]
    },
    {
      "cell_type": "code",
      "metadata": {
        "ExecuteTime": {
          "end_time": "2019-03-05T16:27:56.374145Z",
          "start_time": "2019-03-05T16:27:56.370352Z"
        },
        "nbpresent": {
          "id": "ac2057e4-ca62-4985-af03-04ecaf7c41b5"
        },
        "id": "QNpAlQhVAKK2",
        "colab_type": "code",
        "colab": {}
      },
      "source": [
        "def run_graph(input_tensor):\n",
        "    \"\"\"\n",
        "    Helper function; runs the graph with given input tensor and saves summaries\n",
        "    \"\"\"\n",
        "    feed_dict = {a: input_tensor}\n",
        "    out, step, summary = sess.run([output, increment_step, merged_summaries], \n",
        "                                  feed_dict=feed_dict)\n",
        "    writer.add_summary(summary, global_step=step)"
      ],
      "execution_count": 0,
      "outputs": []
    },
    {
      "cell_type": "code",
      "metadata": {
        "ExecuteTime": {
          "end_time": "2019-03-05T16:27:57.426704Z",
          "start_time": "2019-03-05T16:27:57.393916Z"
        },
        "nbpresent": {
          "id": "47fcb7a3-7d43-4dfc-9b03-2fc208b165e6"
        },
        "id": "nP3vZhcvAKK4",
        "colab_type": "code",
        "colab": {}
      },
      "source": [
        "# Run the graph with various inputs\n",
        "run_graph([2,8])\n",
        "run_graph([3,1,3,3])\n",
        "run_graph([8])\n",
        "run_graph([1,2,3])\n",
        "run_graph([11,4])\n",
        "run_graph([4,1])\n",
        "run_graph([7,3,1])\n",
        "run_graph([6,3])\n",
        "run_graph([0,2])\n",
        "run_graph([4,5,6])\n",
        "\n",
        "# Write the summaries to disk\n",
        "writer.flush()\n",
        "\n",
        "# Close the SummaryWriter\n",
        "writer.close()\n",
        "\n",
        "# Close the session\n",
        "sess.close()"
      ],
      "execution_count": 0,
      "outputs": []
    },
    {
      "cell_type": "markdown",
      "metadata": {
        "nbpresent": {
          "id": "4adbbc73-2fc9-4f83-8c54-081b32a3375e"
        },
        "id": "Dmk0WebyAKK6",
        "colab_type": "text"
      },
      "source": [
        "To start TensorBoard after running this code, run the following command:\n",
        "\n",
        "`tensorboard --logdir='./improved_graph'`   "
      ]
    },
    {
      "cell_type": "markdown",
      "metadata": {
        "id": "4bKPKRA0DEWl",
        "colab_type": "text"
      },
      "source": [
        "Bibliography: https://www.easy-tensorflow.com/tf-tutorials/basics/introduction-to-tensorboard"
      ]
    },
    {
      "cell_type": "code",
      "metadata": {
        "id": "9TCSXNjJDG34",
        "colab_type": "code",
        "colab": {}
      },
      "source": [
        ""
      ],
      "execution_count": 0,
      "outputs": []
    }
  ]
}