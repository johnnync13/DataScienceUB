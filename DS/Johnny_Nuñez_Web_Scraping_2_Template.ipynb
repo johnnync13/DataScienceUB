{
 "cells": [
  {
   "cell_type": "markdown",
   "metadata": {},
   "source": [
    "**Selenium EXERCISE 1:** <BR>\n",
    "<ul>\n",
    "<li> Open a browser \n",
    "\n",
    "<li>Go to tripadvisor/Restaurants\n",
    "\n",
    "<li>Find the search text box\n",
    "\n",
    "<li>Clear it, input the query \"Sant Cugat\" and send it\n",
    "\n",
    "<li>Go to \"Restarurants\" and get all the links and names of top 10 restaurants in Sant cugat\n",
    "<li> Store them in a list of Dictionaries {name,links}\n",
    "</ul>\n"
   ]
  },
  {
   "cell_type": "code",
   "execution_count": 1,
   "metadata": {},
   "outputs": [],
   "source": [
    "import pymongo\n",
    "import certifi\n",
    "from datetime import datetime\n",
    "from selenium.webdriver.common.keys import Keys\n",
    "from selenium.webdriver.common.by import By\n",
    "from selenium import webdriver\n",
    "from selenium.webdriver.support.ui import Select\n",
    "import time,os\n",
    "import pandas as pd\n",
    "import requests\n",
    "import json\n",
    "from tqdm import tqdm\n",
    "import re\n",
    "import os"
   ]
  },
  {
   "cell_type": "code",
   "execution_count": 2,
   "metadata": {},
   "outputs": [
    {
     "name": "stdout",
     "output_type": "stream",
     "text": [
      "Connected successfully!!!\n"
     ]
    },
    {
     "data": {
      "text/plain": [
       "Database(MongoClient(host=['dataagile-shard-00-00.p4jpe.mongodb.net:27017', 'dataagile-shard-00-01.p4jpe.mongodb.net:27017', 'dataagile-shard-00-02.p4jpe.mongodb.net:27017'], document_class=dict, tz_aware=False, connect=True, retrywrites=True, w='majority', authsource='admin', replicaset='atlas-ksq9m0-shard-0', ssl=True, ssl_ca_certs='/home/johnny/anaconda3/lib/python3.8/site-packages/certifi/cacert.pem'), 'DataAgile')"
      ]
     },
     "execution_count": 2,
     "metadata": {},
     "output_type": "execute_result"
    }
   ],
   "source": [
    "try:\n",
    "    #create a credentials.txt file in this folder:\n",
    "    #first line: Database username (not account username)\n",
    "    #second line: Database username password (not account password)\n",
    "    #third line: Databse url with port (you can find it in the cloud dashboard)\n",
    "    #fourth lin: Database name\n",
    "    if 'conn' in globals():\n",
    "        conn.close()\n",
    "        print(\"Closing\")\n",
    "    \n",
    "    with open(\"credentials.txt\", 'r') as f:\n",
    "        [name,password,url,dbname]=f.read().splitlines()\n",
    "    conn=pymongo.MongoClient(\"mongodb+srv://{}:{}@{}\".format(name,password,url),tlsCAFile=certifi.where())\n",
    "    \n",
    "    print (\"Connected successfully!!!\")\n",
    "    \n",
    "except pymongo.errors.ConnectionFailure as e:\n",
    "    print (\"Could not connect to MongoDB: %s\" % e) \n",
    "conn\n",
    "db = conn[dbname]\n",
    "db"
   ]
  },
  {
   "cell_type": "code",
   "execution_count": 5,
   "metadata": {},
   "outputs": [
    {
     "name": "stderr",
     "output_type": "stream",
     "text": [
      "100%|███████████████████████████████████████████| 10/10 [00:02<00:00,  4.56it/s]\n"
     ]
    }
   ],
   "source": [
    "url = 'https://www.tripadvisor.es/Restaurants' #Poseu el nom de la pàgina web\n",
    "browser = webdriver.Chrome(\"./chromedriver\") #Obrir un navegador Chrome\n",
    "browser.get(url)\n",
    "time.sleep(3)\n",
    "nav_bar = browser.find_element_by_css_selector(\"input[placeholder='Ciudad o nombre del restaurante']\")\n",
    "time.sleep(3)\n",
    "nav_bar.clear()\n",
    "nav_bar.send_keys(\"Sant Cugat\")\n",
    "time.sleep(3)\n",
    "nav_bar.send_keys(Keys.DOWN)\n",
    "time.sleep(3)\n",
    "nav_bar.send_keys(Keys.ENTER)\n",
    "time.sleep(3)\n",
    "\n",
    "db = conn['DataAgile']\n",
    "db.drop_collection(\"Restaurants\")\n",
    "collection = db.Restaurants\n",
    "\n",
    "for i in tqdm(range(1,11)):\n",
    "    restaurant = browser.find_element_by_xpath('//div[@data-test=\"%s_list_item\"]' % i)\n",
    "    restaurant_name = restaurant.text.split(\"\\n\")[0]\n",
    "    restaurant_link = restaurant.find_element_by_tag_name(\"a\")\n",
    "    collection.insert_one({'name':restaurant_name,'link': restaurant_link.get_attribute(\"href\")})\n",
    "\n",
    "conn.close()"
   ]
  },
  {
   "cell_type": "code",
   "execution_count": 6,
   "metadata": {},
   "outputs": [
    {
     "data": {
      "text/html": [
       "<div>\n",
       "<style scoped>\n",
       "    .dataframe tbody tr th:only-of-type {\n",
       "        vertical-align: middle;\n",
       "    }\n",
       "\n",
       "    .dataframe tbody tr th {\n",
       "        vertical-align: top;\n",
       "    }\n",
       "\n",
       "    .dataframe thead th {\n",
       "        text-align: right;\n",
       "    }\n",
       "</style>\n",
       "<table border=\"1\" class=\"dataframe\">\n",
       "  <thead>\n",
       "    <tr style=\"text-align: right;\">\n",
       "      <th></th>\n",
       "      <th>name</th>\n",
       "      <th>link</th>\n",
       "    </tr>\n",
       "  </thead>\n",
       "  <tbody>\n",
       "    <tr>\n",
       "      <th>0</th>\n",
       "      <td>1. Piaceri D’ Italia Ristorante Pizzeria</td>\n",
       "      <td>https://www.tripadvisor.es/Restaurant_Review-g...</td>\n",
       "    </tr>\n",
       "    <tr>\n",
       "      <th>1</th>\n",
       "      <td>2. Restaurant Brau</td>\n",
       "      <td>https://www.tripadvisor.es/Restaurant_Review-g...</td>\n",
       "    </tr>\n",
       "    <tr>\n",
       "      <th>2</th>\n",
       "      <td>3. Sabàtic</td>\n",
       "      <td>https://www.tripadvisor.es/Restaurant_Review-g...</td>\n",
       "    </tr>\n",
       "    <tr>\n",
       "      <th>3</th>\n",
       "      <td>4. Némesis Gastronomia</td>\n",
       "      <td>https://www.tripadvisor.es/Restaurant_Review-g...</td>\n",
       "    </tr>\n",
       "    <tr>\n",
       "      <th>4</th>\n",
       "      <td>5. Dakidaya</td>\n",
       "      <td>https://www.tripadvisor.es/Restaurant_Review-g...</td>\n",
       "    </tr>\n",
       "    <tr>\n",
       "      <th>5</th>\n",
       "      <td>6. 9Reinas Sant Cugat</td>\n",
       "      <td>https://www.tripadvisor.es/Restaurant_Review-g...</td>\n",
       "    </tr>\n",
       "    <tr>\n",
       "      <th>6</th>\n",
       "      <td>7. Kitsune Sushi Bar</td>\n",
       "      <td>https://www.tripadvisor.es/Restaurant_Review-g...</td>\n",
       "    </tr>\n",
       "    <tr>\n",
       "      <th>7</th>\n",
       "      <td>8. La Rampa 23</td>\n",
       "      <td>https://www.tripadvisor.es/Restaurant_Review-g...</td>\n",
       "    </tr>\n",
       "    <tr>\n",
       "      <th>8</th>\n",
       "      <td>9. La Rita</td>\n",
       "      <td>https://www.tripadvisor.es/Restaurant_Review-g...</td>\n",
       "    </tr>\n",
       "    <tr>\n",
       "      <th>9</th>\n",
       "      <td>10. El vi de deu</td>\n",
       "      <td>https://www.tripadvisor.es/Restaurant_Review-g...</td>\n",
       "    </tr>\n",
       "  </tbody>\n",
       "</table>\n",
       "</div>"
      ],
      "text/plain": [
       "                                       name  \\\n",
       "0  1. Piaceri D’ Italia Ristorante Pizzeria   \n",
       "1                        2. Restaurant Brau   \n",
       "2                                3. Sabàtic   \n",
       "3                    4. Némesis Gastronomia   \n",
       "4                               5. Dakidaya   \n",
       "5                     6. 9Reinas Sant Cugat   \n",
       "6                      7. Kitsune Sushi Bar   \n",
       "7                            8. La Rampa 23   \n",
       "8                                9. La Rita   \n",
       "9                          10. El vi de deu   \n",
       "\n",
       "                                                link  \n",
       "0  https://www.tripadvisor.es/Restaurant_Review-g...  \n",
       "1  https://www.tripadvisor.es/Restaurant_Review-g...  \n",
       "2  https://www.tripadvisor.es/Restaurant_Review-g...  \n",
       "3  https://www.tripadvisor.es/Restaurant_Review-g...  \n",
       "4  https://www.tripadvisor.es/Restaurant_Review-g...  \n",
       "5  https://www.tripadvisor.es/Restaurant_Review-g...  \n",
       "6  https://www.tripadvisor.es/Restaurant_Review-g...  \n",
       "7  https://www.tripadvisor.es/Restaurant_Review-g...  \n",
       "8  https://www.tripadvisor.es/Restaurant_Review-g...  \n",
       "9  https://www.tripadvisor.es/Restaurant_Review-g...  "
      ]
     },
     "execution_count": 6,
     "metadata": {},
     "output_type": "execute_result"
    }
   ],
   "source": [
    "restaurants = pd.DataFrame.from_dict(collection.find({},{\"_id\":0}))\n",
    "restaurants"
   ]
  },
  {
   "cell_type": "markdown",
   "metadata": {},
   "source": [
    "**Selenium EXERCISE 2:**"
   ]
  },
  {
   "cell_type": "markdown",
   "metadata": {},
   "source": [
    "* Go to Eix Macià Cinemes web Site. ('http://www.cinemeseixmacia.com/')\n",
    "* Find all the movies that are currently playing in the Cinema.\n",
    "* Filter those movies that starts from at specific time (i.e. 18PM) to 1h and half later and are recomended for a specific age audience (i.e 18 y.o).\n",
    "* Search in themoviedb the average ratings for those movies and select the best one. \n",
    "* Play the movie trailer."
   ]
  },
  {
   "cell_type": "code",
   "execution_count": 20,
   "metadata": {},
   "outputs": [
    {
     "name": "stderr",
     "output_type": "stream",
     "text": [
      "100%|███████████████████████████████████████████| 11/11 [00:01<00:00,  5.73it/s]\n"
     ]
    }
   ],
   "source": [
    "url = 'http://www.cinemeseixmacia.com/' #Poseu el nom de la pàgina web\n",
    "browser = webdriver.Chrome(\"./chromedriver\") #Obrir un navegador Chrome\n",
    "browser.get(url)\n",
    "time.sleep(3)\n",
    "all_films = browser.find_elements(By.CLASS_NAME, \"overlay\")\n",
    "result = []\n",
    "for film in tqdm(all_films):\n",
    "    name = film.find_element_by_tag_name(\"a\").get_attribute(\"name\")\n",
    "    link = film.find_element_by_tag_name(\"a\").get_attribute(\"href\")\n",
    "    trailer = film.find_element_by_class_name(\"peli-botons\").find_element_by_tag_name(\"a\").get_attribute(\"href\")\n",
    "    age = film.find_element_by_id('dadespeli').find_element_by_class_name('classi').get_attribute('textContent')\n",
    "    hours = film.find_elements_by_class_name('horasessio')\n",
    "    film_hours = []\n",
    "    for hour in hours:\n",
    "        result.append({'name': name, \n",
    "                        'link': link,\n",
    "                        'trailer': trailer,\n",
    "                        'age': int(age.split(' ')[0]) if age.split(' ')[0] != 'APTA' else 18, \n",
    "                        'schedule': datetime.strptime(hour.get_attribute('textContent').strip(), \"%H:%M\").time()})"
   ]
  },
  {
   "cell_type": "code",
   "execution_count": 21,
   "metadata": {},
   "outputs": [],
   "source": [
    "movies = pd.DataFrame.from_dict(result)\n",
    "movies = movies[movies['age'] <= 18]\n",
    "movies = movies[(movies['schedule'] >= datetime.strptime(\"18:00\", \"%H:%M\").time()) & (movies['schedule'] <= datetime.strptime(\"19:30\", \"%H:%M\").time())]"
   ]
  },
  {
   "cell_type": "code",
   "execution_count": 22,
   "metadata": {},
   "outputs": [
    {
     "data": {
      "text/html": [
       "<div>\n",
       "<style scoped>\n",
       "    .dataframe tbody tr th:only-of-type {\n",
       "        vertical-align: middle;\n",
       "    }\n",
       "\n",
       "    .dataframe tbody tr th {\n",
       "        vertical-align: top;\n",
       "    }\n",
       "\n",
       "    .dataframe thead th {\n",
       "        text-align: right;\n",
       "    }\n",
       "</style>\n",
       "<table border=\"1\" class=\"dataframe\">\n",
       "  <thead>\n",
       "    <tr style=\"text-align: right;\">\n",
       "      <th></th>\n",
       "      <th>name</th>\n",
       "      <th>link</th>\n",
       "      <th>trailer</th>\n",
       "      <th>age</th>\n",
       "      <th>schedule</th>\n",
       "    </tr>\n",
       "  </thead>\n",
       "  <tbody>\n",
       "    <tr>\n",
       "      <th>0</th>\n",
       "      <td>ATMOS SIN TIEMPO PARA MORIR</td>\n",
       "      <td>https://www.cinemeseixmacia.com//film-2636/p?a...</td>\n",
       "      <td>https://www.cinemeseixmacia.com/ww.youtube.com...</td>\n",
       "      <td>12</td>\n",
       "      <td>18:15:00</td>\n",
       "    </tr>\n",
       "    <tr>\n",
       "      <th>3</th>\n",
       "      <td>DUNE</td>\n",
       "      <td>https://www.cinemeseixmacia.com//film-2846/p?dune</td>\n",
       "      <td>https://www.youtube.com/watch?v=URZHn_Dj7VU</td>\n",
       "      <td>12</td>\n",
       "      <td>19:00:00</td>\n",
       "    </tr>\n",
       "    <tr>\n",
       "      <th>6</th>\n",
       "      <td>LA FAMILIA ADDAMS 2 - LA GRAN ESCAPADA</td>\n",
       "      <td>https://www.cinemeseixmacia.com//film-2858/p?l...</td>\n",
       "      <td>https://www.youtube.com/watch?v=rfETRi0EP_I</td>\n",
       "      <td>18</td>\n",
       "      <td>18:15:00</td>\n",
       "    </tr>\n",
       "    <tr>\n",
       "      <th>10</th>\n",
       "      <td>LA PATRULLA CANINA:LA PELICULA</td>\n",
       "      <td>https://www.cinemeseixmacia.com//film-2829/p?l...</td>\n",
       "      <td>https://www.youtube.com/watch?v=6e24FI4hmm0</td>\n",
       "      <td>18</td>\n",
       "      <td>18:00:00</td>\n",
       "    </tr>\n",
       "    <tr>\n",
       "      <th>12</th>\n",
       "      <td>LAS LEYES DE LA FRONTERA</td>\n",
       "      <td>https://www.cinemeseixmacia.com//film-2857/p?l...</td>\n",
       "      <td>https://www.youtube.com/watch?v=9Oyn0cqenaE</td>\n",
       "      <td>16</td>\n",
       "      <td>19:00:00</td>\n",
       "    </tr>\n",
       "    <tr>\n",
       "      <th>15</th>\n",
       "      <td>MADRES PARALELAS</td>\n",
       "      <td>https://www.cinemeseixmacia.com//film-2859/p?m...</td>\n",
       "      <td>https://www.youtube.com/watch?v=2IO_f2Auo3U</td>\n",
       "      <td>12</td>\n",
       "      <td>19:00:00</td>\n",
       "    </tr>\n",
       "    <tr>\n",
       "      <th>22</th>\n",
       "      <td>NO RESPIRES 2</td>\n",
       "      <td>https://www.cinemeseixmacia.com//film-2853/p?n...</td>\n",
       "      <td>https://www.youtube.com/watch?v=en_3ZnETSGE</td>\n",
       "      <td>16</td>\n",
       "      <td>18:00:00</td>\n",
       "    </tr>\n",
       "    <tr>\n",
       "      <th>26</th>\n",
       "      <td>VOSE ¿QUIÉN ES QUIÉN?</td>\n",
       "      <td>https://www.cinemeseixmacia.com//film-2860/p?v...</td>\n",
       "      <td>https://www.youtube.com/watch?v=-vGwbSSTJ_g</td>\n",
       "      <td>7</td>\n",
       "      <td>18:00:00</td>\n",
       "    </tr>\n",
       "  </tbody>\n",
       "</table>\n",
       "</div>"
      ],
      "text/plain": [
       "                                      name  \\\n",
       "0              ATMOS SIN TIEMPO PARA MORIR   \n",
       "3                                     DUNE   \n",
       "6   LA FAMILIA ADDAMS 2 - LA GRAN ESCAPADA   \n",
       "10          LA PATRULLA CANINA:LA PELICULA   \n",
       "12                LAS LEYES DE LA FRONTERA   \n",
       "15                        MADRES PARALELAS   \n",
       "22                           NO RESPIRES 2   \n",
       "26                   VOSE ¿QUIÉN ES QUIÉN?   \n",
       "\n",
       "                                                 link  \\\n",
       "0   https://www.cinemeseixmacia.com//film-2636/p?a...   \n",
       "3   https://www.cinemeseixmacia.com//film-2846/p?dune   \n",
       "6   https://www.cinemeseixmacia.com//film-2858/p?l...   \n",
       "10  https://www.cinemeseixmacia.com//film-2829/p?l...   \n",
       "12  https://www.cinemeseixmacia.com//film-2857/p?l...   \n",
       "15  https://www.cinemeseixmacia.com//film-2859/p?m...   \n",
       "22  https://www.cinemeseixmacia.com//film-2853/p?n...   \n",
       "26  https://www.cinemeseixmacia.com//film-2860/p?v...   \n",
       "\n",
       "                                              trailer  age  schedule  \n",
       "0   https://www.cinemeseixmacia.com/ww.youtube.com...   12  18:15:00  \n",
       "3         https://www.youtube.com/watch?v=URZHn_Dj7VU   12  19:00:00  \n",
       "6         https://www.youtube.com/watch?v=rfETRi0EP_I   18  18:15:00  \n",
       "10        https://www.youtube.com/watch?v=6e24FI4hmm0   18  18:00:00  \n",
       "12        https://www.youtube.com/watch?v=9Oyn0cqenaE   16  19:00:00  \n",
       "15        https://www.youtube.com/watch?v=2IO_f2Auo3U   12  19:00:00  \n",
       "22        https://www.youtube.com/watch?v=en_3ZnETSGE   16  18:00:00  \n",
       "26        https://www.youtube.com/watch?v=-vGwbSSTJ_g    7  18:00:00  "
      ]
     },
     "execution_count": 22,
     "metadata": {},
     "output_type": "execute_result"
    }
   ],
   "source": [
    "movies"
   ]
  },
  {
   "cell_type": "code",
   "execution_count": 24,
   "metadata": {},
   "outputs": [
    {
     "name": "stderr",
     "output_type": "stream",
     "text": [
      "100%|█████████████████████████████████████████████| 8/8 [00:00<00:00,  8.14it/s]\n"
     ]
    }
   ],
   "source": [
    "with open('api_key', 'r') as f:\n",
    "    API_KEY = f.read()\n",
    "\n",
    "parameters = {\"api_key\": API_KEY}\n",
    "result = []\n",
    "\n",
    "for i in tqdm(movies['name'].values.tolist()):\n",
    "    i_split = re.sub( r'[^\\w]', ' ', i)\n",
    "    url = \"https://api.themoviedb.org/3/search/movie?query={}\".format(i)\n",
    "    res = requests.get(url, params = parameters).json()['results']\n",
    "    result.append({'title': i, 'vote_average': res[0]['vote_average'] if res else 0})\n",
    "            \n",
    "result = sorted(result, key = lambda x: x['vote_average'], reverse = True)\n",
    "url = movies[movies.name == result[0]['title']]['trailer'].values[0]"
   ]
  },
  {
   "cell_type": "code",
   "execution_count": 25,
   "metadata": {},
   "outputs": [
    {
     "data": {
      "text/plain": [
       "[{'title': 'DUNE', 'vote_average': 8.1},\n",
       " {'title': 'NO RESPIRES 2', 'vote_average': 7.8},\n",
       " {'title': 'LA FAMILIA ADDAMS 2 - LA GRAN ESCAPADA', 'vote_average': 7.6},\n",
       " {'title': 'LAS LEYES DE LA FRONTERA', 'vote_average': 7},\n",
       " {'title': 'MADRES PARALELAS', 'vote_average': 6.6},\n",
       " {'title': 'ATMOS SIN TIEMPO PARA MORIR', 'vote_average': 0},\n",
       " {'title': 'LA PATRULLA CANINA:LA PELICULA', 'vote_average': 0},\n",
       " {'title': 'VOSE ¿QUIÉN ES QUIÉN?', 'vote_average': 0}]"
      ]
     },
     "metadata": {},
     "output_type": "display_data"
    },
    {
     "name": "stdout",
     "output_type": "stream",
     "text": [
      "{'title': 'DUNE', 'vote_average': 8.1} https://www.youtube.com/watch?v=URZHn_Dj7VU\n"
     ]
    }
   ],
   "source": [
    "display(result)\n",
    "print(result[0], url)"
   ]
  },
  {
   "cell_type": "code",
   "execution_count": 26,
   "metadata": {},
   "outputs": [
    {
     "data": {
      "image/jpeg": "[encoded data removed]",
      "text/html": [
       "\n",
       "        <iframe\n",
       "            width=\"400\"\n",
       "            height=\"300\"\n",
       "            src=\"https://www.youtube.com/embed/URZHn_Dj7VU\"\n",
       "            frameborder=\"0\"\n",
       "            allowfullscreen\n",
       "        ></iframe>\n",
       "        "
      ],
      "text/plain": [
       "<IPython.lib.display.YouTubeVideo at 0x7f32b00c1880>"
      ]
     },
     "execution_count": 26,
     "metadata": {},
     "output_type": "execute_result"
    }
   ],
   "source": [
    "from IPython.display import YouTubeVideo\n",
    "YouTubeVideo(url[url.index('=')+ 1:])"
   ]
  },
  {
   "cell_type": "code",
   "execution_count": 27,
   "metadata": {},
   "outputs": [],
   "source": [
    "browser.get(url)"
   ]
  }
 ],
 "metadata": {
  "kernelspec": {
   "display_name": "Python 3 (ipykernel)",
   "language": "python",
   "name": "python3"
  },
  "language_info": {
   "codemirror_mode": {
    "name": "ipython",
    "version": 3
   },
   "file_extension": ".py",
   "mimetype": "text/x-python",
   "name": "python",
   "nbconvert_exporter": "python",
   "pygments_lexer": "ipython3",
   "version": "3.8.12"
  }
 },
 "nbformat": 4,
 "nbformat_minor": 4
}
