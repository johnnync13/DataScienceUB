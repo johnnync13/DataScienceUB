{
 "cells": [
  {
   "cell_type": "markdown",
   "metadata": {},
   "source": [
    "1- **API EXERCISE:** \n",
    "\n",
    "\n",
    "Browse the moviedb API https://developers.themoviedb.org/3/getting-started/introduction and find the top 5 (5 most average_vote) trending movies for the last week (iterate through all the pages).\n",
    "\n",
    "For each movie, create a dictionary with name, release date and average vote, put in a list and show it.\n",
    "\n",
    "Store it in a Collection called Movies in the ADS MongoDB cloud Database"
   ]
  },
  {
   "cell_type": "code",
   "execution_count": 1,
   "metadata": {},
   "outputs": [],
   "source": [
    "import requests\n",
    "import json\n",
    "from tqdm import tqdm\n",
    "\n",
    "with open('api_key', 'r') as f:\n",
    "    API_KEY = f.read()\n",
    "\n",
    "url_trending = 'https://api.themoviedb.org/3/trending/movie/week'\n",
    "parameters_trending = {\"api_key\":API_KEY}\n",
    "fieldnames = [\"title\", \"release_date\", \"vote_average\"]\n"
   ]
  },
  {
   "cell_type": "code",
   "execution_count": 2,
   "metadata": {},
   "outputs": [
    {
     "name": "stderr",
     "output_type": "stream",
     "text": [
      "100%|███████████████████████████████████████| 1000/1000 [03:11<00:00,  5.22it/s]\n"
     ]
    }
   ],
   "source": [
    "res = requests.get(url_trending,params=parameters_trending).json()\n",
    "movies = []\n",
    "\n",
    "for i in tqdm(range(1, res['total_pages']+1)):\n",
    "    url_trending = 'https://api.themoviedb.org/3/trending/movie/week?api_key={}&page={}'.format(API_KEY,i)\n",
    "    res = requests.get(url_trending).json()\n",
    "    for movie in res[\"results\"]:\n",
    "        row = {}\n",
    "        for key in fieldnames:\n",
    "            if key in movie:\n",
    "                row[key] = movie[key]\n",
    "        movies.append(row)"
   ]
  },
  {
   "cell_type": "code",
   "execution_count": 3,
   "metadata": {},
   "outputs": [],
   "source": [
    "top_5 = sorted(movies, key= lambda x: x['vote_average'], reverse=True)[:5]"
   ]
  },
  {
   "cell_type": "code",
   "execution_count": 4,
   "metadata": {},
   "outputs": [
    {
     "data": {
      "text/plain": [
       "[{'title': 'My Name Is Pauli Murray',\n",
       "  'release_date': '2021-09-17',\n",
       "  'vote_average': 10.0},\n",
       " {'title': 'My Struggle', 'release_date': '2021-09-24', 'vote_average': 10.0},\n",
       " {'title': 'Paradox Lost', 'release_date': '2020-12-05', 'vote_average': 10.0},\n",
       " {'title': 'Under the Volcano',\n",
       "  'release_date': '2021-03-20',\n",
       "  'vote_average': 10.0},\n",
       " {'title': 'Miracle: Letters to the President',\n",
       "  'release_date': '2021-09-15',\n",
       "  'vote_average': 10.0}]"
      ]
     },
     "execution_count": 4,
     "metadata": {},
     "output_type": "execute_result"
    }
   ],
   "source": [
    "top_5"
   ]
  },
  {
   "cell_type": "code",
   "execution_count": 5,
   "metadata": {},
   "outputs": [
    {
     "name": "stdout",
     "output_type": "stream",
     "text": [
      "Connected successfully!!!\n"
     ]
    },
    {
     "data": {
      "text/plain": [
       "Database(MongoClient(host=['dataagile-shard-00-00.p4jpe.mongodb.net:27017', 'dataagile-shard-00-02.p4jpe.mongodb.net:27017', 'dataagile-shard-00-01.p4jpe.mongodb.net:27017'], document_class=dict, tz_aware=False, connect=True, retrywrites=True, w='majority', authsource='admin', replicaset='atlas-ksq9m0-shard-0', ssl=True, ssl_ca_certs='/home/johnny/anaconda3/lib/python3.8/site-packages/certifi/cacert.pem'), 'DataAgile')"
      ]
     },
     "execution_count": 5,
     "metadata": {},
     "output_type": "execute_result"
    }
   ],
   "source": [
    "import pymongo\n",
    "import certifi\n",
    "try:\n",
    "    #create a credentials.txt file in this folder:\n",
    "    #first line: Database username (not account username)\n",
    "    #second line: Database username password (not account password)\n",
    "    #third line: Databse url with port (you can find it in the cloud dashboard)\n",
    "    #fourth lin: Database name\n",
    "    if 'conn' in globals():\n",
    "        conn.close()\n",
    "        print(\"Closing\")\n",
    "    \n",
    "    with open(\"credentials.txt\", 'r') as f:\n",
    "        [name,password,url,dbname]=f.read().splitlines()\n",
    "    conn=pymongo.MongoClient(\"mongodb+srv://{}:{}@{}\".format(name,password,url),tlsCAFile=certifi.where())\n",
    "    \n",
    "    print (\"Connected successfully!!!\")\n",
    "    \n",
    "except pymongo.errors.ConnectionFailure as e:\n",
    "    print (\"Could not connect to MongoDB: %s\" % e) \n",
    "conn\n",
    "db = conn[dbname]\n",
    "db"
   ]
  },
  {
   "cell_type": "code",
   "execution_count": 6,
   "metadata": {},
   "outputs": [
    {
     "name": "stdout",
     "output_type": "stream",
     "text": [
      "Database(MongoClient(host=['dataagile-shard-00-00.p4jpe.mongodb.net:27017', 'dataagile-shard-00-02.p4jpe.mongodb.net:27017', 'dataagile-shard-00-01.p4jpe.mongodb.net:27017'], document_class=dict, tz_aware=False, connect=True, retrywrites=True, w='majority', authsource='admin', replicaset='atlas-ksq9m0-shard-0', ssl=True, ssl_ca_certs='/home/johnny/anaconda3/lib/python3.8/site-packages/certifi/cacert.pem'), 'DataAgile')\n"
     ]
    },
    {
     "data": {
      "text/plain": [
       "['DataAgile', 'admin', 'local']"
      ]
     },
     "execution_count": 6,
     "metadata": {},
     "output_type": "execute_result"
    }
   ],
   "source": [
    "conn.test\n",
    "db = conn['DataAgile']\n",
    "print (db)\n",
    "conn.list_database_names()"
   ]
  },
  {
   "cell_type": "code",
   "execution_count": 7,
   "metadata": {},
   "outputs": [
    {
     "data": {
      "text/plain": [
       "[]"
      ]
     },
     "execution_count": 7,
     "metadata": {},
     "output_type": "execute_result"
    }
   ],
   "source": [
    "db.drop_collection(\"movies\")\n",
    "collection = db.movies\n",
    "db.list_collection_names()"
   ]
  },
  {
   "cell_type": "code",
   "execution_count": 8,
   "metadata": {},
   "outputs": [],
   "source": [
    "x = collection.insert_many(top_5)"
   ]
  },
  {
   "cell_type": "code",
   "execution_count": 9,
   "metadata": {},
   "outputs": [],
   "source": [
    "conn.close()"
   ]
  }
 ],
 "metadata": {
  "kernelspec": {
   "display_name": "Python 3 (ipykernel)",
   "language": "python",
   "name": "python3"
  },
  "language_info": {
   "codemirror_mode": {
    "name": "ipython",
    "version": 3
   },
   "file_extension": ".py",
   "mimetype": "text/x-python",
   "name": "python",
   "nbconvert_exporter": "python",
   "pygments_lexer": "ipython3",
   "version": "3.8.11"
  }
 },
 "nbformat": 4,
 "nbformat_minor": 2
}
